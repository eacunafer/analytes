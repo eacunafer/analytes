{
 "cells": [
  {
   "cell_type": "markdown",
   "metadata": {},
   "source": [
    "### MLP for analytes classification on binned data using Keras\n",
    "#### Edgar Acuna\n",
    "#### June 2020"
   ]
  },
  {
   "cell_type": "code",
   "execution_count": 1,
   "metadata": {},
   "outputs": [],
   "source": [
    "import tensorflow as tf\n",
    "from tensorflow import keras\n",
    "import os\n",
    "import tempfile\n",
    "import matplotlib as mpl\n",
    "import matplotlib.pyplot as plt\n",
    "import numpy as np\n",
    "import seaborn as sns\n",
    "import sklearn\n",
    "from sklearn.model_selection import train_test_split\n",
    "import keras\n",
    "import pandas as pd\n",
    "from keras.models import Sequential\n",
    "from keras.layers import Dense\n",
    "from keras.layers import Dropout\n",
    "from keras.utils import to_categorical"
   ]
  },
  {
   "cell_type": "code",
   "execution_count": 2,
   "metadata": {},
   "outputs": [],
   "source": [
    "#loading the data\n",
    "df1=pd.read_csv(\"c://onr2020/NRLset1_part1.csv\",header=None)\n",
    "df2=pd.read_csv(\"c://onr2020/NRLset1_part2.csv\",header=None)\n",
    "df3=pd.read_csv(\"c://onr2020/NRLset1_part3.csv\",header=None)\n",
    "df4=pd.read_csv(\"c://onr2020/NRLset1_part4.csv\",header=None)\n",
    "df5=pd.read_csv(\"c://onr2020/NRLset1_part5.csv\",header=None)\n",
    "df6=pd.read_csv(\"c://onr2020/NRLset1_part6.csv\",header=None)\n",
    "df7=pd.read_csv(\"c://onr2020/NRLset1_part7.csv\",header=None)\n",
    "df8=pd.read_csv(\"c://onr2020/NRLset1_part8.csv\",header=None)\n",
    "y=pd.read_csv(\"c://onr2020/labels.csv\",header=None)"
   ]
  },
  {
   "cell_type": "code",
   "execution_count": 3,
   "metadata": {},
   "outputs": [],
   "source": [
    "dfset1=pd.concat([df1,df2,df3,df4,df5,df6,df7,df8],ignore_index=True)"
   ]
  },
  {
   "cell_type": "code",
   "execution_count": 4,
   "metadata": {},
   "outputs": [],
   "source": [
    "#Creating the binned dataset\n",
    "binned=np.zeros((18000,567))  \n",
    "for j in range(18000):\n",
    "    tempo=dfset1.iloc[j,:]\n",
    "    for i in range (0,1701,3):\n",
    "        k=int(i/3) \n",
    "        mean=(tempo[i] + tempo[i+1] + tempo[i+2])/3\n",
    "        binned[j,k]=mean\n",
    "b=pd.DataFrame(binned)\n"
   ]
  },
  {
   "cell_type": "code",
   "execution_count": 5,
   "metadata": {},
   "outputs": [],
   "source": [
    "# Configuration options\n",
    "feature_vector_length = 567\n",
    "num_classes = 18000"
   ]
  },
  {
   "cell_type": "code",
   "execution_count": 6,
   "metadata": {},
   "outputs": [
    {
     "name": "stdout",
     "output_type": "stream",
     "text": [
      "Train dimension:\n",
      "(12600, 567)\n",
      "Test dimension:\n",
      "(5400, 567)\n"
     ]
    }
   ],
   "source": [
    "X_train, X_test, Y_train, Y_test = train_test_split(b,y, test_size=0.3,random_state=0)\n",
    "print('Train dimension:');print(X_train.shape)\n",
    "print('Test dimension:');print(X_test.shape)\n",
    "\n",
    "# Convert target classes to categorical ones\n",
    "Y_train = to_categorical(Y_train, num_classes)\n",
    "Y_test = to_categorical(Y_test, num_classes)"
   ]
  },
  {
   "cell_type": "code",
   "execution_count": 7,
   "metadata": {},
   "outputs": [
    {
     "name": "stdout",
     "output_type": "stream",
     "text": [
      "Feature shape: (567,)\n",
      "Model: \"sequential\"\n",
      "_________________________________________________________________\n",
      "Layer (type)                 Output Shape              Param #   \n",
      "=================================================================\n",
      "dropout (Dropout)            (None, 567)               0         \n",
      "_________________________________________________________________\n",
      "dense (Dense)                (None, 400)               227200    \n",
      "_________________________________________________________________\n",
      "dense_1 (Dense)              (None, 50)                20050     \n",
      "_________________________________________________________________\n",
      "dense_2 (Dense)              (None, 18000)             918000    \n",
      "=================================================================\n",
      "Total params: 1,165,250\n",
      "Trainable params: 1,165,250\n",
      "Non-trainable params: 0\n",
      "_________________________________________________________________\n"
     ]
    }
   ],
   "source": [
    "# Set the input shape\n",
    "input_shape = (feature_vector_length,)\n",
    "print(f'Feature shape: {input_shape}')\n",
    "\n",
    "# Create the model\n",
    "model = Sequential()\n",
    "model.add(Dropout(0.2, input_shape=input_shape))\n",
    "model.add(Dense(400, input_shape=input_shape, activation='relu'))\n",
    "model.add(Dense(50, activation='relu'))\n",
    "model.add(Dense(num_classes, activation='softmax'))\n",
    "model.summary()"
   ]
  },
  {
   "cell_type": "code",
   "execution_count": 8,
   "metadata": {},
   "outputs": [
    {
     "name": "stdout",
     "output_type": "stream",
     "text": [
      "Epoch 1/100\n",
      "202/202 [==============================] - 4s 16ms/step - loss: 5.8246 - accuracy: 0.0244 - val_loss: 3.8004 - val_accuracy: 0.0250\n",
      "Epoch 2/100\n",
      "202/202 [==============================] - 2s 12ms/step - loss: 3.7680 - accuracy: 0.0249 - val_loss: 3.6950 - val_accuracy: 0.0258\n",
      "Epoch 3/100\n",
      "202/202 [==============================] - 2s 12ms/step - loss: 3.7001 - accuracy: 0.0275 - val_loss: 3.6880 - val_accuracy: 0.0218\n",
      "Epoch 4/100\n",
      "202/202 [==============================] - 2s 12ms/step - loss: 3.6889 - accuracy: 0.0281 - val_loss: 3.6883 - val_accuracy: 0.0401\n",
      "Epoch 5/100\n",
      "202/202 [==============================] - 2s 12ms/step - loss: 3.6809 - accuracy: 0.0325 - val_loss: 3.6632 - val_accuracy: 0.0373\n",
      "Epoch 6/100\n",
      "202/202 [==============================] - 2s 12ms/step - loss: 3.6660 - accuracy: 0.0370 - val_loss: 3.6199 - val_accuracy: 0.0385\n",
      "Epoch 7/100\n",
      "202/202 [==============================] - 2s 12ms/step - loss: 3.6127 - accuracy: 0.0490 - val_loss: 3.5230 - val_accuracy: 0.0655\n",
      "Epoch 8/100\n",
      "202/202 [==============================] - 3s 13ms/step - loss: 3.5484 - accuracy: 0.0592 - val_loss: 3.4544 - val_accuracy: 0.0583\n",
      "Epoch 9/100\n",
      "202/202 [==============================] - 3s 13ms/step - loss: 3.4854 - accuracy: 0.0734 - val_loss: 3.3950 - val_accuracy: 0.0976\n",
      "Epoch 10/100\n",
      "202/202 [==============================] - 3s 13ms/step - loss: 3.4433 - accuracy: 0.0833 - val_loss: 3.2589 - val_accuracy: 0.1381\n",
      "Epoch 11/100\n",
      "202/202 [==============================] - 3s 14ms/step - loss: 3.3621 - accuracy: 0.1036 - val_loss: 3.1593 - val_accuracy: 0.1679\n",
      "Epoch 12/100\n",
      "202/202 [==============================] - 3s 13ms/step - loss: 3.2852 - accuracy: 0.1162 - val_loss: 3.1214 - val_accuracy: 0.1857\n",
      "Epoch 13/100\n",
      "202/202 [==============================] - 3s 13ms/step - loss: 3.2281 - accuracy: 0.1261 - val_loss: 3.0156 - val_accuracy: 0.2365\n",
      "Epoch 14/100\n",
      "202/202 [==============================] - 3s 13ms/step - loss: 3.1768 - accuracy: 0.1529 - val_loss: 2.9800 - val_accuracy: 0.2337\n",
      "Epoch 15/100\n",
      "202/202 [==============================] - 3s 13ms/step - loss: 3.1188 - accuracy: 0.1707 - val_loss: 2.8795 - val_accuracy: 0.2563\n",
      "Epoch 16/100\n",
      "202/202 [==============================] - 3s 13ms/step - loss: 3.0891 - accuracy: 0.1767 - val_loss: 2.8010 - val_accuracy: 0.2766\n",
      "Epoch 17/100\n",
      "202/202 [==============================] - 3s 14ms/step - loss: 3.0422 - accuracy: 0.1890 - val_loss: 2.7868 - val_accuracy: 0.2774\n",
      "Epoch 18/100\n",
      "202/202 [==============================] - 3s 13ms/step - loss: 2.9853 - accuracy: 0.2047 - val_loss: 2.7286 - val_accuracy: 0.3175\n",
      "Epoch 19/100\n",
      "202/202 [==============================] - 3s 13ms/step - loss: 2.9381 - accuracy: 0.2129 - val_loss: 2.6481 - val_accuracy: 0.3595\n",
      "Epoch 20/100\n",
      "202/202 [==============================] - 3s 13ms/step - loss: 2.9135 - accuracy: 0.2221 - val_loss: 2.6360 - val_accuracy: 0.3306\n",
      "Epoch 21/100\n",
      "202/202 [==============================] - 3s 13ms/step - loss: 2.8686 - accuracy: 0.2331 - val_loss: 2.5273 - val_accuracy: 0.3671\n",
      "Epoch 22/100\n",
      "202/202 [==============================] - 3s 13ms/step - loss: 2.8129 - accuracy: 0.2499 - val_loss: 2.5403 - val_accuracy: 0.3647\n",
      "Epoch 23/100\n",
      "202/202 [==============================] - 3s 14ms/step - loss: 2.8248 - accuracy: 0.2509 - val_loss: 2.4855 - val_accuracy: 0.3956\n",
      "Epoch 24/100\n",
      "202/202 [==============================] - 3s 13ms/step - loss: 2.7764 - accuracy: 0.2548 - val_loss: 2.4827 - val_accuracy: 0.3885\n",
      "Epoch 25/100\n",
      "202/202 [==============================] - 3s 13ms/step - loss: 2.7204 - accuracy: 0.2688 - val_loss: 2.4215 - val_accuracy: 0.4091\n",
      "Epoch 26/100\n",
      "202/202 [==============================] - 3s 14ms/step - loss: 2.6947 - accuracy: 0.2853 - val_loss: 2.3506 - val_accuracy: 0.4480\n",
      "Epoch 27/100\n",
      "202/202 [==============================] - 3s 13ms/step - loss: 2.6391 - accuracy: 0.2900 - val_loss: 2.3328 - val_accuracy: 0.4369\n",
      "Epoch 28/100\n",
      "202/202 [==============================] - 3s 13ms/step - loss: 2.6326 - accuracy: 0.2917 - val_loss: 2.3363 - val_accuracy: 0.4063\n",
      "Epoch 29/100\n",
      "202/202 [==============================] - 3s 14ms/step - loss: 2.6207 - accuracy: 0.2998 - val_loss: 2.2697 - val_accuracy: 0.4540\n",
      "Epoch 30/100\n",
      "202/202 [==============================] - 3s 14ms/step - loss: 2.6187 - accuracy: 0.2967 - val_loss: 2.2486 - val_accuracy: 0.4448\n",
      "Epoch 31/100\n",
      "202/202 [==============================] - 3s 14ms/step - loss: 2.5600 - accuracy: 0.3120 - val_loss: 2.2022 - val_accuracy: 0.4786\n",
      "Epoch 32/100\n",
      "202/202 [==============================] - 3s 14ms/step - loss: 2.5336 - accuracy: 0.3224 - val_loss: 2.2290 - val_accuracy: 0.4710\n",
      "Epoch 33/100\n",
      "202/202 [==============================] - 3s 14ms/step - loss: 2.5210 - accuracy: 0.3230 - val_loss: 2.1763 - val_accuracy: 0.4679\n",
      "Epoch 34/100\n",
      "202/202 [==============================] - 3s 14ms/step - loss: 2.4569 - accuracy: 0.3313 - val_loss: 2.2027 - val_accuracy: 0.4595\n",
      "Epoch 35/100\n",
      "202/202 [==============================] - 3s 14ms/step - loss: 2.5053 - accuracy: 0.3287 - val_loss: 2.1124 - val_accuracy: 0.5194\n",
      "Epoch 36/100\n",
      "202/202 [==============================] - 3s 14ms/step - loss: 2.4582 - accuracy: 0.3370 - val_loss: 2.0681 - val_accuracy: 0.5032\n",
      "Epoch 37/100\n",
      "202/202 [==============================] - 3s 14ms/step - loss: 2.4347 - accuracy: 0.3408 - val_loss: 2.0835 - val_accuracy: 0.4940\n",
      "Epoch 38/100\n",
      "202/202 [==============================] - 3s 14ms/step - loss: 2.4374 - accuracy: 0.3418 - val_loss: 2.0570 - val_accuracy: 0.5115\n",
      "Epoch 39/100\n",
      "202/202 [==============================] - 3s 14ms/step - loss: 2.4284 - accuracy: 0.3512 - val_loss: 2.0931 - val_accuracy: 0.4837\n",
      "Epoch 40/100\n",
      "202/202 [==============================] - 3s 14ms/step - loss: 2.3990 - accuracy: 0.3514 - val_loss: 2.0551 - val_accuracy: 0.4968\n",
      "Epoch 41/100\n",
      "202/202 [==============================] - 3s 14ms/step - loss: 2.4020 - accuracy: 0.3456 - val_loss: 2.0149 - val_accuracy: 0.5278\n",
      "Epoch 42/100\n",
      "202/202 [==============================] - 3s 14ms/step - loss: 2.4120 - accuracy: 0.3488 - val_loss: 1.9729 - val_accuracy: 0.5433\n",
      "Epoch 43/100\n",
      "202/202 [==============================] - 3s 14ms/step - loss: 2.4286 - accuracy: 0.3443 - val_loss: 1.9969 - val_accuracy: 0.5004\n",
      "Epoch 44/100\n",
      "202/202 [==============================] - 3s 14ms/step - loss: 2.3748 - accuracy: 0.3630 - val_loss: 2.0289 - val_accuracy: 0.4917\n",
      "Epoch 45/100\n",
      "202/202 [==============================] - 3s 14ms/step - loss: 2.3485 - accuracy: 0.3640 - val_loss: 1.9738 - val_accuracy: 0.5198\n",
      "Epoch 46/100\n",
      "202/202 [==============================] - 3s 14ms/step - loss: 2.3731 - accuracy: 0.3641 - val_loss: 1.9737 - val_accuracy: 0.5131\n",
      "Epoch 47/100\n",
      "202/202 [==============================] - 3s 14ms/step - loss: 2.3421 - accuracy: 0.3739 - val_loss: 1.9558 - val_accuracy: 0.5313\n",
      "Epoch 48/100\n",
      "202/202 [==============================] - 3s 14ms/step - loss: 2.3518 - accuracy: 0.3581 - val_loss: 1.9222 - val_accuracy: 0.5321\n",
      "Epoch 49/100\n",
      "202/202 [==============================] - 3s 14ms/step - loss: 2.3338 - accuracy: 0.3534 - val_loss: 1.9482 - val_accuracy: 0.5095\n",
      "Epoch 50/100\n",
      "202/202 [==============================] - 3s 14ms/step - loss: 2.3276 - accuracy: 0.3762 - val_loss: 1.9295 - val_accuracy: 0.5377\n",
      "Epoch 51/100\n",
      "202/202 [==============================] - 3s 14ms/step - loss: 2.2922 - accuracy: 0.3736 - val_loss: 1.9524 - val_accuracy: 0.5103\n",
      "Epoch 52/100\n",
      "202/202 [==============================] - 3s 14ms/step - loss: 2.3075 - accuracy: 0.3723 - val_loss: 1.9094 - val_accuracy: 0.5242\n",
      "Epoch 53/100\n",
      "202/202 [==============================] - 3s 14ms/step - loss: 2.3060 - accuracy: 0.3709 - val_loss: 1.8875 - val_accuracy: 0.5389\n",
      "Epoch 54/100\n",
      "202/202 [==============================] - 3s 14ms/step - loss: 2.2880 - accuracy: 0.3751 - val_loss: 1.8649 - val_accuracy: 0.5655\n",
      "Epoch 55/100\n",
      "202/202 [==============================] - 3s 15ms/step - loss: 2.2529 - accuracy: 0.3858 - val_loss: 1.8671 - val_accuracy: 0.5425\n",
      "Epoch 56/100\n",
      "202/202 [==============================] - 3s 14ms/step - loss: 2.3020 - accuracy: 0.3753 - val_loss: 1.8745 - val_accuracy: 0.5425\n",
      "Epoch 57/100\n"
     ]
    },
    {
     "name": "stdout",
     "output_type": "stream",
     "text": [
      "202/202 [==============================] - 3s 14ms/step - loss: 2.2763 - accuracy: 0.3733 - val_loss: 1.9270 - val_accuracy: 0.5171\n",
      "Epoch 58/100\n",
      "202/202 [==============================] - 3s 14ms/step - loss: 2.2871 - accuracy: 0.3785 - val_loss: 1.8540 - val_accuracy: 0.5607\n",
      "Epoch 59/100\n",
      "202/202 [==============================] - 3s 14ms/step - loss: 2.2769 - accuracy: 0.3841 - val_loss: 1.8681 - val_accuracy: 0.5254\n",
      "Epoch 60/100\n",
      "202/202 [==============================] - 3s 15ms/step - loss: 2.2942 - accuracy: 0.3743 - val_loss: 1.8510 - val_accuracy: 0.5794\n",
      "Epoch 61/100\n",
      "202/202 [==============================] - 3s 14ms/step - loss: 2.2594 - accuracy: 0.3852 - val_loss: 1.8676 - val_accuracy: 0.5520\n",
      "Epoch 62/100\n",
      "202/202 [==============================] - 3s 14ms/step - loss: 2.2709 - accuracy: 0.3875 - val_loss: 1.8649 - val_accuracy: 0.5381\n",
      "Epoch 63/100\n",
      "202/202 [==============================] - 3s 15ms/step - loss: 2.2657 - accuracy: 0.3791 - val_loss: 1.8291 - val_accuracy: 0.5508\n",
      "Epoch 64/100\n",
      "202/202 [==============================] - 3s 15ms/step - loss: 2.2299 - accuracy: 0.3918 - val_loss: 1.8349 - val_accuracy: 0.5528\n",
      "Epoch 65/100\n",
      "202/202 [==============================] - 3s 15ms/step - loss: 2.2242 - accuracy: 0.4013 - val_loss: 1.8592 - val_accuracy: 0.5373\n",
      "Epoch 66/100\n",
      "202/202 [==============================] - 3s 15ms/step - loss: 2.2312 - accuracy: 0.3835 - val_loss: 1.8244 - val_accuracy: 0.5595\n",
      "Epoch 67/100\n",
      "202/202 [==============================] - 3s 14ms/step - loss: 2.2475 - accuracy: 0.3865 - val_loss: 1.8062 - val_accuracy: 0.5583\n",
      "Epoch 68/100\n",
      "202/202 [==============================] - 3s 15ms/step - loss: 2.2468 - accuracy: 0.3847 - val_loss: 1.7795 - val_accuracy: 0.5806\n",
      "Epoch 69/100\n",
      "202/202 [==============================] - 3s 15ms/step - loss: 2.2401 - accuracy: 0.3866 - val_loss: 1.8348 - val_accuracy: 0.5472\n",
      "Epoch 70/100\n",
      "202/202 [==============================] - 3s 15ms/step - loss: 2.2184 - accuracy: 0.3922 - val_loss: 1.8238 - val_accuracy: 0.5484\n",
      "Epoch 71/100\n",
      "202/202 [==============================] - 3s 16ms/step - loss: 2.2588 - accuracy: 0.3835 - val_loss: 1.8022 - val_accuracy: 0.5631\n",
      "Epoch 72/100\n",
      "202/202 [==============================] - 3s 15ms/step - loss: 2.2408 - accuracy: 0.3842 - val_loss: 1.7680 - val_accuracy: 0.5833\n",
      "Epoch 73/100\n",
      "202/202 [==============================] - 3s 15ms/step - loss: 2.2317 - accuracy: 0.3925 - val_loss: 1.7799 - val_accuracy: 0.5627\n",
      "Epoch 74/100\n",
      "202/202 [==============================] - 3s 15ms/step - loss: 2.1927 - accuracy: 0.4003 - val_loss: 1.7847 - val_accuracy: 0.5615\n",
      "Epoch 75/100\n",
      "202/202 [==============================] - 3s 15ms/step - loss: 2.2020 - accuracy: 0.3937 - val_loss: 1.8017 - val_accuracy: 0.5401\n",
      "Epoch 76/100\n",
      "202/202 [==============================] - 3s 16ms/step - loss: 2.2162 - accuracy: 0.3937 - val_loss: 1.7848 - val_accuracy: 0.5381\n",
      "Epoch 77/100\n",
      "202/202 [==============================] - 3s 15ms/step - loss: 2.2205 - accuracy: 0.3839 - val_loss: 1.7600 - val_accuracy: 0.5845\n",
      "Epoch 78/100\n",
      "202/202 [==============================] - 3s 15ms/step - loss: 2.1945 - accuracy: 0.3968 - val_loss: 1.7917 - val_accuracy: 0.5516\n",
      "Epoch 79/100\n",
      "202/202 [==============================] - 3s 15ms/step - loss: 2.1871 - accuracy: 0.4054 - val_loss: 1.7967 - val_accuracy: 0.5532\n",
      "Epoch 80/100\n",
      "202/202 [==============================] - 3s 15ms/step - loss: 2.2221 - accuracy: 0.3903 - val_loss: 1.7484 - val_accuracy: 0.5929\n",
      "Epoch 81/100\n",
      "202/202 [==============================] - 3s 16ms/step - loss: 2.1826 - accuracy: 0.4008 - val_loss: 1.7779 - val_accuracy: 0.5635\n",
      "Epoch 82/100\n",
      "202/202 [==============================] - 3s 16ms/step - loss: 2.2081 - accuracy: 0.4017 - val_loss: 1.7688 - val_accuracy: 0.5599\n",
      "Epoch 83/100\n",
      "202/202 [==============================] - 3s 15ms/step - loss: 2.1816 - accuracy: 0.4075 - val_loss: 1.7461 - val_accuracy: 0.5853\n",
      "Epoch 84/100\n",
      "202/202 [==============================] - 3s 15ms/step - loss: 2.1552 - accuracy: 0.4033 - val_loss: 1.7538 - val_accuracy: 0.5690\n",
      "Epoch 85/100\n",
      "202/202 [==============================] - 3s 16ms/step - loss: 2.1732 - accuracy: 0.4037 - val_loss: 1.7434 - val_accuracy: 0.5861\n",
      "Epoch 86/100\n",
      "202/202 [==============================] - 3s 16ms/step - loss: 2.1505 - accuracy: 0.4133 - val_loss: 1.7641 - val_accuracy: 0.5690\n",
      "Epoch 87/100\n",
      "202/202 [==============================] - 3s 15ms/step - loss: 2.1787 - accuracy: 0.4081 - val_loss: 1.7697 - val_accuracy: 0.5829\n",
      "Epoch 88/100\n",
      "202/202 [==============================] - 3s 15ms/step - loss: 2.1616 - accuracy: 0.4110 - val_loss: 1.7251 - val_accuracy: 0.5988\n",
      "Epoch 89/100\n",
      "202/202 [==============================] - 3s 15ms/step - loss: 2.1682 - accuracy: 0.4023 - val_loss: 1.7329 - val_accuracy: 0.5929\n",
      "Epoch 90/100\n",
      "202/202 [==============================] - 3s 15ms/step - loss: 2.1448 - accuracy: 0.4145 - val_loss: 1.7293 - val_accuracy: 0.5885\n",
      "Epoch 91/100\n",
      "202/202 [==============================] - 3s 16ms/step - loss: 2.1601 - accuracy: 0.4104 - val_loss: 1.7837 - val_accuracy: 0.5579\n",
      "Epoch 92/100\n",
      "202/202 [==============================] - 3s 16ms/step - loss: 2.1654 - accuracy: 0.4068 - val_loss: 1.7551 - val_accuracy: 0.5591\n",
      "Epoch 93/100\n",
      "202/202 [==============================] - 3s 15ms/step - loss: 2.1453 - accuracy: 0.4097 - val_loss: 1.7312 - val_accuracy: 0.5984\n",
      "Epoch 94/100\n",
      "202/202 [==============================] - 3s 15ms/step - loss: 2.1612 - accuracy: 0.4178 - val_loss: 1.7177 - val_accuracy: 0.5758\n",
      "Epoch 95/100\n",
      "202/202 [==============================] - 3s 16ms/step - loss: 2.1609 - accuracy: 0.4086 - val_loss: 1.7057 - val_accuracy: 0.6274\n",
      "Epoch 96/100\n",
      "202/202 [==============================] - 3s 16ms/step - loss: 2.1619 - accuracy: 0.4109 - val_loss: 1.7256 - val_accuracy: 0.5956\n",
      "Epoch 97/100\n",
      "202/202 [==============================] - 3s 16ms/step - loss: 2.1748 - accuracy: 0.4091 - val_loss: 1.7105 - val_accuracy: 0.5933\n",
      "Epoch 98/100\n",
      "202/202 [==============================] - 3s 15ms/step - loss: 2.1488 - accuracy: 0.4143 - val_loss: 1.7079 - val_accuracy: 0.5802\n",
      "Epoch 99/100\n",
      "202/202 [==============================] - 3s 15ms/step - loss: 2.1405 - accuracy: 0.4179 - val_loss: 1.6946 - val_accuracy: 0.5869\n",
      "Epoch 100/100\n",
      "202/202 [==============================] - 3s 15ms/step - loss: 2.1164 - accuracy: 0.4169 - val_loss: 1.7337 - val_accuracy: 0.5988\n"
     ]
    }
   ],
   "source": [
    "# Configure the model and start training\n",
    "model.compile(loss='categorical_crossentropy', optimizer='adam', metrics=['accuracy'])\n",
    "baseline_history=model.fit(X_train, Y_train, epochs=100, batch_size=50, verbose=1, validation_split=0.2)"
   ]
  },
  {
   "cell_type": "code",
   "execution_count": 9,
   "metadata": {},
   "outputs": [
    {
     "name": "stdout",
     "output_type": "stream",
     "text": [
      "169/169 [==============================] - 1s 8ms/step - loss: 1.8073 - accuracy: 0.5720\n",
      "[1.8073185682296753, 0.5720370411872864]\n",
      "Test results - Loss: 1.8073185682296753 - Accuracy: 0.5720370411872864%\n"
     ]
    }
   ],
   "source": [
    "# Test the model after training\n",
    "test_results = model.evaluate(X_test, Y_test, verbose=1)\n",
    "print(test_results)\n",
    "print(f'Test results - Loss: {test_results[0]} - Accuracy: {test_results[1]}%')"
   ]
  },
  {
   "cell_type": "markdown",
   "metadata": {},
   "source": [
    "### 2.  Classification of the first analyte"
   ]
  },
  {
   "cell_type": "code",
   "execution_count": 10,
   "metadata": {},
   "outputs": [],
   "source": [
    "labels=list(range(1,41))"
   ]
  },
  {
   "cell_type": "code",
   "execution_count": 11,
   "metadata": {},
   "outputs": [
    {
     "name": "stdout",
     "output_type": "stream",
     "text": [
      "Train dimension:\n",
      "(12600, 567)\n",
      "Test dimension:\n",
      "(5400, 567)\n"
     ]
    }
   ],
   "source": [
    "yclass=y.copy()\n",
    "yclass[yclass!=1]=0\n",
    "X_train, X_test, yclass_train, yclass_test = train_test_split(b,yclass,test_size=0.3,random_state=0)\n",
    "print('Train dimension:');print(X_train.shape)\n",
    "print('Test dimension:');print(X_test.shape)\n",
    "Y_train = to_categorical(yclass_train, num_classes)\n",
    "Y_test = to_categorical(yclass_test, num_classes)"
   ]
  },
  {
   "cell_type": "code",
   "execution_count": 12,
   "metadata": {},
   "outputs": [
    {
     "name": "stdout",
     "output_type": "stream",
     "text": [
      "Feature shape: (567,)\n",
      "Model: \"sequential_1\"\n",
      "_________________________________________________________________\n",
      "Layer (type)                 Output Shape              Param #   \n",
      "=================================================================\n",
      "dropout_1 (Dropout)          (None, 567)               0         \n",
      "_________________________________________________________________\n",
      "dense_3 (Dense)              (None, 400)               227200    \n",
      "_________________________________________________________________\n",
      "dense_4 (Dense)              (None, 50)                20050     \n",
      "_________________________________________________________________\n",
      "dense_5 (Dense)              (None, 18000)             918000    \n",
      "=================================================================\n",
      "Total params: 1,165,250\n",
      "Trainable params: 1,165,250\n",
      "Non-trainable params: 0\n",
      "_________________________________________________________________\n"
     ]
    }
   ],
   "source": [
    "# Set the input shape\n",
    "input_shape = (feature_vector_length,)\n",
    "print(f'Feature shape: {input_shape}')\n",
    "\n",
    "# Create the model\n",
    "model = Sequential()\n",
    "model.add(Dropout(0.3, input_shape=input_shape))\n",
    "model.add(Dense(400, input_shape=input_shape, activation='relu'))\n",
    "model.add(Dense(50, activation='relu'))\n",
    "model.add(Dense(num_classes, activation='softmax'))\n",
    "model.summary()"
   ]
  },
  {
   "cell_type": "code",
   "execution_count": 13,
   "metadata": {},
   "outputs": [
    {
     "name": "stdout",
     "output_type": "stream",
     "text": [
      "Epoch 1/50\n",
      "101/101 [==============================] - 6s 51ms/step - loss: 4.4346 - accuracy: 1.0000 - precision: 0.8777 - recall: 0.4296 - val_loss: 0.3672 - val_accuracy: 1.0000 - val_precision: 0.9718 - val_recall: 0.9587\n",
      "Epoch 2/50\n",
      "101/101 [==============================] - 5s 47ms/step - loss: 0.2748 - accuracy: 1.0000 - precision: 0.9779 - recall: 0.9670 - val_loss: 0.3083 - val_accuracy: 1.0000 - val_precision: 0.9717 - val_recall: 0.9683\n",
      "Epoch 3/50\n",
      "101/101 [==============================] - 5s 47ms/step - loss: 0.2597 - accuracy: 1.0000 - precision: 0.9752 - recall: 0.9722 - val_loss: 0.2675 - val_accuracy: 1.0000 - val_precision: 0.9718 - val_recall: 0.9718\n",
      "Epoch 4/50\n",
      "101/101 [==============================] - 5s 47ms/step - loss: 0.2233 - accuracy: 1.0000 - precision: 0.9764 - recall: 0.9764 - val_loss: 0.2530 - val_accuracy: 1.0000 - val_precision: 0.9718 - val_recall: 0.9718\n",
      "Epoch 5/50\n",
      "101/101 [==============================] - 4s 43ms/step - loss: 0.1852 - accuracy: 1.0000 - precision: 0.9798 - recall: 0.9798 - val_loss: 0.1979 - val_accuracy: 1.0000 - val_precision: 0.9718 - val_recall: 0.9718\n",
      "Epoch 6/50\n",
      "101/101 [==============================] - 4s 43ms/step - loss: 0.1303 - accuracy: 1.0000 - precision: 0.9773 - recall: 0.9773 - val_loss: 0.2131 - val_accuracy: 1.0000 - val_precision: 0.9718 - val_recall: 0.9718\n",
      "Epoch 7/50\n",
      "101/101 [==============================] - 4s 43ms/step - loss: 0.1318 - accuracy: 1.0000 - precision: 0.9766 - recall: 0.9766 - val_loss: 0.1228 - val_accuracy: 1.0000 - val_precision: 0.9718 - val_recall: 0.9718\n",
      "Epoch 8/50\n",
      "101/101 [==============================] - 5s 46ms/step - loss: 0.1173 - accuracy: 1.0000 - precision: 0.9774 - recall: 0.9774 - val_loss: 0.1458 - val_accuracy: 1.0000 - val_precision: 0.9718 - val_recall: 0.9718\n",
      "Epoch 9/50\n",
      "101/101 [==============================] - 4s 44ms/step - loss: 0.1144 - accuracy: 1.0000 - precision: 0.9769 - recall: 0.9769 - val_loss: 0.1062 - val_accuracy: 1.0000 - val_precision: 0.9730 - val_recall: 0.9730\n",
      "Epoch 10/50\n",
      "101/101 [==============================] - 4s 44ms/step - loss: 0.1037 - accuracy: 1.0000 - precision: 0.9766 - recall: 0.9766 - val_loss: 0.1276 - val_accuracy: 1.0000 - val_precision: 0.9718 - val_recall: 0.9718\n",
      "Epoch 11/50\n",
      "101/101 [==============================] - 5s 45ms/step - loss: 0.1179 - accuracy: 1.0000 - precision: 0.9741 - recall: 0.9741 - val_loss: 0.1089 - val_accuracy: 1.0000 - val_precision: 0.9730 - val_recall: 0.9730\n",
      "Epoch 12/50\n",
      "101/101 [==============================] - 4s 42ms/step - loss: 0.0915 - accuracy: 1.0000 - precision: 0.9795 - recall: 0.9795 - val_loss: 0.1063 - val_accuracy: 1.0000 - val_precision: 0.9734 - val_recall: 0.9734\n",
      "Epoch 13/50\n",
      "101/101 [==============================] - 4s 41ms/step - loss: 0.0935 - accuracy: 1.0000 - precision: 0.9781 - recall: 0.9781 - val_loss: 0.1373 - val_accuracy: 1.0000 - val_precision: 0.9718 - val_recall: 0.9718\n",
      "Epoch 14/50\n",
      "101/101 [==============================] - 4s 40ms/step - loss: 0.0925 - accuracy: 1.0000 - precision: 0.9801 - recall: 0.9801 - val_loss: 0.1052 - val_accuracy: 1.0000 - val_precision: 0.9734 - val_recall: 0.9734\n",
      "Epoch 15/50\n",
      "101/101 [==============================] - 4s 44ms/step - loss: 0.0912 - accuracy: 1.0000 - precision: 0.9782 - recall: 0.9782 - val_loss: 0.0929 - val_accuracy: 1.0000 - val_precision: 0.9774 - val_recall: 0.9774\n",
      "Epoch 16/50\n",
      "101/101 [==============================] - 4s 42ms/step - loss: 0.0896 - accuracy: 1.0000 - precision: 0.9798 - recall: 0.9798 - val_loss: 0.1003 - val_accuracy: 1.0000 - val_precision: 0.9738 - val_recall: 0.9738\n",
      "Epoch 17/50\n",
      "101/101 [==============================] - 4s 40ms/step - loss: 0.0899 - accuracy: 1.0000 - precision: 0.9794 - recall: 0.9794 - val_loss: 0.0906 - val_accuracy: 1.0000 - val_precision: 0.9790 - val_recall: 0.9790\n",
      "Epoch 18/50\n",
      "101/101 [==============================] - 4s 40ms/step - loss: 0.0851 - accuracy: 1.0000 - precision: 0.9813 - recall: 0.9813 - val_loss: 0.0949 - val_accuracy: 1.0000 - val_precision: 0.9790 - val_recall: 0.9790\n",
      "Epoch 19/50\n",
      "101/101 [==============================] - 4s 40ms/step - loss: 0.0858 - accuracy: 1.0000 - precision: 0.9808 - recall: 0.9808 - val_loss: 0.1031 - val_accuracy: 1.0000 - val_precision: 0.9734 - val_recall: 0.9734\n",
      "Epoch 20/50\n",
      "101/101 [==============================] - 4s 41ms/step - loss: 0.0967 - accuracy: 1.0000 - precision: 0.9774 - recall: 0.9774 - val_loss: 0.1128 - val_accuracy: 1.0000 - val_precision: 0.9734 - val_recall: 0.9734\n",
      "Epoch 21/50\n",
      "101/101 [==============================] - 4s 40ms/step - loss: 0.0837 - accuracy: 1.0000 - precision: 0.9807 - recall: 0.9807 - val_loss: 0.0932 - val_accuracy: 1.0000 - val_precision: 0.9758 - val_recall: 0.9758\n",
      "Epoch 22/50\n",
      "101/101 [==============================] - 4s 38ms/step - loss: 0.0962 - accuracy: 1.0000 - precision: 0.9771 - recall: 0.9771 - val_loss: 0.0922 - val_accuracy: 1.0000 - val_precision: 0.9770 - val_recall: 0.9770\n",
      "Epoch 23/50\n",
      "101/101 [==============================] - 4s 38ms/step - loss: 0.0824 - accuracy: 1.0000 - precision: 0.9805 - recall: 0.9805 - val_loss: 0.0957 - val_accuracy: 1.0000 - val_precision: 0.9750 - val_recall: 0.9750\n",
      "Epoch 24/50\n",
      "101/101 [==============================] - 4s 37ms/step - loss: 0.0820 - accuracy: 1.0000 - precision: 0.9811 - recall: 0.9811 - val_loss: 0.0976 - val_accuracy: 1.0000 - val_precision: 0.9750 - val_recall: 0.9750\n",
      "Epoch 25/50\n",
      "101/101 [==============================] - 4s 38ms/step - loss: 0.0799 - accuracy: 1.0000 - precision: 0.9802 - recall: 0.9802 - val_loss: 0.0879 - val_accuracy: 1.0000 - val_precision: 0.9778 - val_recall: 0.9778\n",
      "Epoch 26/50\n",
      "101/101 [==============================] - 4s 37ms/step - loss: 0.0866 - accuracy: 1.0000 - precision: 0.9806 - recall: 0.9806 - val_loss: 0.0954 - val_accuracy: 1.0000 - val_precision: 0.9746 - val_recall: 0.9746\n",
      "Epoch 27/50\n",
      "101/101 [==============================] - 4s 37ms/step - loss: 0.0849 - accuracy: 1.0000 - precision: 0.9799 - recall: 0.9799 - val_loss: 0.0846 - val_accuracy: 1.0000 - val_precision: 0.9798 - val_recall: 0.9798\n",
      "Epoch 28/50\n",
      "101/101 [==============================] - 4s 37ms/step - loss: 0.0910 - accuracy: 1.0000 - precision: 0.9791 - recall: 0.9791 - val_loss: 0.0979 - val_accuracy: 1.0000 - val_precision: 0.9746 - val_recall: 0.9746\n",
      "Epoch 29/50\n",
      "101/101 [==============================] - 4s 37ms/step - loss: 0.0886 - accuracy: 1.0000 - precision: 0.9790 - recall: 0.9790 - val_loss: 0.0835 - val_accuracy: 1.0000 - val_precision: 0.9782 - val_recall: 0.9782\n",
      "Epoch 30/50\n",
      "101/101 [==============================] - 4s 38ms/step - loss: 0.0883 - accuracy: 1.0000 - precision: 0.9797 - recall: 0.9797 - val_loss: 0.0888 - val_accuracy: 1.0000 - val_precision: 0.9758 - val_recall: 0.9758\n",
      "Epoch 31/50\n",
      "101/101 [==============================] - 4s 37ms/step - loss: 0.0988 - accuracy: 1.0000 - precision: 0.9766 - recall: 0.9766 - val_loss: 0.0843 - val_accuracy: 1.0000 - val_precision: 0.9782 - val_recall: 0.9782\n",
      "Epoch 32/50\n",
      "101/101 [==============================] - 4s 37ms/step - loss: 0.0830 - accuracy: 1.0000 - precision: 0.9811 - recall: 0.9811 - val_loss: 0.0975 - val_accuracy: 1.0000 - val_precision: 0.9754 - val_recall: 0.9754\n",
      "Epoch 33/50\n",
      "101/101 [==============================] - 4s 37ms/step - loss: 0.0737 - accuracy: 1.0000 - precision: 0.9818 - recall: 0.9818 - val_loss: 0.0823 - val_accuracy: 1.0000 - val_precision: 0.9790 - val_recall: 0.9790\n",
      "Epoch 34/50\n",
      "101/101 [==============================] - 4s 38ms/step - loss: 0.0872 - accuracy: 1.0000 - precision: 0.9789 - recall: 0.9789 - val_loss: 0.0832 - val_accuracy: 1.0000 - val_precision: 0.9782 - val_recall: 0.9782\n",
      "Epoch 35/50\n",
      "101/101 [==============================] - 4s 37ms/step - loss: 0.0878 - accuracy: 1.0000 - precision: 0.9775 - recall: 0.9774 - val_loss: 0.0882 - val_accuracy: 1.0000 - val_precision: 0.9758 - val_recall: 0.9758\n",
      "Epoch 36/50\n",
      "101/101 [==============================] - 4s 37ms/step - loss: 0.0836 - accuracy: 1.0000 - precision: 0.9794 - recall: 0.9794 - val_loss: 0.0900 - val_accuracy: 1.0000 - val_precision: 0.9770 - val_recall: 0.9770\n",
      "Epoch 37/50\n"
     ]
    },
    {
     "name": "stdout",
     "output_type": "stream",
     "text": [
      "101/101 [==============================] - 4s 36ms/step - loss: 0.0830 - accuracy: 1.0000 - precision: 0.9801 - recall: 0.9801 - val_loss: 0.0854 - val_accuracy: 1.0000 - val_precision: 0.9778 - val_recall: 0.9778\n",
      "Epoch 38/50\n",
      "101/101 [==============================] - 4s 37ms/step - loss: 0.0834 - accuracy: 1.0000 - precision: 0.9789 - recall: 0.9789 - val_loss: 0.0805 - val_accuracy: 1.0000 - val_precision: 0.9770 - val_recall: 0.9770\n",
      "Epoch 39/50\n",
      "101/101 [==============================] - 4s 36ms/step - loss: 0.0805 - accuracy: 1.0000 - precision: 0.9814 - recall: 0.9813 - val_loss: 0.0888 - val_accuracy: 1.0000 - val_precision: 0.9770 - val_recall: 0.9770: 0.0788 - accuracy: 1.0000 - prec\n",
      "Epoch 40/50\n",
      "101/101 [==============================] - 4s 36ms/step - loss: 0.0766 - accuracy: 1.0000 - precision: 0.9807 - recall: 0.9807 - val_loss: 0.1048 - val_accuracy: 1.0000 - val_precision: 0.9754 - val_recall: 0.9754\n",
      "Epoch 41/50\n",
      "101/101 [==============================] - 4s 36ms/step - loss: 0.0731 - accuracy: 1.0000 - precision: 0.9818 - recall: 0.9817 - val_loss: 0.0860 - val_accuracy: 1.0000 - val_precision: 0.9766 - val_recall: 0.9766\n",
      "Epoch 42/50\n",
      "101/101 [==============================] - 4s 36ms/step - loss: 0.0786 - accuracy: 1.0000 - precision: 0.9796 - recall: 0.9796 - val_loss: 0.0865 - val_accuracy: 1.0000 - val_precision: 0.9746 - val_recall: 0.9742\n",
      "Epoch 43/50\n",
      "101/101 [==============================] - 4s 36ms/step - loss: 0.0833 - accuracy: 1.0000 - precision: 0.9800 - recall: 0.9799 - val_loss: 0.0833 - val_accuracy: 1.0000 - val_precision: 0.9754 - val_recall: 0.9754\n",
      "Epoch 44/50\n",
      "101/101 [==============================] - 4s 36ms/step - loss: 0.0640 - accuracy: 1.0000 - precision: 0.9838 - recall: 0.9837 - val_loss: 0.0799 - val_accuracy: 1.0000 - val_precision: 0.9774 - val_recall: 0.9774\n",
      "Epoch 45/50\n",
      "101/101 [==============================] - 4s 37ms/step - loss: 0.0821 - accuracy: 1.0000 - precision: 0.9800 - recall: 0.9800 - val_loss: 0.0778 - val_accuracy: 1.0000 - val_precision: 0.9770 - val_recall: 0.9770\n",
      "Epoch 46/50\n",
      "101/101 [==============================] - 4s 36ms/step - loss: 0.0720 - accuracy: 1.0000 - precision: 0.9826 - recall: 0.9826 - val_loss: 0.0742 - val_accuracy: 1.0000 - val_precision: 0.9786 - val_recall: 0.9786\n",
      "Epoch 47/50\n",
      "101/101 [==============================] - 4s 38ms/step - loss: 0.0731 - accuracy: 1.0000 - precision: 0.9816 - recall: 0.9814 - val_loss: 0.0925 - val_accuracy: 1.0000 - val_precision: 0.9754 - val_recall: 0.9754\n",
      "Epoch 48/50\n",
      "101/101 [==============================] - 4s 36ms/step - loss: 0.0718 - accuracy: 1.0000 - precision: 0.9806 - recall: 0.9805 - val_loss: 0.0837 - val_accuracy: 1.0000 - val_precision: 0.9770 - val_recall: 0.9770\n",
      "Epoch 49/50\n",
      "101/101 [==============================] - 4s 36ms/step - loss: 0.0663 - accuracy: 1.0000 - precision: 0.9841 - recall: 0.9841 - val_loss: 0.0729 - val_accuracy: 1.0000 - val_precision: 0.9782 - val_recall: 0.9782\n",
      "Epoch 50/50\n",
      "101/101 [==============================] - 4s 36ms/step - loss: 0.0690 - accuracy: 1.0000 - precision: 0.9824 - recall: 0.9823 - val_loss: 0.0748 - val_accuracy: 1.0000 - val_precision: 0.9778 - val_recall: 0.9778\n"
     ]
    }
   ],
   "source": [
    "# Configure the model and start training\n",
    "model.compile(loss='categorical_crossentropy', optimizer='adam', metrics=[keras.metrics.BinaryAccuracy(name=\"accuracy\"), keras.metrics.Precision(name=\"precision\"),keras.metrics.Recall(name=\"recall\")])\n",
    "baseline_history=model.fit(X_train, Y_train, epochs=50, batch_size=100, verbose=1, validation_split=0.2)"
   ]
  },
  {
   "cell_type": "code",
   "execution_count": 14,
   "metadata": {},
   "outputs": [
    {
     "name": "stdout",
     "output_type": "stream",
     "text": [
      "169/169 [==============================] - 1s 9ms/step - loss: 0.0650 - accuracy: 1.0000 - precision: 0.9802 - recall: 0.9802\n",
      "Test results - Loss: 0.06502241641283035 - Accuracy: 0.9999987483024597% -Precision: 0.9801852107048035% -Recall: 0.9801852107048035%\n"
     ]
    }
   ],
   "source": [
    "# Test the model after training\n",
    "test_results = model.evaluate(X_test, Y_test, verbose=1)\n",
    "print(f'Test results - Loss: {test_results[0]} - Accuracy: {test_results[1]}% -Precision: {test_results[2]}% -Recall: {test_results[3]}%')"
   ]
  },
  {
   "cell_type": "code",
   "execution_count": 15,
   "metadata": {},
   "outputs": [],
   "source": [
    "#Function for plotting\n",
    "mpl.rcParams['figure.figsize'] = (12, 10)\n",
    "colors = plt.rcParams['axes.prop_cycle'].by_key()['color']\n",
    "def plot_metrics(history):\n",
    "  metrics =  ['loss', 'accuracy','precision','recall']\n",
    "  for n, metric in enumerate(metrics):\n",
    "    name = metric.replace(\"_\",\" \").capitalize()\n",
    "    plt.subplot(2,2,n+1)\n",
    "    plt.plot(history.epoch,  history.history[metric], color=colors[0], label='Train')\n",
    "    plt.plot(history.epoch, history.history['val_'+metric],\n",
    "             color=colors[0], linestyle=\"--\", label='Val')\n",
    "    plt.xlabel('Epoch')\n",
    "    plt.ylabel(name)\n",
    "    if metric == 'loss':\n",
    "      plt.ylim([0, plt.ylim()[1]])\n",
    "    else:\n",
    "      plt.ylim([0,1])\n",
    "\n",
    "    plt.legend()"
   ]
  },
  {
   "cell_type": "code",
   "execution_count": 16,
   "metadata": {},
   "outputs": [
    {
     "data": {
      "image/png": "[encoded data removed]",
      "text/plain": [
       "<Figure size 864x720 with 4 Axes>"
      ]
     },
     "metadata": {
      "needs_background": "light"
     },
     "output_type": "display_data"
    }
   ],
   "source": [
    "plot_metrics(baseline_history)"
   ]
  },
  {
   "cell_type": "code",
   "execution_count": 17,
   "metadata": {},
   "outputs": [
    {
     "name": "stderr",
     "output_type": "stream",
     "text": [
      "C:\\Users\\eacun\\anaconda3\\lib\\site-packages\\tensorflow\\python\\keras\\engine\\sequential.py:450: UserWarning: `model.predict_classes()` is deprecated and will be removed after 2021-01-01. Please use instead:* `np.argmax(model.predict(x), axis=-1)`,   if your model does multi-class classification   (e.g. if it uses a `softmax` last-layer activation).* `(model.predict(x) > 0.5).astype(\"int32\")`,   if your model does binary classification   (e.g. if it uses a `sigmoid` last-layer activation).\n",
      "  warnings.warn('`model.predict_classes()` is deprecated and '\n"
     ]
    }
   ],
   "source": [
    "a=model.predict_classes(X_train,batch_size=200)"
   ]
  },
  {
   "cell_type": "code",
   "execution_count": 18,
   "metadata": {},
   "outputs": [
    {
     "name": "stderr",
     "output_type": "stream",
     "text": [
      "C:\\Users\\eacun\\anaconda3\\lib\\site-packages\\tensorflow\\python\\keras\\engine\\sequential.py:450: UserWarning: `model.predict_classes()` is deprecated and will be removed after 2021-01-01. Please use instead:* `np.argmax(model.predict(x), axis=-1)`,   if your model does multi-class classification   (e.g. if it uses a `softmax` last-layer activation).* `(model.predict(x) > 0.5).astype(\"int32\")`,   if your model does binary classification   (e.g. if it uses a `sigmoid` last-layer activation).\n",
      "  warnings.warn('`model.predict_classes()` is deprecated and '\n"
     ]
    },
    {
     "name": "stdout",
     "output_type": "stream",
     "text": [
      "f1_scores, training set [0.99077617 0.38605898] f1_scores in testing set [0.98991422 0.43979058]\n"
     ]
    }
   ],
   "source": [
    "#Computing F1-score\n",
    "train_features = np.array(X_train)\n",
    "test_features = np.array(X_test)\n",
    "train_labels=np.array(yclass_train)\n",
    "test_labels=np.array(yclass_test)\n",
    "train_predictions_baseline = model.predict_classes(train_features, batch_size=150)\n",
    "f1_train=sklearn.metrics.f1_score(train_labels, train_predictions_baseline, average=None)\n",
    "test_predictions_baseline = model.predict_classes(test_features, batch_size=150)\n",
    "f1_test=sklearn.metrics.f1_score(test_labels, test_predictions_baseline, average=None)\n",
    "print('f1_scores, training set',f1_train,'f1_scores in testing set',f1_test)"
   ]
  },
  {
   "cell_type": "code",
   "execution_count": 19,
   "metadata": {},
   "outputs": [],
   "source": [
    "#The ROC curve\n",
    "fp, tp, _ = sklearn.metrics.roc_curve(train_labels, train_predictions_baseline)\n",
    "fp1, tp1, _ = sklearn.metrics.roc_curve(test_labels, test_predictions_baseline)\n",
    "roc_auc = sklearn.metrics.auc(fp,tp)\n",
    "roc_auc1 = sklearn.metrics.auc(fp1,tp1)"
   ]
  },
  {
   "cell_type": "code",
   "execution_count": 20,
   "metadata": {},
   "outputs": [
    {
     "data": {
      "image/png": "[encoded data removed]",
      "text/plain": [
       "<Figure size 864x720 with 1 Axes>"
      ]
     },
     "metadata": {
      "needs_background": "light"
     },
     "output_type": "display_data"
    }
   ],
   "source": [
    "fig, ax = plt.subplots(1, 1)\n",
    "ax.plot(fp, tp, 'b', label='AUC-train = %0.2f'% roc_auc)\n",
    "ax.plot(fp1, tp1, 'b--', label='AUC-test = %0.2f'% roc_auc1)\n",
    "plt.legend(loc='lower right')\n",
    "plt.plot([0,1],[0,1],'r--')\n",
    "plt.xlim([0,1.0])\n",
    "plt.ylim([0,1.0])\n",
    "plt.ylabel('True Positive Rate')\n",
    "plt.xlabel('False Positive Rate')\n",
    "plt.grid(True)\n",
    "plt.show()"
   ]
  },
  {
   "cell_type": "code",
   "execution_count": null,
   "metadata": {},
   "outputs": [],
   "source": []
  }
 ],
 "metadata": {
  "kernelspec": {
   "display_name": "Python 3",
   "language": "python",
   "name": "python3"
  },
  "language_info": {
   "codemirror_mode": {
    "name": "ipython",
    "version": 3
   },
   "file_extension": ".py",
   "mimetype": "text/x-python",
   "name": "python",
   "nbconvert_exporter": "python",
   "pygments_lexer": "ipython3",
   "version": "3.7.6"
  }
 },
 "nbformat": 4,
 "nbformat_minor": 2
}
