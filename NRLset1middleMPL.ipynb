{
 "cells": [
  {
   "cell_type": "markdown",
   "metadata": {},
   "source": [
    "### MLP for analytes classification on the middle part of the spectra\n",
    "#### Edgar Acuna\n",
    "#### July 2020"
   ]
  },
  {
   "cell_type": "code",
   "execution_count": 1,
   "metadata": {},
   "outputs": [
    {
     "name": "stderr",
     "output_type": "stream",
     "text": [
      "Using TensorFlow backend.\n"
     ]
    }
   ],
   "source": [
    "import tensorflow as tf\n",
    "from tensorflow import keras\n",
    "import os\n",
    "import tempfile\n",
    "import matplotlib as mpl\n",
    "import matplotlib.pyplot as plt\n",
    "import numpy as np\n",
    "import seaborn as sns\n",
    "import sklearn\n",
    "from sklearn.model_selection import train_test_split\n",
    "import keras\n",
    "import pandas as pd\n",
    "from keras.models import Sequential\n",
    "from keras.layers import Dense\n",
    "from keras.layers import Dropout\n",
    "from keras.utils import to_categorical"
   ]
  },
  {
   "cell_type": "code",
   "execution_count": 2,
   "metadata": {},
   "outputs": [],
   "source": [
    "#loading the data\n",
    "df1=pd.read_csv(\"c://onr2020/NRLset1_part1.csv\",header=None)\n",
    "df2=pd.read_csv(\"c://onr2020/NRLset1_part2.csv\",header=None)\n",
    "df3=pd.read_csv(\"c://onr2020/NRLset1_part3.csv\",header=None)\n",
    "df4=pd.read_csv(\"c://onr2020/NRLset1_part4.csv\",header=None)\n",
    "df5=pd.read_csv(\"c://onr2020/NRLset1_part5.csv\",header=None)\n",
    "df6=pd.read_csv(\"c://onr2020/NRLset1_part6.csv\",header=None)\n",
    "df7=pd.read_csv(\"c://onr2020/NRLset1_part7.csv\",header=None)\n",
    "df8=pd.read_csv(\"c://onr2020/NRLset1_part8.csv\",header=None)\n",
    "y=pd.read_csv(\"c://onr2020/labels.csv\",header=None)"
   ]
  },
  {
   "cell_type": "code",
   "execution_count": 3,
   "metadata": {},
   "outputs": [],
   "source": [
    "dfset1=pd.concat([df1,df2,df3,df4,df5,df6,df7,df8],ignore_index=True)"
   ]
  },
  {
   "cell_type": "code",
   "execution_count": 4,
   "metadata": {},
   "outputs": [
    {
     "data": {
      "text/html": [
       "<div>\n",
       "<style scoped>\n",
       "    .dataframe tbody tr th:only-of-type {\n",
       "        vertical-align: middle;\n",
       "    }\n",
       "\n",
       "    .dataframe tbody tr th {\n",
       "        vertical-align: top;\n",
       "    }\n",
       "\n",
       "    .dataframe thead th {\n",
       "        text-align: right;\n",
       "    }\n",
       "</style>\n",
       "<table border=\"1\" class=\"dataframe\">\n",
       "  <thead>\n",
       "    <tr style=\"text-align: right;\">\n",
       "      <th></th>\n",
       "      <th>0</th>\n",
       "      <th>1</th>\n",
       "      <th>2</th>\n",
       "      <th>3</th>\n",
       "      <th>4</th>\n",
       "      <th>5</th>\n",
       "      <th>6</th>\n",
       "      <th>7</th>\n",
       "      <th>8</th>\n",
       "      <th>9</th>\n",
       "      <th>...</th>\n",
       "      <th>590</th>\n",
       "      <th>591</th>\n",
       "      <th>592</th>\n",
       "      <th>593</th>\n",
       "      <th>594</th>\n",
       "      <th>595</th>\n",
       "      <th>596</th>\n",
       "      <th>597</th>\n",
       "      <th>598</th>\n",
       "      <th>599</th>\n",
       "    </tr>\n",
       "  </thead>\n",
       "  <tbody>\n",
       "    <tr>\n",
       "      <th>0</th>\n",
       "      <td>0.052649</td>\n",
       "      <td>0.052523</td>\n",
       "      <td>0.052400</td>\n",
       "      <td>0.052366</td>\n",
       "      <td>0.052187</td>\n",
       "      <td>0.051868</td>\n",
       "      <td>0.051646</td>\n",
       "      <td>0.051453</td>\n",
       "      <td>0.051322</td>\n",
       "      <td>0.051272</td>\n",
       "      <td>...</td>\n",
       "      <td>0.040485</td>\n",
       "      <td>0.042181</td>\n",
       "      <td>0.043665</td>\n",
       "      <td>0.044619</td>\n",
       "      <td>0.045198</td>\n",
       "      <td>0.045510</td>\n",
       "      <td>0.045584</td>\n",
       "      <td>0.045514</td>\n",
       "      <td>0.045368</td>\n",
       "      <td>0.045134</td>\n",
       "    </tr>\n",
       "    <tr>\n",
       "      <th>1</th>\n",
       "      <td>0.812850</td>\n",
       "      <td>0.815280</td>\n",
       "      <td>0.815310</td>\n",
       "      <td>0.816570</td>\n",
       "      <td>0.811340</td>\n",
       "      <td>0.814360</td>\n",
       "      <td>0.817900</td>\n",
       "      <td>0.810970</td>\n",
       "      <td>0.816380</td>\n",
       "      <td>0.814390</td>\n",
       "      <td>...</td>\n",
       "      <td>0.721050</td>\n",
       "      <td>0.732410</td>\n",
       "      <td>0.733920</td>\n",
       "      <td>0.746930</td>\n",
       "      <td>0.748780</td>\n",
       "      <td>0.755830</td>\n",
       "      <td>0.757070</td>\n",
       "      <td>0.761120</td>\n",
       "      <td>0.763920</td>\n",
       "      <td>0.757050</td>\n",
       "    </tr>\n",
       "    <tr>\n",
       "      <th>2</th>\n",
       "      <td>0.246650</td>\n",
       "      <td>0.247730</td>\n",
       "      <td>0.248770</td>\n",
       "      <td>0.249810</td>\n",
       "      <td>0.250880</td>\n",
       "      <td>0.251980</td>\n",
       "      <td>0.253020</td>\n",
       "      <td>0.253990</td>\n",
       "      <td>0.254890</td>\n",
       "      <td>0.255730</td>\n",
       "      <td>...</td>\n",
       "      <td>0.089065</td>\n",
       "      <td>0.092210</td>\n",
       "      <td>0.094679</td>\n",
       "      <td>0.096494</td>\n",
       "      <td>0.098360</td>\n",
       "      <td>0.100020</td>\n",
       "      <td>0.101490</td>\n",
       "      <td>0.102910</td>\n",
       "      <td>0.104620</td>\n",
       "      <td>0.106290</td>\n",
       "    </tr>\n",
       "    <tr>\n",
       "      <th>3</th>\n",
       "      <td>0.230050</td>\n",
       "      <td>0.231050</td>\n",
       "      <td>0.232060</td>\n",
       "      <td>0.233080</td>\n",
       "      <td>0.234140</td>\n",
       "      <td>0.235200</td>\n",
       "      <td>0.236210</td>\n",
       "      <td>0.237140</td>\n",
       "      <td>0.237990</td>\n",
       "      <td>0.238780</td>\n",
       "      <td>...</td>\n",
       "      <td>0.085115</td>\n",
       "      <td>0.088022</td>\n",
       "      <td>0.090564</td>\n",
       "      <td>0.092868</td>\n",
       "      <td>0.094941</td>\n",
       "      <td>0.096737</td>\n",
       "      <td>0.098254</td>\n",
       "      <td>0.099534</td>\n",
       "      <td>0.100620</td>\n",
       "      <td>0.101550</td>\n",
       "    </tr>\n",
       "    <tr>\n",
       "      <th>4</th>\n",
       "      <td>0.015893</td>\n",
       "      <td>0.016719</td>\n",
       "      <td>0.017483</td>\n",
       "      <td>0.016799</td>\n",
       "      <td>0.016883</td>\n",
       "      <td>0.016369</td>\n",
       "      <td>0.015751</td>\n",
       "      <td>0.018710</td>\n",
       "      <td>0.016324</td>\n",
       "      <td>0.016844</td>\n",
       "      <td>...</td>\n",
       "      <td>0.017459</td>\n",
       "      <td>0.016394</td>\n",
       "      <td>0.013416</td>\n",
       "      <td>0.015770</td>\n",
       "      <td>0.015645</td>\n",
       "      <td>0.015782</td>\n",
       "      <td>0.013516</td>\n",
       "      <td>0.015270</td>\n",
       "      <td>0.017566</td>\n",
       "      <td>0.015711</td>\n",
       "    </tr>\n",
       "  </tbody>\n",
       "</table>\n",
       "<p>5 rows × 600 columns</p>\n",
       "</div>"
      ],
      "text/plain": [
       "        0         1         2         3         4         5         6    \\\n",
       "0  0.052649  0.052523  0.052400  0.052366  0.052187  0.051868  0.051646   \n",
       "1  0.812850  0.815280  0.815310  0.816570  0.811340  0.814360  0.817900   \n",
       "2  0.246650  0.247730  0.248770  0.249810  0.250880  0.251980  0.253020   \n",
       "3  0.230050  0.231050  0.232060  0.233080  0.234140  0.235200  0.236210   \n",
       "4  0.015893  0.016719  0.017483  0.016799  0.016883  0.016369  0.015751   \n",
       "\n",
       "        7         8         9    ...       590       591       592       593  \\\n",
       "0  0.051453  0.051322  0.051272  ...  0.040485  0.042181  0.043665  0.044619   \n",
       "1  0.810970  0.816380  0.814390  ...  0.721050  0.732410  0.733920  0.746930   \n",
       "2  0.253990  0.254890  0.255730  ...  0.089065  0.092210  0.094679  0.096494   \n",
       "3  0.237140  0.237990  0.238780  ...  0.085115  0.088022  0.090564  0.092868   \n",
       "4  0.018710  0.016324  0.016844  ...  0.017459  0.016394  0.013416  0.015770   \n",
       "\n",
       "        594       595       596       597       598       599  \n",
       "0  0.045198  0.045510  0.045584  0.045514  0.045368  0.045134  \n",
       "1  0.748780  0.755830  0.757070  0.761120  0.763920  0.757050  \n",
       "2  0.098360  0.100020  0.101490  0.102910  0.104620  0.106290  \n",
       "3  0.094941  0.096737  0.098254  0.099534  0.100620  0.101550  \n",
       "4  0.015645  0.015782  0.013516  0.015270  0.017566  0.015711  \n",
       "\n",
       "[5 rows x 600 columns]"
      ]
     },
     "execution_count": 4,
     "metadata": {},
     "output_type": "execute_result"
    }
   ],
   "source": [
    "dfset3=dfset1.copy()\n",
    "dfset3=dfset3.iloc[:,600:1200]\n",
    "b=pd.DataFrame(dfset3)\n",
    "b.columns=b.columns-600\n",
    "b.head()"
   ]
  },
  {
   "cell_type": "code",
   "execution_count": 5,
   "metadata": {},
   "outputs": [],
   "source": [
    "# Configuration options\n",
    "feature_vector_length = 600\n",
    "num_classes = 18000"
   ]
  },
  {
   "cell_type": "code",
   "execution_count": 6,
   "metadata": {},
   "outputs": [
    {
     "name": "stdout",
     "output_type": "stream",
     "text": [
      "Train dimension:\n",
      "(12600, 600)\n",
      "Test dimension:\n",
      "(5400, 600)\n"
     ]
    }
   ],
   "source": [
    "X_train, X_test, Y_train, Y_test = train_test_split(b,y, test_size=0.3,random_state=0)\n",
    "print('Train dimension:');print(X_train.shape)\n",
    "print('Test dimension:');print(X_test.shape)\n",
    "\n",
    "# Convert target classes to categorical ones\n",
    "Y_train = to_categorical(Y_train, num_classes)\n",
    "Y_test = to_categorical(Y_test, num_classes)"
   ]
  },
  {
   "cell_type": "code",
   "execution_count": 7,
   "metadata": {},
   "outputs": [
    {
     "name": "stdout",
     "output_type": "stream",
     "text": [
      "Feature shape: (600,)\n",
      "WARNING:tensorflow:From C:\\Users\\eacun\\Anaconda3\\lib\\site-packages\\tensorflow\\python\\ops\\control_flow_ops.py:423: colocate_with (from tensorflow.python.framework.ops) is deprecated and will be removed in a future version.\n",
      "Instructions for updating:\n",
      "Colocations handled automatically by placer.\n",
      "Model: \"sequential_1\"\n",
      "_________________________________________________________________\n",
      "Layer (type)                 Output Shape              Param #   \n",
      "=================================================================\n",
      "dropout_1 (Dropout)          (None, 600)               0         \n",
      "_________________________________________________________________\n",
      "dense_1 (Dense)              (None, 400)               240400    \n",
      "_________________________________________________________________\n",
      "dense_2 (Dense)              (None, 50)                20050     \n",
      "_________________________________________________________________\n",
      "dense_3 (Dense)              (None, 18000)             918000    \n",
      "=================================================================\n",
      "Total params: 1,178,450\n",
      "Trainable params: 1,178,450\n",
      "Non-trainable params: 0\n",
      "_________________________________________________________________\n"
     ]
    }
   ],
   "source": [
    "# Set the input shape\n",
    "input_shape = (feature_vector_length,)\n",
    "print(f'Feature shape: {input_shape}')\n",
    "\n",
    "# Create the model\n",
    "model = Sequential()\n",
    "model.add(Dropout(0.2, input_shape=input_shape))\n",
    "model.add(Dense(400, input_shape=input_shape, activation='relu'))\n",
    "model.add(Dense(50, activation='relu'))\n",
    "model.add(Dense(num_classes, activation='softmax'))\n",
    "model.summary()"
   ]
  },
  {
   "cell_type": "code",
   "execution_count": 8,
   "metadata": {},
   "outputs": [
    {
     "name": "stdout",
     "output_type": "stream",
     "text": [
      "WARNING:tensorflow:From C:\\Users\\eacun\\Anaconda3\\lib\\site-packages\\tensorflow\\python\\ops\\math_ops.py:3066: to_int32 (from tensorflow.python.ops.math_ops) is deprecated and will be removed in a future version.\n",
      "Instructions for updating:\n",
      "Use tf.cast instead.\n",
      "Train on 10080 samples, validate on 2520 samples\n",
      "Epoch 1/100\n",
      "10080/10080 [==============================] - 10s 1ms/step - loss: 4.6095 - accuracy: 0.0244 - val_loss: 3.8275 - val_accuracy: 0.0202\n",
      "Epoch 2/100\n",
      "10080/10080 [==============================] - 9s 935us/step - loss: 3.7437 - accuracy: 0.0249 - val_loss: 3.7062 - val_accuracy: 0.0298\n",
      "Epoch 3/100\n",
      "10080/10080 [==============================] - 10s 952us/step - loss: 3.6990 - accuracy: 0.0241 - val_loss: 3.6947 - val_accuracy: 0.0246698\n",
      "Epoch 4/100\n",
      "10080/10080 [==============================] - 10s 945us/step - loss: 3.6954 - accuracy: 0.0269 - val_loss: 3.7015 - val_accuracy: 0.0262\n",
      "Epoch 5/100\n",
      "10080/10080 [==============================] - 10s 1ms/step - loss: 3.6941 - accuracy: 0.0263 - val_loss: 3.6949 - val_accuracy: 0.0187\n",
      "Epoch 6/100\n",
      "10080/10080 [==============================] - 10s 978us/step - loss: 3.6931 - accuracy: 0.0273 - val_loss: 3.6936 - val_accuracy: 0.0329\n",
      "Epoch 7/100\n",
      "10080/10080 [==============================] - 10s 962us/step - loss: 3.6912 - accuracy: 0.0310 - val_loss: 3.6933 - val_accuracy: 0.0333\n",
      "Epoch 8/100\n",
      "10080/10080 [==============================] - 10s 1ms/step - loss: 3.6875 - accuracy: 0.0294 - val_loss: 3.6910 - val_accuracy: 0.0321\n",
      "Epoch 9/100\n",
      "10080/10080 [==============================] - 10s 974us/step - loss: 3.6840 - accuracy: 0.0341 - val_loss: 3.6880 - val_accuracy: 0.0365\n",
      "Epoch 10/100\n",
      "10080/10080 [==============================] - 10s 965us/step - loss: 3.6783 - accuracy: 0.0371 - val_loss: 3.6686 - val_accuracy: 0.0385\n",
      "Epoch 11/100\n",
      "10080/10080 [==============================] - 10s 1ms/step - loss: 3.6673 - accuracy: 0.0401 - val_loss: 3.6745 - val_accuracy: 0.0341\n",
      "Epoch 12/100\n",
      "10080/10080 [==============================] - 10s 974us/step - loss: 3.6558 - accuracy: 0.0458 - val_loss: 3.6382 - val_accuracy: 0.0460\n",
      "Epoch 13/100\n",
      "10080/10080 [==============================] - 10s 1ms/step - loss: 3.6418 - accuracy: 0.0474 - val_loss: 3.6397 - val_accuracy: 0.0508\n",
      "Epoch 14/100\n",
      "10080/10080 [==============================] - 11s 1ms/step - loss: 3.6200 - accuracy: 0.0538 - val_loss: 3.6216 - val_accuracy: 0.0444\n",
      "Epoch 15/100\n",
      "10080/10080 [==============================] - 10s 978us/step - loss: 3.5910 - accuracy: 0.0554 - val_loss: 3.5512 - val_accuracy: 0.0607\n",
      "Epoch 16/100\n",
      "10080/10080 [==============================] - 10s 1ms/step - loss: 3.5680 - accuracy: 0.0644 - val_loss: 3.5271 - val_accuracy: 0.0742\n",
      "Epoch 17/100\n",
      "10080/10080 [==============================] - 11s 1ms/step - loss: 3.5308 - accuracy: 0.0642 - val_loss: 3.4590 - val_accuracy: 0.0960\n",
      "Epoch 18/100\n",
      "10080/10080 [==============================] - 10s 977us/step - loss: 3.5000 - accuracy: 0.0723 - val_loss: 3.4285 - val_accuracy: 0.0976\n",
      "Epoch 19/100\n",
      "10080/10080 [==============================] - 10s 999us/step - loss: 3.4639 - accuracy: 0.0793 - val_loss: 3.3923 - val_accuracy: 0.0853\n",
      "Epoch 20/100\n",
      "10080/10080 [==============================] - 10s 1ms/step - loss: 3.4387 - accuracy: 0.0769 - val_loss: 3.3481 - val_accuracy: 0.1210\n",
      "Epoch 21/100\n",
      "10080/10080 [==============================] - 10s 982us/step - loss: 3.4061 - accuracy: 0.0870 - val_loss: 3.3212 - val_accuracy: 0.1067\n",
      "Epoch 22/100\n",
      "10080/10080 [==============================] - 10s 996us/step - loss: 3.3824 - accuracy: 0.0857 - val_loss: 3.2828 - val_accuracy: 0.1214\n",
      "Epoch 23/100\n",
      "10080/10080 [==============================] - 10s 1ms/step - loss: 3.3511 - accuracy: 0.0956 - val_loss: 3.2851 - val_accuracy: 0.1087\n",
      "Epoch 24/100\n",
      "10080/10080 [==============================] - 11s 1ms/step - loss: 3.3305 - accuracy: 0.0982 - val_loss: 3.2038 - val_accuracy: 0.1393\n",
      "Epoch 25/100\n",
      "10080/10080 [==============================] - 12s 1ms/step - loss: 3.3070 - accuracy: 0.1030 - val_loss: 3.1669 - val_accuracy: 0.1437\n",
      "Epoch 26/100\n",
      "10080/10080 [==============================] - 12s 1ms/step - loss: 3.2900 - accuracy: 0.1046 - val_loss: 3.1546 - val_accuracy: 0.1381\n",
      "Epoch 27/100\n",
      "10080/10080 [==============================] - 11s 1ms/step - loss: 3.2905 - accuracy: 0.1067 - val_loss: 3.1395 - val_accuracy: 0.1516\n",
      "Epoch 28/100\n",
      "10080/10080 [==============================] - 11s 1ms/step - loss: 3.2735 - accuracy: 0.1093 - val_loss: 3.1078 - val_accuracy: 0.1472\n",
      "Epoch 29/100\n",
      "10080/10080 [==============================] - 11s 1ms/step - loss: 3.2470 - accuracy: 0.1125 - val_loss: 3.0823 - val_accuracy: 0.1528\n",
      "Epoch 30/100\n",
      "10080/10080 [==============================] - 11s 1ms/step - loss: 3.2391 - accuracy: 0.1116 - val_loss: 3.0864 - val_accuracy: 0.1742\n",
      "Epoch 31/100\n",
      "10080/10080 [==============================] - 12s 1ms/step - loss: 3.2253 - accuracy: 0.1160 - val_loss: 3.1078 - val_accuracy: 0.1151\n",
      "Epoch 32/100\n",
      "10080/10080 [==============================] - 10s 1ms/step - loss: 3.2135 - accuracy: 0.1192 - val_loss: 3.0510 - val_accuracy: 0.1940\n",
      "Epoch 33/100\n",
      "10080/10080 [==============================] - 10s 989us/step - loss: 3.2046 - accuracy: 0.1215 - val_loss: 3.0881 - val_accuracy: 0.1381\n",
      "Epoch 34/100\n",
      "10080/10080 [==============================] - 11s 1ms/step - loss: 3.2014 - accuracy: 0.1236 - val_loss: 3.0288 - val_accuracy: 0.1738\n",
      "Epoch 35/100\n",
      "10080/10080 [==============================] - 10s 1ms/step - loss: 3.2043 - accuracy: 0.1242 - val_loss: 3.0066 - val_accuracy: 0.1738\n",
      "Epoch 36/100\n",
      "10080/10080 [==============================] - 10s 1ms/step - loss: 3.1846 - accuracy: 0.1360 - val_loss: 3.0008 - val_accuracy: 0.1881\n",
      "Epoch 37/100\n",
      "10080/10080 [==============================] - 10s 1ms/step - loss: 3.1799 - accuracy: 0.1276 - val_loss: 3.0589 - val_accuracy: 0.1504\n",
      "Epoch 38/100\n",
      "10080/10080 [==============================] - 10s 1ms/step - loss: 3.1699 - accuracy: 0.1326 - val_loss: 2.9897 - val_accuracy: 0.1956\n",
      "Epoch 39/100\n",
      "10080/10080 [==============================] - 10s 1ms/step - loss: 3.1580 - accuracy: 0.1323 - val_loss: 2.9826 - val_accuracy: 0.2024\n",
      "Epoch 40/100\n",
      "10080/10080 [==============================] - 10s 1ms/step - loss: 3.1440 - accuracy: 0.1323 - val_loss: 2.9356 - val_accuracy: 0.2198\n",
      "Epoch 41/100\n",
      "10080/10080 [==============================] - 10s 986us/step - loss: 3.1578 - accuracy: 0.1343 - val_loss: 2.9939 - val_accuracy: 0.1944\n",
      "Epoch 42/100\n",
      "10080/10080 [==============================] - 10s 1ms/step - loss: 3.1452 - accuracy: 0.1389 - val_loss: 2.9442 - val_accuracy: 0.2063\n",
      "Epoch 43/100\n",
      "10080/10080 [==============================] - 11s 1ms/step - loss: 3.1387 - accuracy: 0.1373 - val_loss: 2.9158 - val_accuracy: 0.2421\n",
      "Epoch 44/100\n",
      "10080/10080 [==============================] - 11s 1ms/step - loss: 3.1387 - accuracy: 0.1425 - val_loss: 2.9161 - val_accuracy: 0.2095\n",
      "Epoch 45/100\n",
      "10080/10080 [==============================] - 10s 1ms/step - loss: 3.1278 - accuracy: 0.1411 - val_loss: 2.9172 - val_accuracy: 0.2171\n",
      "Epoch 46/100\n",
      "10080/10080 [==============================] - 10s 1ms/step - loss: 3.1088 - accuracy: 0.1481 - val_loss: 2.9618 - val_accuracy: 0.1849\n",
      "Epoch 47/100\n",
      "10080/10080 [==============================] - 10s 979us/step - loss: 3.1302 - accuracy: 0.1412 - val_loss: 2.8981 - val_accuracy: 0.2440\n",
      "Epoch 48/100\n",
      "10080/10080 [==============================] - 11s 1ms/step - loss: 3.1128 - accuracy: 0.1441 - val_loss: 2.9058 - val_accuracy: 0.2440\n",
      "Epoch 49/100\n",
      "10080/10080 [==============================] - 10s 1ms/step - loss: 3.1112 - accuracy: 0.1438 - val_loss: 2.9110 - val_accuracy: 0.1984\n",
      "Epoch 50/100\n",
      "10080/10080 [==============================] - 10s 984us/step - loss: 3.1183 - accuracy: 0.1459 - val_loss: 2.8660 - val_accuracy: 0.2313\n",
      "Epoch 51/100\n",
      "10080/10080 [==============================] - 11s 1ms/step - loss: 3.0987 - accuracy: 0.1470 - val_loss: 2.8752 - val_accuracy: 0.2310\n",
      "Epoch 52/100\n",
      "10080/10080 [==============================] - 10s 1ms/step - loss: 3.0989 - accuracy: 0.1516 - val_loss: 2.8619 - val_accuracy: 0.2401\n",
      "Epoch 53/100\n"
     ]
    },
    {
     "name": "stdout",
     "output_type": "stream",
     "text": [
      "10080/10080 [==============================] - 10s 983us/step - loss: 3.0842 - accuracy: 0.1471 - val_loss: 2.8653 - val_accuracy: 0.2302\n",
      "Epoch 54/100\n",
      "10080/10080 [==============================] - 10s 1ms/step - loss: 3.0811 - accuracy: 0.1548 - val_loss: 2.9293 - val_accuracy: 0.1881\n",
      "Epoch 55/100\n",
      "10080/10080 [==============================] - 10s 955us/step - loss: 3.0794 - accuracy: 0.1518 - val_loss: 2.8408 - val_accuracy: 0.2393\n",
      "Epoch 56/100\n",
      "10080/10080 [==============================] - 10s 948us/step - loss: 3.0724 - accuracy: 0.1526 - val_loss: 2.8789 - val_accuracy: 0.1984\n",
      "Epoch 57/100\n",
      "10080/10080 [==============================] - 10s 1ms/step - loss: 3.0715 - accuracy: 0.1571 - val_loss: 2.8681 - val_accuracy: 0.2313\n",
      "Epoch 58/100\n",
      "10080/10080 [==============================] - 10s 950us/step - loss: 3.0649 - accuracy: 0.1545 - val_loss: 2.8861 - val_accuracy: 0.1988\n",
      "Epoch 59/100\n",
      "10080/10080 [==============================] - 10s 975us/step - loss: 3.0658 - accuracy: 0.1547 - val_loss: 2.8786 - val_accuracy: 0.2218\n",
      "Epoch 60/100\n",
      "10080/10080 [==============================] - 10s 978us/step - loss: 3.0599 - accuracy: 0.1545 - val_loss: 2.8175 - val_accuracy: 0.2433\n",
      "Epoch 61/100\n",
      "10080/10080 [==============================] - 9s 915us/step - loss: 3.0493 - accuracy: 0.1573 - val_loss: 2.8343 - val_accuracy: 0.2452\n",
      "Epoch 62/100\n",
      "10080/10080 [==============================] - 10s 955us/step - loss: 3.0436 - accuracy: 0.1599 - val_loss: 2.8215 - val_accuracy: 0.2270\n",
      "Epoch 63/100\n",
      "10080/10080 [==============================] - 10s 961us/step - loss: 3.0436 - accuracy: 0.1653 - val_loss: 2.8278 - val_accuracy: 0.2440\n",
      "Epoch 64/100\n",
      "10080/10080 [==============================] - 10s 968us/step - loss: 3.0582 - accuracy: 0.1550 - val_loss: 2.7950 - val_accuracy: 0.2532\n",
      "Epoch 65/100\n",
      "10080/10080 [==============================] - 10s 948us/step - loss: 3.0481 - accuracy: 0.1561 - val_loss: 2.8158 - val_accuracy: 0.2417\n",
      "Epoch 66/100\n",
      "10080/10080 [==============================] - 10s 982us/step - loss: 3.0418 - accuracy: 0.1593 - val_loss: 2.8277 - val_accuracy: 0.2464\n",
      "Epoch 67/100\n",
      "10080/10080 [==============================] - 10s 969us/step - loss: 3.0403 - accuracy: 0.1662 - val_loss: 2.8130 - val_accuracy: 0.2655\n",
      "Epoch 68/100\n",
      "10080/10080 [==============================] - 9s 929us/step - loss: 3.0291 - accuracy: 0.1664 - val_loss: 2.8303 - val_accuracy: 0.2556\n",
      "Epoch 69/100\n",
      "10080/10080 [==============================] - 10s 993us/step - loss: 3.0188 - accuracy: 0.1696 - val_loss: 2.8005 - val_accuracy: 0.2448\n",
      "Epoch 70/100\n",
      "10080/10080 [==============================] - 10s 957us/step - loss: 3.0289 - accuracy: 0.1662 - val_loss: 2.7920 - val_accuracy: 0.2496\n",
      "Epoch 71/100\n",
      "10080/10080 [==============================] - 9s 924us/step - loss: 3.0253 - accuracy: 0.1672 - val_loss: 2.7858 - val_accuracy: 0.2746\n",
      "Epoch 72/100\n",
      "10080/10080 [==============================] - 10s 985us/step - loss: 3.0480 - accuracy: 0.1682 - val_loss: 2.7720 - val_accuracy: 0.2710\n",
      "Epoch 73/100\n",
      "10080/10080 [==============================] - 9s 919us/step - loss: 3.0204 - accuracy: 0.1658 - val_loss: 2.7867 - val_accuracy: 0.2452\n",
      "Epoch 74/100\n",
      "10080/10080 [==============================] - 10s 955us/step - loss: 3.0232 - accuracy: 0.1676 - val_loss: 2.7640 - val_accuracy: 0.2734\n",
      "Epoch 75/100\n",
      "10080/10080 [==============================] - 10s 950us/step - loss: 3.0085 - accuracy: 0.1706 - val_loss: 2.7910 - val_accuracy: 0.2639\n",
      "Epoch 76/100\n",
      "10080/10080 [==============================] - 9s 940us/step - loss: 3.0117 - accuracy: 0.1679 - val_loss: 2.7810 - val_accuracy: 0.2687\n",
      "Epoch 77/100\n",
      "10080/10080 [==============================] - 10s 956us/step - loss: 3.0198 - accuracy: 0.1621 - val_loss: 2.7805 - val_accuracy: 0.2552\n",
      "Epoch 78/100\n",
      "10080/10080 [==============================] - 9s 929us/step - loss: 3.0035 - accuracy: 0.1703 - val_loss: 2.7654 - val_accuracy: 0.2611\n",
      "Epoch 79/100\n",
      "10080/10080 [==============================] - 10s 1ms/step - loss: 3.0172 - accuracy: 0.1740 - val_loss: 2.7750 - val_accuracy: 0.2734\n",
      "Epoch 80/100\n",
      "10080/10080 [==============================] - 10s 952us/step - loss: 2.9960 - accuracy: 0.1671 - val_loss: 2.7947 - val_accuracy: 0.2317\n",
      "Epoch 81/100\n",
      "10080/10080 [==============================] - 9s 931us/step - loss: 3.0021 - accuracy: 0.1741 - val_loss: 2.8025 - val_accuracy: 0.2448\n",
      "Epoch 82/100\n",
      "10080/10080 [==============================] - 10s 998us/step - loss: 2.9960 - accuracy: 0.1722 - val_loss: 2.7782 - val_accuracy: 0.2504\n",
      "Epoch 83/100\n",
      "10080/10080 [==============================] - 10s 962us/step - loss: 2.9976 - accuracy: 0.1719 - val_loss: 2.7654 - val_accuracy: 0.2663\n",
      "Epoch 84/100\n",
      "10080/10080 [==============================] - 10s 987us/step - loss: 2.9977 - accuracy: 0.1790 - val_loss: 2.7829 - val_accuracy: 0.2476\n",
      "Epoch 85/100\n",
      "10080/10080 [==============================] - 10s 991us/step - loss: 2.9965 - accuracy: 0.1746 - val_loss: 2.7641 - val_accuracy: 0.2421\n",
      "Epoch 86/100\n",
      "10080/10080 [==============================] - 9s 926us/step - loss: 2.9897 - accuracy: 0.1748 - val_loss: 2.7558 - val_accuracy: 0.2552\n",
      "Epoch 87/100\n",
      "10080/10080 [==============================] - 10s 962us/step - loss: 2.9811 - accuracy: 0.1774 - val_loss: 2.7491 - val_accuracy: 0.2722\n",
      "Epoch 88/100\n",
      "10080/10080 [==============================] - 10s 974us/step - loss: 2.9876 - accuracy: 0.1734 - val_loss: 2.7438 - val_accuracy: 0.2437\n",
      "Epoch 89/100\n",
      "10080/10080 [==============================] - 9s 939us/step - loss: 2.9760 - accuracy: 0.1768 - val_loss: 2.7663 - val_accuracy: 0.2663\n",
      "Epoch 90/100\n",
      "10080/10080 [==============================] - 10s 950us/step - loss: 2.9689 - accuracy: 0.1802 - val_loss: 2.7443 - val_accuracy: 0.2631\n",
      "Epoch 91/100\n",
      "10080/10080 [==============================] - 10s 960us/step - loss: 2.9772 - accuracy: 0.1739 - val_loss: 2.7040 - val_accuracy: 0.2889\n",
      "Epoch 92/100\n",
      "10080/10080 [==============================] - 10s 976us/step - loss: 2.9929 - accuracy: 0.1752 - val_loss: 2.7835 - val_accuracy: 0.2421\n",
      "Epoch 93/100\n",
      "10080/10080 [==============================] - 9s 939us/step - loss: 2.9869 - accuracy: 0.1778 - val_loss: 2.7286 - val_accuracy: 0.2762\n",
      "Epoch 94/100\n",
      "10080/10080 [==============================] - 10s 990us/step - loss: 2.9744 - accuracy: 0.1829 - val_loss: 2.7543 - val_accuracy: 0.2548\n",
      "Epoch 95/100\n",
      "10080/10080 [==============================] - 10s 967us/step - loss: 2.9672 - accuracy: 0.1843 - val_loss: 2.7053 - val_accuracy: 0.2925\n",
      "Epoch 96/100\n",
      "10080/10080 [==============================] - 9s 937us/step - loss: 2.9787 - accuracy: 0.1767 - val_loss: 2.7060 - val_accuracy: 0.3036\n",
      "Epoch 97/100\n",
      "10080/10080 [==============================] - 10s 996us/step - loss: 2.9806 - accuracy: 0.1774 - val_loss: 2.7060 - val_accuracy: 0.2901\n",
      "Epoch 98/100\n",
      "10080/10080 [==============================] - 10s 946us/step - loss: 2.9680 - accuracy: 0.1806 - val_loss: 2.6985 - val_accuracy: 0.2968\n",
      "Epoch 99/100\n",
      "10080/10080 [==============================] - 9s 937us/step - loss: 2.9528 - accuracy: 0.1854 - val_loss: 2.7634 - val_accuracy: 0.2476\n",
      "Epoch 100/100\n",
      "10080/10080 [==============================] - 10s 973us/step - loss: 2.9579 - accuracy: 0.1877 - val_loss: 2.7111 - val_accuracy: 0.2817\n"
     ]
    }
   ],
   "source": [
    "# Configure the model and start training\n",
    "model.compile(loss='categorical_crossentropy', optimizer='adam', metrics=['accuracy'])\n",
    "baseline_history=model.fit(X_train, Y_train, epochs=100, batch_size=50, verbose=1, validation_split=0.2)"
   ]
  },
  {
   "cell_type": "code",
   "execution_count": 9,
   "metadata": {},
   "outputs": [
    {
     "name": "stdout",
     "output_type": "stream",
     "text": [
      "5400/5400 [==============================] - 1s 275us/step\n",
      "[2.743134161984479, 0.2629629671573639]\n",
      "Test results - Loss: 2.743134161984479 - Accuracy: 0.2629629671573639%\n"
     ]
    }
   ],
   "source": [
    "# Test the model after training\n",
    "test_results = model.evaluate(X_test, Y_test, verbose=1)\n",
    "print(test_results)\n",
    "print(f'Test results - Loss: {test_results[0]} - Accuracy: {test_results[1]}%')"
   ]
  },
  {
   "cell_type": "markdown",
   "metadata": {},
   "source": [
    "### 2.  Classification of the first analyte"
   ]
  },
  {
   "cell_type": "code",
   "execution_count": 20,
   "metadata": {},
   "outputs": [],
   "source": [
    "labels=list(range(1,41))"
   ]
  },
  {
   "cell_type": "code",
   "execution_count": 21,
   "metadata": {},
   "outputs": [
    {
     "name": "stdout",
     "output_type": "stream",
     "text": [
      "Train dimension:\n",
      "(12600, 600)\n",
      "Test dimension:\n",
      "(5400, 600)\n"
     ]
    }
   ],
   "source": [
    "yclass=y.copy()\n",
    "yclass[yclass!=13]=0\n",
    "yclass[yclass==13]=1\n",
    "X_train, X_test, yclass_train, yclass_test = train_test_split(b,yclass,test_size=0.3,random_state=0)\n",
    "print('Train dimension:');print(X_train.shape)\n",
    "print('Test dimension:');print(X_test.shape)\n",
    "Y_train = to_categorical(yclass_train, num_classes)\n",
    "Y_test = to_categorical(yclass_test, num_classes)"
   ]
  },
  {
   "cell_type": "code",
   "execution_count": 22,
   "metadata": {},
   "outputs": [
    {
     "name": "stdout",
     "output_type": "stream",
     "text": [
      "Feature shape: (600,)\n",
      "Model: \"sequential_2\"\n",
      "_________________________________________________________________\n",
      "Layer (type)                 Output Shape              Param #   \n",
      "=================================================================\n",
      "dropout_2 (Dropout)          (None, 600)               0         \n",
      "_________________________________________________________________\n",
      "dense_4 (Dense)              (None, 400)               240400    \n",
      "_________________________________________________________________\n",
      "dense_5 (Dense)              (None, 50)                20050     \n",
      "_________________________________________________________________\n",
      "dense_6 (Dense)              (None, 18000)             918000    \n",
      "=================================================================\n",
      "Total params: 1,178,450\n",
      "Trainable params: 1,178,450\n",
      "Non-trainable params: 0\n",
      "_________________________________________________________________\n"
     ]
    }
   ],
   "source": [
    "# Set the input shape\n",
    "input_shape = (feature_vector_length,)\n",
    "print(f'Feature shape: {input_shape}')\n",
    "\n",
    "# Create the model\n",
    "model = Sequential()\n",
    "model.add(Dropout(0.3, input_shape=input_shape))\n",
    "model.add(Dense(400, input_shape=input_shape, activation='relu'))\n",
    "model.add(Dense(50, activation='relu'))\n",
    "model.add(Dense(num_classes, activation='softmax'))\n",
    "model.summary()"
   ]
  },
  {
   "cell_type": "code",
   "execution_count": 23,
   "metadata": {
    "scrolled": false
   },
   "outputs": [
    {
     "name": "stdout",
     "output_type": "stream",
     "text": [
      "Train on 10080 samples, validate on 2520 samples\n",
      "Epoch 1/50\n",
      "10080/10080 [==============================] - 12s 1ms/step - loss: 1.9617 - accuracy: 1.0000 - precision: 0.9771 - recall: 0.7117 - val_loss: 0.3396 - val_accuracy: 1.0000 - val_precision: 0.9703 - val_recall: 0.9579\n",
      "Epoch 2/50\n",
      "10080/10080 [==============================] - 11s 1ms/step - loss: 0.2769 - accuracy: 1.0000 - precision: 0.9759 - recall: 0.9705 - val_loss: 0.3077 - val_accuracy: 1.0000 - val_precision: 0.9702 - val_recall: 0.9690\n",
      "Epoch 3/50\n",
      "10080/10080 [==============================] - 12s 1ms/step - loss: 0.2679 - accuracy: 1.0000 - precision: 0.9760 - recall: 0.9752 - val_loss: 0.3171 - val_accuracy: 1.0000 - val_precision: 0.9702 - val_recall: 0.9702\n",
      "Epoch 4/50\n",
      "10080/10080 [==============================] - 12s 1ms/step - loss: 0.2555 - accuracy: 1.0000 - precision: 0.9760 - recall: 0.9760 - val_loss: 0.2448 - val_accuracy: 1.0000 - val_precision: 0.9702 - val_recall: 0.9702\n",
      "Epoch 5/50\n",
      "10080/10080 [==============================] - 12s 1ms/step - loss: 0.2626 - accuracy: 1.0000 - precision: 0.9760 - recall: 0.9760 - val_loss: 0.3777 - val_accuracy: 1.0000 - val_precision: 0.9702 - val_recall: 0.9702\n",
      "Epoch 6/50\n",
      "10080/10080 [==============================] - 12s 1ms/step - loss: 0.2596 - accuracy: 1.0000 - precision: 0.9760 - recall: 0.9760 - val_loss: 0.2279 - val_accuracy: 1.0000 - val_precision: 0.9702 - val_recall: 0.9702\n",
      "Epoch 7/50\n",
      "10080/10080 [==============================] - 12s 1ms/step - loss: 0.2150 - accuracy: 1.0000 - precision: 0.9760 - recall: 0.9760 - val_loss: 0.2147 - val_accuracy: 1.0000 - val_precision: 0.9702 - val_recall: 0.9702\n",
      "Epoch 8/50\n",
      "10080/10080 [==============================] - 12s 1ms/step - loss: 0.1710 - accuracy: 1.0000 - precision: 0.9760 - recall: 0.9760 - val_loss: 0.1650 - val_accuracy: 1.0000 - val_precision: 0.9702 - val_recall: 0.9702\n",
      "Epoch 9/50\n",
      "10080/10080 [==============================] - 12s 1ms/step - loss: 0.1340 - accuracy: 1.0000 - precision: 0.9760 - recall: 0.9760 - val_loss: 0.1362 - val_accuracy: 1.0000 - val_precision: 0.9702 - val_recall: 0.9702\n",
      "Epoch 10/50\n",
      "10080/10080 [==============================] - 13s 1ms/step - loss: 0.1239 - accuracy: 1.0000 - precision: 0.9760 - recall: 0.9760 - val_loss: 0.1331 - val_accuracy: 1.0000 - val_precision: 0.9702 - val_recall: 0.9702\n",
      "Epoch 11/50\n",
      "10080/10080 [==============================] - 13s 1ms/step - loss: 0.1182 - accuracy: 1.0000 - precision: 0.9760 - recall: 0.9760 - val_loss: 0.1394 - val_accuracy: 1.0000 - val_precision: 0.9702 - val_recall: 0.9702\n",
      "Epoch 12/50\n",
      "10080/10080 [==============================] - 12s 1ms/step - loss: 0.1199 - accuracy: 1.0000 - precision: 0.9760 - recall: 0.9760 - val_loss: 0.1310 - val_accuracy: 1.0000 - val_precision: 0.9702 - val_recall: 0.9702\n",
      "Epoch 13/50\n",
      "10080/10080 [==============================] - 13s 1ms/step - loss: 0.1177 - accuracy: 1.0000 - precision: 0.9760 - recall: 0.9760 - val_loss: 0.1329 - val_accuracy: 1.0000 - val_precision: 0.9702 - val_recall: 0.9702\n",
      "Epoch 14/50\n",
      "10080/10080 [==============================] - 12s 1ms/step - loss: 0.1163 - accuracy: 1.0000 - precision: 0.9760 - recall: 0.9760 - val_loss: 0.1331 - val_accuracy: 1.0000 - val_precision: 0.9702 - val_recall: 0.9702\n",
      "Epoch 15/50\n",
      "10080/10080 [==============================] - 13s 1ms/step - loss: 0.1195 - accuracy: 1.0000 - precision: 0.9760 - recall: 0.9760 - val_loss: 0.1370 - val_accuracy: 1.0000 - val_precision: 0.9702 - val_recall: 0.9702\n",
      "Epoch 16/50\n",
      "10080/10080 [==============================] - 12s 1ms/step - loss: 0.1171 - accuracy: 1.0000 - precision: 0.9760 - recall: 0.9760 - val_loss: 0.1317 - val_accuracy: 1.0000 - val_precision: 0.9702 - val_recall: 0.9702\n",
      "Epoch 17/50\n",
      "10080/10080 [==============================] - 13s 1ms/step - loss: 0.1173 - accuracy: 1.0000 - precision: 0.9760 - recall: 0.9760 - val_loss: 0.1311 - val_accuracy: 1.0000 - val_precision: 0.9702 - val_recall: 0.9702\n",
      "Epoch 18/50\n",
      "10080/10080 [==============================] - 12s 1ms/step - loss: 0.1156 - accuracy: 1.0000 - precision: 0.9760 - recall: 0.9760 - val_loss: 0.1315 - val_accuracy: 1.0000 - val_precision: 0.9702 - val_recall: 0.9702\n",
      "Epoch 19/50\n",
      "10080/10080 [==============================] - 12s 1ms/step - loss: 0.1152 - accuracy: 1.0000 - precision: 0.9760 - recall: 0.9760 - val_loss: 0.1319 - val_accuracy: 1.0000 - val_precision: 0.9702 - val_recall: 0.9702\n",
      "Epoch 20/50\n",
      "10080/10080 [==============================] - 12s 1ms/step - loss: 0.1145 - accuracy: 1.0000 - precision: 0.9760 - recall: 0.9760 - val_loss: 0.1315 - val_accuracy: 1.0000 - val_precision: 0.9702 - val_recall: 0.9702\n",
      "Epoch 21/50\n",
      "10080/10080 [==============================] - 12s 1ms/step - loss: 0.1137 - accuracy: 1.0000 - precision: 0.9760 - recall: 0.9760 - val_loss: 0.1386 - val_accuracy: 1.0000 - val_precision: 0.9702 - val_recall: 0.9702\n",
      "Epoch 22/50\n",
      "10080/10080 [==============================] - 11s 1ms/step - loss: 0.1155 - accuracy: 1.0000 - precision: 0.9760 - recall: 0.9760 - val_loss: 0.1334 - val_accuracy: 1.0000 - val_precision: 0.9702 - val_recall: 0.9702\n",
      "Epoch 23/50\n",
      "10080/10080 [==============================] - 12s 1ms/step - loss: 0.1146 - accuracy: 1.0000 - precision: 0.9760 - recall: 0.9760 - val_loss: 0.1319 - val_accuracy: 1.0000 - val_precision: 0.9702 - val_recall: 0.9702\n",
      "Epoch 24/50\n",
      "10080/10080 [==============================] - 12s 1ms/step - loss: 0.1159 - accuracy: 1.0000 - precision: 0.9760 - recall: 0.9760 - val_loss: 0.1315 - val_accuracy: 1.0000 - val_precision: 0.9702 - val_recall: 0.9702\n",
      "Epoch 25/50\n",
      "10080/10080 [==============================] - 12s 1ms/step - loss: 0.1132 - accuracy: 1.0000 - precision: 0.9760 - recall: 0.9760 - val_loss: 0.1368 - val_accuracy: 1.0000 - val_precision: 0.9702 - val_recall: 0.9702\n",
      "Epoch 26/50\n",
      "10080/10080 [==============================] - 13s 1ms/step - loss: 0.1147 - accuracy: 1.0000 - precision: 0.9760 - recall: 0.9760 - val_loss: 0.1345 - val_accuracy: 1.0000 - val_precision: 0.9702 - val_recall: 0.9702\n",
      "Epoch 27/50\n",
      "10080/10080 [==============================] - 12s 1ms/step - loss: 0.1132 - accuracy: 1.0000 - precision: 0.9760 - recall: 0.9760 - val_loss: 0.1299 - val_accuracy: 1.0000 - val_precision: 0.9702 - val_recall: 0.9702\n",
      "Epoch 28/50\n",
      "10080/10080 [==============================] - 12s 1ms/step - loss: 0.1138 - accuracy: 1.0000 - precision: 0.9760 - recall: 0.9760 - val_loss: 0.1305 - val_accuracy: 1.0000 - val_precision: 0.9702 - val_recall: 0.9702\n",
      "Epoch 29/50\n",
      "10080/10080 [==============================] - 12s 1ms/step - loss: 0.1139 - accuracy: 1.0000 - precision: 0.9760 - recall: 0.9760 - val_loss: 0.1304 - val_accuracy: 1.0000 - val_precision: 0.9702 - val_recall: 0.9702\n",
      "Epoch 30/50\n",
      "10080/10080 [==============================] - 12s 1ms/step - loss: 0.1142 - accuracy: 1.0000 - precision: 0.9760 - recall: 0.9760 - val_loss: 0.1299 - val_accuracy: 1.0000 - val_precision: 0.9702 - val_recall: 0.9702\n",
      "Epoch 31/50\n",
      "10080/10080 [==============================] - 12s 1ms/step - loss: 0.1139 - accuracy: 1.0000 - precision: 0.9760 - recall: 0.9760 - val_loss: 0.1318 - val_accuracy: 1.0000 - val_precision: 0.9702 - val_recall: 0.9702\n",
      "Epoch 32/50\n",
      "10080/10080 [==============================] - 13s 1ms/step - loss: 0.1137 - accuracy: 1.0000 - precision: 0.9760 - recall: 0.9760 - val_loss: 0.1300 - val_accuracy: 1.0000 - val_precision: 0.9702 - val_recall: 0.9702\n",
      "Epoch 33/50\n",
      "10080/10080 [==============================] - 12s 1ms/step - loss: 0.1135 - accuracy: 1.0000 - precision: 0.9760 - recall: 0.9760 - val_loss: 0.1352 - val_accuracy: 1.0000 - val_precision: 0.9702 - val_recall: 0.9702\n",
      "Epoch 34/50\n",
      "10080/10080 [==============================] - 12s 1ms/step - loss: 0.1139 - accuracy: 1.0000 - precision: 0.9760 - recall: 0.9760 - val_loss: 0.1313 - val_accuracy: 1.0000 - val_precision: 0.9702 - val_recall: 0.9702\n",
      "Epoch 35/50\n",
      "10080/10080 [==============================] - 13s 1ms/step - loss: 0.1125 - accuracy: 1.0000 - precision: 0.9760 - recall: 0.9760 - val_loss: 0.1296 - val_accuracy: 1.0000 - val_precision: 0.9702 - val_recall: 0.9702\n",
      "Epoch 36/50\n",
      "10080/10080 [==============================] - 13s 1ms/step - loss: 0.1130 - accuracy: 1.0000 - precision: 0.9760 - recall: 0.9760 - val_loss: 0.1299 - val_accuracy: 1.0000 - val_precision: 0.9702 - val_recall: 0.9702\n",
      "Epoch 37/50\n",
      "10080/10080 [==============================] - 12s 1ms/step - loss: 0.1134 - accuracy: 1.0000 - precision: 0.9760 - recall: 0.9760 - val_loss: 0.1305 - val_accuracy: 1.0000 - val_precision: 0.9702 - val_recall: 0.9702\n",
      "Epoch 38/50\n",
      "10080/10080 [==============================] - 12s 1ms/step - loss: 0.1134 - accuracy: 1.0000 - precision: 0.9760 - recall: 0.9760 - val_loss: 0.1301 - val_accuracy: 1.0000 - val_precision: 0.9702 - val_recall: 0.9702\n",
      "Epoch 39/50\n",
      "10080/10080 [==============================] - 14s 1ms/step - loss: 0.1139 - accuracy: 1.0000 - precision: 0.9760 - recall: 0.9760 - val_loss: 0.1348 - val_accuracy: 1.0000 - val_precision: 0.9702 - val_recall: 0.9702\n",
      "Epoch 40/50\n",
      "10080/10080 [==============================] - 13s 1ms/step - loss: 0.1151 - accuracy: 1.0000 - precision: 0.9760 - recall: 0.9759 - val_loss: 0.1318 - val_accuracy: 1.0000 - val_precision: 0.9702 - val_recall: 0.9702\n",
      "Epoch 41/50\n",
      "10080/10080 [==============================] - 13s 1ms/step - loss: 0.1144 - accuracy: 1.0000 - precision: 0.9760 - recall: 0.9760 - val_loss: 0.1305 - val_accuracy: 1.0000 - val_precision: 0.9702 - val_recall: 0.9702\n",
      "Epoch 42/50\n",
      "10080/10080 [==============================] - 13s 1ms/step - loss: 0.1138 - accuracy: 1.0000 - precision: 0.9760 - recall: 0.9760 - val_loss: 0.1306 - val_accuracy: 1.0000 - val_precision: 0.9702 - val_recall: 0.9702\n",
      "Epoch 43/50\n",
      "10080/10080 [==============================] - 12s 1ms/step - loss: 0.1131 - accuracy: 1.0000 - precision: 0.9760 - recall: 0.9760 - val_loss: 0.1325 - val_accuracy: 1.0000 - val_precision: 0.9702 - val_recall: 0.9702\n",
      "Epoch 44/50\n",
      "10080/10080 [==============================] - 11s 1ms/step - loss: 0.1130 - accuracy: 1.0000 - precision: 0.9760 - recall: 0.9759 - val_loss: 0.1305 - val_accuracy: 1.0000 - val_precision: 0.9702 - val_recall: 0.9702\n",
      "Epoch 45/50\n",
      "10080/10080 [==============================] - 12s 1ms/step - loss: 0.1129 - accuracy: 1.0000 - precision: 0.9760 - recall: 0.9760 - val_loss: 0.1324 - val_accuracy: 1.0000 - val_precision: 0.9702 - val_recall: 0.9702\n",
      "Epoch 46/50\n",
      "10080/10080 [==============================] - 12s 1ms/step - loss: 0.1120 - accuracy: 1.0000 - precision: 0.9760 - recall: 0.9760 - val_loss: 0.1301 - val_accuracy: 1.0000 - val_precision: 0.9702 - val_recall: 0.9702\n",
      "Epoch 47/50\n",
      "10080/10080 [==============================] - 11s 1ms/step - loss: 0.1131 - accuracy: 1.0000 - precision: 0.9760 - recall: 0.9760 - val_loss: 0.1311 - val_accuracy: 1.0000 - val_precision: 0.9702 - val_recall: 0.9702\n",
      "Epoch 48/50\n",
      "10080/10080 [==============================] - 11s 1ms/step - loss: 0.1126 - accuracy: 1.0000 - precision: 0.9760 - recall: 0.9760 - val_loss: 0.1299 - val_accuracy: 1.0000 - val_precision: 0.9702 - val_recall: 0.9702\n",
      "Epoch 49/50\n",
      "10080/10080 [==============================] - 12s 1ms/step - loss: 0.1135 - accuracy: 1.0000 - precision: 0.9760 - recall: 0.9760 - val_loss: 0.1329 - val_accuracy: 1.0000 - val_precision: 0.9702 - val_recall: 0.9702\n",
      "Epoch 50/50\n",
      "10080/10080 [==============================] - 12s 1ms/step - loss: 0.1142 - accuracy: 1.0000 - precision: 0.9760 - recall: 0.9760 - val_loss: 0.1306 - val_accuracy: 1.0000 - val_precision: 0.9702 - val_recall: 0.9702\n"
     ]
    }
   ],
   "source": [
    "# Configure the model and start training\n",
    "model.compile(loss='categorical_crossentropy', optimizer='adam', metrics=[keras.metrics.BinaryAccuracy(name=\"accuracy\"), keras.metrics.Precision(name=\"precision\"),keras.metrics.Recall(name=\"recall\")])\n",
    "baseline_history=model.fit(X_train, Y_train, epochs=50, batch_size=100, verbose=1, validation_split=0.2)"
   ]
  },
  {
   "cell_type": "code",
   "execution_count": 24,
   "metadata": {},
   "outputs": [
    {
     "name": "stdout",
     "output_type": "stream",
     "text": [
      "5400/5400 [==============================] - 3s 472us/step\n",
      "Test results - Loss: 0.11295229329279176 - Accuracy: 0.9999980926513672% -Precision: 0.9753703474998474% -Recall: 0.9753703474998474%\n"
     ]
    }
   ],
   "source": [
    "# Test the model after training\n",
    "test_results = model.evaluate(X_test, Y_test, verbose=1)\n",
    "print(f'Test results - Loss: {test_results[0]} - Accuracy: {test_results[1]}% -Precision: {test_results[2]}% -Recall: {test_results[3]}%')"
   ]
  },
  {
   "cell_type": "code",
   "execution_count": 25,
   "metadata": {},
   "outputs": [],
   "source": [
    "#Function for plotting\n",
    "mpl.rcParams['figure.figsize'] = (12, 10)\n",
    "colors = plt.rcParams['axes.prop_cycle'].by_key()['color']\n",
    "def plot_metrics(history):\n",
    "  metrics =  ['loss', 'accuracy','precision','recall']\n",
    "  for n, metric in enumerate(metrics):\n",
    "    name = metric.replace(\"_\",\" \").capitalize()\n",
    "    plt.subplot(2,2,n+1)\n",
    "    plt.plot(history.epoch,  history.history[metric], color=colors[0], label='Train')\n",
    "    plt.plot(history.epoch, history.history['val_'+metric],\n",
    "             color=colors[0], linestyle=\"--\", label='Val')\n",
    "    plt.xlabel('Epoch')\n",
    "    plt.ylabel(name)\n",
    "    if metric == 'loss':\n",
    "      plt.ylim([0, plt.ylim()[1]])\n",
    "    else:\n",
    "      plt.ylim([0,1])\n",
    "\n",
    "    plt.legend()"
   ]
  },
  {
   "cell_type": "code",
   "execution_count": 26,
   "metadata": {},
   "outputs": [
    {
     "data": {
      "image/png": "[encoded data removed]",
      "text/plain": [
       "<Figure size 864x720 with 4 Axes>"
      ]
     },
     "metadata": {
      "needs_background": "light"
     },
     "output_type": "display_data"
    }
   ],
   "source": [
    "plot_metrics(baseline_history)"
   ]
  },
  {
   "cell_type": "code",
   "execution_count": 34,
   "metadata": {},
   "outputs": [
    {
     "name": "stdout",
     "output_type": "stream",
     "text": [
      "5400\n",
      "133\n",
      "0\n",
      "f1_scores, training set [0.98726038 0.        ] f1_scores in testing set [0.98753164 0.        ]\n"
     ]
    }
   ],
   "source": [
    "#Computing F1-score\n",
    "train_features = np.array(X_train)\n",
    "test_features = np.array(X_test)\n",
    "train_labels=np.array(yclass_train)\n",
    "test_labels=np.array(yclass_test)\n",
    "print(len(test_labels))\n",
    "print(np.count_nonzero(test_labels==1))\n",
    "train_predictions_baseline = model.predict_classes(train_features, batch_size=100)\n",
    "f1_train=sklearn.metrics.f1_score(train_labels, train_predictions_baseline, average=None)\n",
    "test_predictions_baseline = model.predict_classes(test_features, batch_size=100)\n",
    "print(np.count_nonzero(test_predictions_baseline==1))\n",
    "f1_test=sklearn.metrics.f1_score(test_labels, test_predictions_baseline, average=None)\n",
    "print('f1_scores, training set',f1_train,'f1_scores in testing set',f1_test)"
   ]
  },
  {
   "cell_type": "code",
   "execution_count": 44,
   "metadata": {},
   "outputs": [
    {
     "name": "stdout",
     "output_type": "stream",
     "text": [
      "[0. 1.] [0. 1.]\n"
     ]
    }
   ],
   "source": [
    "#The ROC curve\n",
    "fp, tp, _ = sklearn.metrics.roc_curve(train_labels, train_predictions_baseline)\n",
    "fp1, tp1, _ = sklearn.metrics.roc_curve(test_labels, test_predictions_baseline)\n",
    "roc_auc = sklearn.metrics.auc(fp,tp)\n",
    "roc_auc1 = sklearn.metrics.auc(fp1,tp1)\n",
    "print(fp,tp)"
   ]
  },
  {
   "cell_type": "code",
   "execution_count": 45,
   "metadata": {},
   "outputs": [
    {
     "data": {
      "image/png": "[encoded data removed]",
      "text/plain": [
       "<Figure size 864x720 with 1 Axes>"
      ]
     },
     "metadata": {
      "needs_background": "light"
     },
     "output_type": "display_data"
    }
   ],
   "source": [
    "fig, ax = plt.subplots(1, 1)\n",
    "ax.plot(fp, tp, 'b', label='AUC-train = %0.2f'% roc_auc)\n",
    "ax.plot(fp1, tp1, 'b--', label='AUC-test = %0.2f'% roc_auc1)\n",
    "plt.legend(loc='lower right')\n",
    "plt.plot([0,1],[0,1],'r--')\n",
    "plt.xlim([0,1.0])\n",
    "plt.ylim([0,1.0])\n",
    "plt.ylabel('True Positive Rate')\n",
    "plt.xlabel('False Positive Rate')\n",
    "plt.grid(True)\n",
    "plt.show()"
   ]
  },
  {
   "cell_type": "code",
   "execution_count": null,
   "metadata": {},
   "outputs": [],
   "source": []
  }
 ],
 "metadata": {
  "kernelspec": {
   "display_name": "Python 3",
   "language": "python",
   "name": "python3"
  },
  "language_info": {
   "codemirror_mode": {
    "name": "ipython",
    "version": 3
   },
   "file_extension": ".py",
   "mimetype": "text/x-python",
   "name": "python",
   "nbconvert_exporter": "python",
   "pygments_lexer": "ipython3",
   "version": "3.7.3"
  }
 },
 "nbformat": 4,
 "nbformat_minor": 2
}
