{
 "cells": [
  {
   "cell_type": "markdown",
   "metadata": {},
   "source": [
    "### MLP for analytes classification on the lower part of the spectra using 50 PC\n",
    "#### Edgar Acuna\n",
    "#### July 2020"
   ]
  },
  {
   "cell_type": "code",
   "execution_count": 1,
   "metadata": {},
   "outputs": [],
   "source": [
    "import tensorflow as tf\n",
    "from tensorflow import keras\n",
    "import os\n",
    "import tempfile\n",
    "import matplotlib as mpl\n",
    "import matplotlib.pyplot as plt\n",
    "import numpy as np\n",
    "import seaborn as sns\n",
    "import sklearn\n",
    "from sklearn.model_selection import train_test_split\n",
    "import keras\n",
    "import pandas as pd\n",
    "from keras.models import Sequential\n",
    "from keras.layers import Dense\n",
    "from keras.layers import Dropout\n",
    "from keras.utils import to_categorical"
   ]
  },
  {
   "cell_type": "code",
   "execution_count": 2,
   "metadata": {},
   "outputs": [],
   "source": [
    "#loading the data\n",
    "df1=pd.read_csv(\"c://onr2020/NRLset1_part1.csv\",header=None)\n",
    "df2=pd.read_csv(\"c://onr2020/NRLset1_part2.csv\",header=None)\n",
    "df3=pd.read_csv(\"c://onr2020/NRLset1_part3.csv\",header=None)\n",
    "df4=pd.read_csv(\"c://onr2020/NRLset1_part4.csv\",header=None)\n",
    "df5=pd.read_csv(\"c://onr2020/NRLset1_part5.csv\",header=None)\n",
    "df6=pd.read_csv(\"c://onr2020/NRLset1_part6.csv\",header=None)\n",
    "df7=pd.read_csv(\"c://onr2020/NRLset1_part7.csv\",header=None)\n",
    "df8=pd.read_csv(\"c://onr2020/NRLset1_part8.csv\",header=None)\n",
    "y=pd.read_csv(\"c://onr2020/labels.csv\",header=None)"
   ]
  },
  {
   "cell_type": "code",
   "execution_count": 3,
   "metadata": {},
   "outputs": [],
   "source": [
    "dfset1=pd.concat([df1,df2,df3,df4,df5,df6,df7,df8],ignore_index=True)"
   ]
  },
  {
   "cell_type": "code",
   "execution_count": 4,
   "metadata": {},
   "outputs": [],
   "source": [
    "dfset3=dfset1.copy()\n",
    "dfset3=dfset3.iloc[:,0:600]"
   ]
  },
  {
   "cell_type": "code",
   "execution_count": 5,
   "metadata": {},
   "outputs": [
    {
     "data": {
      "text/html": [
       "<div>\n",
       "<style scoped>\n",
       "    .dataframe tbody tr th:only-of-type {\n",
       "        vertical-align: middle;\n",
       "    }\n",
       "\n",
       "    .dataframe tbody tr th {\n",
       "        vertical-align: top;\n",
       "    }\n",
       "\n",
       "    .dataframe thead th {\n",
       "        text-align: right;\n",
       "    }\n",
       "</style>\n",
       "<table border=\"1\" class=\"dataframe\">\n",
       "  <thead>\n",
       "    <tr style=\"text-align: right;\">\n",
       "      <th></th>\n",
       "      <th>0</th>\n",
       "      <th>1</th>\n",
       "      <th>2</th>\n",
       "      <th>3</th>\n",
       "      <th>4</th>\n",
       "      <th>5</th>\n",
       "      <th>6</th>\n",
       "      <th>7</th>\n",
       "      <th>8</th>\n",
       "      <th>9</th>\n",
       "      <th>...</th>\n",
       "      <th>40</th>\n",
       "      <th>41</th>\n",
       "      <th>42</th>\n",
       "      <th>43</th>\n",
       "      <th>44</th>\n",
       "      <th>45</th>\n",
       "      <th>46</th>\n",
       "      <th>47</th>\n",
       "      <th>48</th>\n",
       "      <th>49</th>\n",
       "    </tr>\n",
       "  </thead>\n",
       "  <tbody>\n",
       "    <tr>\n",
       "      <th>0</th>\n",
       "      <td>-3.011880</td>\n",
       "      <td>-0.293119</td>\n",
       "      <td>-0.014556</td>\n",
       "      <td>-0.165692</td>\n",
       "      <td>0.138618</td>\n",
       "      <td>-0.013305</td>\n",
       "      <td>-0.011041</td>\n",
       "      <td>-0.136378</td>\n",
       "      <td>-0.027276</td>\n",
       "      <td>0.043958</td>\n",
       "      <td>...</td>\n",
       "      <td>-0.003026</td>\n",
       "      <td>-0.003374</td>\n",
       "      <td>0.003275</td>\n",
       "      <td>0.006709</td>\n",
       "      <td>0.000243</td>\n",
       "      <td>0.001225</td>\n",
       "      <td>-0.008636</td>\n",
       "      <td>-0.005572</td>\n",
       "      <td>-0.002610</td>\n",
       "      <td>0.004132</td>\n",
       "    </tr>\n",
       "    <tr>\n",
       "      <th>1</th>\n",
       "      <td>14.780626</td>\n",
       "      <td>-0.257458</td>\n",
       "      <td>-0.282557</td>\n",
       "      <td>0.015802</td>\n",
       "      <td>0.080279</td>\n",
       "      <td>-0.222944</td>\n",
       "      <td>-0.233429</td>\n",
       "      <td>0.215533</td>\n",
       "      <td>-0.061237</td>\n",
       "      <td>-0.093064</td>\n",
       "      <td>...</td>\n",
       "      <td>-0.000048</td>\n",
       "      <td>-0.008293</td>\n",
       "      <td>0.003616</td>\n",
       "      <td>-0.010824</td>\n",
       "      <td>-0.003502</td>\n",
       "      <td>0.000339</td>\n",
       "      <td>0.007285</td>\n",
       "      <td>0.000124</td>\n",
       "      <td>-0.006382</td>\n",
       "      <td>0.003875</td>\n",
       "    </tr>\n",
       "    <tr>\n",
       "      <th>2</th>\n",
       "      <td>-2.013662</td>\n",
       "      <td>0.523393</td>\n",
       "      <td>-0.079360</td>\n",
       "      <td>0.456295</td>\n",
       "      <td>-0.094182</td>\n",
       "      <td>-0.062630</td>\n",
       "      <td>-0.013776</td>\n",
       "      <td>-0.019774</td>\n",
       "      <td>0.007018</td>\n",
       "      <td>0.031852</td>\n",
       "      <td>...</td>\n",
       "      <td>0.002556</td>\n",
       "      <td>0.000626</td>\n",
       "      <td>-0.002208</td>\n",
       "      <td>-0.002324</td>\n",
       "      <td>-0.001818</td>\n",
       "      <td>0.006969</td>\n",
       "      <td>0.000101</td>\n",
       "      <td>0.006840</td>\n",
       "      <td>0.009590</td>\n",
       "      <td>0.004939</td>\n",
       "    </tr>\n",
       "    <tr>\n",
       "      <th>3</th>\n",
       "      <td>-2.231554</td>\n",
       "      <td>0.480415</td>\n",
       "      <td>-0.066154</td>\n",
       "      <td>0.448957</td>\n",
       "      <td>-0.033304</td>\n",
       "      <td>-0.132820</td>\n",
       "      <td>-0.004732</td>\n",
       "      <td>-0.026102</td>\n",
       "      <td>-0.000955</td>\n",
       "      <td>0.017358</td>\n",
       "      <td>...</td>\n",
       "      <td>0.005096</td>\n",
       "      <td>0.001287</td>\n",
       "      <td>-0.001489</td>\n",
       "      <td>-0.000412</td>\n",
       "      <td>0.001321</td>\n",
       "      <td>0.000956</td>\n",
       "      <td>0.001006</td>\n",
       "      <td>0.000276</td>\n",
       "      <td>0.000230</td>\n",
       "      <td>0.000293</td>\n",
       "    </tr>\n",
       "    <tr>\n",
       "      <th>4</th>\n",
       "      <td>-3.479203</td>\n",
       "      <td>-0.520703</td>\n",
       "      <td>0.003115</td>\n",
       "      <td>-0.162048</td>\n",
       "      <td>0.077606</td>\n",
       "      <td>-0.007439</td>\n",
       "      <td>0.029470</td>\n",
       "      <td>0.009211</td>\n",
       "      <td>-0.014149</td>\n",
       "      <td>0.022831</td>\n",
       "      <td>...</td>\n",
       "      <td>0.000817</td>\n",
       "      <td>0.007838</td>\n",
       "      <td>-0.004409</td>\n",
       "      <td>-0.002721</td>\n",
       "      <td>-0.007552</td>\n",
       "      <td>-0.000711</td>\n",
       "      <td>-0.000411</td>\n",
       "      <td>0.002272</td>\n",
       "      <td>0.001429</td>\n",
       "      <td>-0.003124</td>\n",
       "    </tr>\n",
       "  </tbody>\n",
       "</table>\n",
       "<p>5 rows × 50 columns</p>\n",
       "</div>"
      ],
      "text/plain": [
       "          0         1         2         3         4         5         6   \\\n",
       "0  -3.011880 -0.293119 -0.014556 -0.165692  0.138618 -0.013305 -0.011041   \n",
       "1  14.780626 -0.257458 -0.282557  0.015802  0.080279 -0.222944 -0.233429   \n",
       "2  -2.013662  0.523393 -0.079360  0.456295 -0.094182 -0.062630 -0.013776   \n",
       "3  -2.231554  0.480415 -0.066154  0.448957 -0.033304 -0.132820 -0.004732   \n",
       "4  -3.479203 -0.520703  0.003115 -0.162048  0.077606 -0.007439  0.029470   \n",
       "\n",
       "         7         8         9   ...        40        41        42        43  \\\n",
       "0 -0.136378 -0.027276  0.043958  ... -0.003026 -0.003374  0.003275  0.006709   \n",
       "1  0.215533 -0.061237 -0.093064  ... -0.000048 -0.008293  0.003616 -0.010824   \n",
       "2 -0.019774  0.007018  0.031852  ...  0.002556  0.000626 -0.002208 -0.002324   \n",
       "3 -0.026102 -0.000955  0.017358  ...  0.005096  0.001287 -0.001489 -0.000412   \n",
       "4  0.009211 -0.014149  0.022831  ...  0.000817  0.007838 -0.004409 -0.002721   \n",
       "\n",
       "         44        45        46        47        48        49  \n",
       "0  0.000243  0.001225 -0.008636 -0.005572 -0.002610  0.004132  \n",
       "1 -0.003502  0.000339  0.007285  0.000124 -0.006382  0.003875  \n",
       "2 -0.001818  0.006969  0.000101  0.006840  0.009590  0.004939  \n",
       "3  0.001321  0.000956  0.001006  0.000276  0.000230  0.000293  \n",
       "4 -0.007552 -0.000711 -0.000411  0.002272  0.001429 -0.003124  \n",
       "\n",
       "[5 rows x 50 columns]"
      ]
     },
     "execution_count": 5,
     "metadata": {},
     "output_type": "execute_result"
    }
   ],
   "source": [
    "from sklearn.decomposition import PCA\n",
    "dfset4=dfset3.copy()\n",
    "pca = PCA(n_components=50)\n",
    "pca_result = pca.fit_transform(dfset4)\n",
    "dfset3['pca-one'] = pca_result[:,0]\n",
    "dfset3['pca-two'] = pca_result[:,1] \n",
    "dfset3['pca-three'] = pca_result[:,2]\n",
    "pca_result.shape\n",
    "b=pd.DataFrame(pca_result)\n",
    "b.head()"
   ]
  },
  {
   "cell_type": "code",
   "execution_count": 6,
   "metadata": {},
   "outputs": [],
   "source": [
    "# Configuration options\n",
    "feature_vector_length = 50\n",
    "num_classes = 18000"
   ]
  },
  {
   "cell_type": "code",
   "execution_count": 7,
   "metadata": {},
   "outputs": [
    {
     "name": "stdout",
     "output_type": "stream",
     "text": [
      "Train dimension:\n",
      "(12600, 50)\n",
      "Test dimension:\n",
      "(5400, 50)\n"
     ]
    }
   ],
   "source": [
    "X_train, X_test, Y_train, Y_test = train_test_split(b,y, test_size=0.3,random_state=0)\n",
    "print('Train dimension:');print(X_train.shape)\n",
    "print('Test dimension:');print(X_test.shape)\n",
    "\n",
    "# Convert target classes to categorical ones\n",
    "Y_train = to_categorical(Y_train, num_classes)\n",
    "Y_test = to_categorical(Y_test, num_classes)"
   ]
  },
  {
   "cell_type": "code",
   "execution_count": 8,
   "metadata": {},
   "outputs": [
    {
     "name": "stdout",
     "output_type": "stream",
     "text": [
      "Feature shape: (50,)\n",
      "Model: \"sequential\"\n",
      "_________________________________________________________________\n",
      "Layer (type)                 Output Shape              Param #   \n",
      "=================================================================\n",
      "dropout (Dropout)            (None, 50)                0         \n",
      "_________________________________________________________________\n",
      "dense (Dense)                (None, 400)               20400     \n",
      "_________________________________________________________________\n",
      "dense_1 (Dense)              (None, 50)                20050     \n",
      "_________________________________________________________________\n",
      "dense_2 (Dense)              (None, 18000)             918000    \n",
      "=================================================================\n",
      "Total params: 958,450\n",
      "Trainable params: 958,450\n",
      "Non-trainable params: 0\n",
      "_________________________________________________________________\n"
     ]
    }
   ],
   "source": [
    "# Set the input shape\n",
    "input_shape = (feature_vector_length,)\n",
    "print(f'Feature shape: {input_shape}')\n",
    "\n",
    "# Create the model\n",
    "model = Sequential()\n",
    "model.add(Dropout(0.2, input_shape=input_shape))\n",
    "model.add(Dense(400, input_shape=input_shape, activation='relu'))\n",
    "model.add(Dense(50, activation='relu'))\n",
    "model.add(Dense(num_classes, activation='softmax'))\n",
    "model.summary()"
   ]
  },
  {
   "cell_type": "code",
   "execution_count": 9,
   "metadata": {},
   "outputs": [
    {
     "name": "stdout",
     "output_type": "stream",
     "text": [
      "Epoch 1/100\n",
      "202/202 [==============================] - 3s 14ms/step - loss: 6.4055 - accuracy: 0.0298 - val_loss: 3.7373 - val_accuracy: 0.0286\n",
      "Epoch 2/100\n",
      "202/202 [==============================] - 2s 12ms/step - loss: 3.7105 - accuracy: 0.0295 - val_loss: 3.6248 - val_accuracy: 0.0508\n",
      "Epoch 3/100\n",
      "202/202 [==============================] - 3s 12ms/step - loss: 3.5819 - accuracy: 0.0610 - val_loss: 3.2577 - val_accuracy: 0.1766\n",
      "Epoch 4/100\n",
      "202/202 [==============================] - 3s 13ms/step - loss: 3.1658 - accuracy: 0.1692 - val_loss: 2.6481 - val_accuracy: 0.3504\n",
      "Epoch 5/100\n",
      "202/202 [==============================] - 3s 13ms/step - loss: 2.7638 - accuracy: 0.2826 - val_loss: 2.2623 - val_accuracy: 0.4734\n",
      "Epoch 6/100\n",
      "202/202 [==============================] - 3s 13ms/step - loss: 2.4995 - accuracy: 0.3655 - val_loss: 2.0164 - val_accuracy: 0.5567\n",
      "Epoch 7/100\n",
      "202/202 [==============================] - 3s 13ms/step - loss: 2.2643 - accuracy: 0.4167 - val_loss: 1.8140 - val_accuracy: 0.6254\n",
      "Epoch 8/100\n",
      "202/202 [==============================] - 3s 14ms/step - loss: 2.0986 - accuracy: 0.4564 - val_loss: 1.6693 - val_accuracy: 0.6444\n",
      "Epoch 9/100\n",
      "202/202 [==============================] - 3s 13ms/step - loss: 1.9505 - accuracy: 0.4953 - val_loss: 1.5152 - val_accuracy: 0.7020\n",
      "Epoch 10/100\n",
      "202/202 [==============================] - 3s 13ms/step - loss: 1.8343 - accuracy: 0.5280 - val_loss: 1.4108 - val_accuracy: 0.7202\n",
      "Epoch 11/100\n",
      "202/202 [==============================] - 3s 14ms/step - loss: 1.7612 - accuracy: 0.5427 - val_loss: 1.3214 - val_accuracy: 0.7413\n",
      "Epoch 12/100\n",
      "202/202 [==============================] - 3s 14ms/step - loss: 1.6363 - accuracy: 0.5808 - val_loss: 1.2401 - val_accuracy: 0.7349\n",
      "Epoch 13/100\n",
      "202/202 [==============================] - 3s 14ms/step - loss: 1.5745 - accuracy: 0.5861 - val_loss: 1.1653 - val_accuracy: 0.7698\n",
      "Epoch 14/100\n",
      "202/202 [==============================] - 3s 14ms/step - loss: 1.5188 - accuracy: 0.6128 - val_loss: 1.1237 - val_accuracy: 0.7659\n",
      "Epoch 15/100\n",
      "202/202 [==============================] - 3s 14ms/step - loss: 1.4526 - accuracy: 0.6222 - val_loss: 1.0513 - val_accuracy: 0.8000\n",
      "Epoch 16/100\n",
      "202/202 [==============================] - 3s 14ms/step - loss: 1.3990 - accuracy: 0.6398 - val_loss: 1.0108 - val_accuracy: 0.8159\n",
      "Epoch 17/100\n",
      "202/202 [==============================] - 3s 14ms/step - loss: 1.3870 - accuracy: 0.6436 - val_loss: 0.9782 - val_accuracy: 0.8063\n",
      "Epoch 18/100\n",
      "202/202 [==============================] - 3s 14ms/step - loss: 1.3094 - accuracy: 0.6563 - val_loss: 0.9552 - val_accuracy: 0.8052\n",
      "Epoch 19/100\n",
      "202/202 [==============================] - 3s 14ms/step - loss: 1.3101 - accuracy: 0.6586 - val_loss: 0.9335 - val_accuracy: 0.8063\n",
      "Epoch 20/100\n",
      "202/202 [==============================] - 3s 14ms/step - loss: 1.2719 - accuracy: 0.6737 - val_loss: 0.9155 - val_accuracy: 0.8095\n",
      "Epoch 21/100\n",
      "202/202 [==============================] - 3s 14ms/step - loss: 1.2429 - accuracy: 0.6798 - val_loss: 0.8764 - val_accuracy: 0.8270\n",
      "Epoch 22/100\n",
      "202/202 [==============================] - 3s 15ms/step - loss: 1.2179 - accuracy: 0.6947 - val_loss: 0.8683 - val_accuracy: 0.8214\n",
      "Epoch 23/100\n",
      "202/202 [==============================] - 3s 16ms/step - loss: 1.1865 - accuracy: 0.6984 - val_loss: 0.8421 - val_accuracy: 0.8214\n",
      "Epoch 24/100\n",
      "202/202 [==============================] - 3s 15ms/step - loss: 1.1853 - accuracy: 0.6946 - val_loss: 0.8297 - val_accuracy: 0.8286\n",
      "Epoch 25/100\n",
      "202/202 [==============================] - 3s 15ms/step - loss: 1.1635 - accuracy: 0.7023 - val_loss: 0.8248 - val_accuracy: 0.8206\n",
      "Epoch 26/100\n",
      "202/202 [==============================] - 3s 15ms/step - loss: 1.1661 - accuracy: 0.7048 - val_loss: 0.8091 - val_accuracy: 0.8357\n",
      "Epoch 27/100\n",
      "202/202 [==============================] - 3s 15ms/step - loss: 1.1715 - accuracy: 0.6966 - val_loss: 0.8136 - val_accuracy: 0.8194\n",
      "Epoch 28/100\n",
      "202/202 [==============================] - 3s 14ms/step - loss: 1.1406 - accuracy: 0.7103 - val_loss: 0.7859 - val_accuracy: 0.8317\n",
      "Epoch 29/100\n",
      "202/202 [==============================] - 3s 15ms/step - loss: 1.1136 - accuracy: 0.7111 - val_loss: 0.7683 - val_accuracy: 0.8448\n",
      "Epoch 30/100\n",
      "202/202 [==============================] - 3s 15ms/step - loss: 1.0633 - accuracy: 0.7302 - val_loss: 0.7650 - val_accuracy: 0.8405\n",
      "Epoch 31/100\n",
      "202/202 [==============================] - 3s 15ms/step - loss: 1.0977 - accuracy: 0.7157 - val_loss: 0.7769 - val_accuracy: 0.8369\n",
      "Epoch 32/100\n",
      "202/202 [==============================] - 3s 15ms/step - loss: 1.0681 - accuracy: 0.7323 - val_loss: 0.7441 - val_accuracy: 0.8484\n",
      "Epoch 33/100\n",
      "202/202 [==============================] - 3s 15ms/step - loss: 1.0484 - accuracy: 0.7351 - val_loss: 0.7698 - val_accuracy: 0.8254\n",
      "Epoch 34/100\n",
      "202/202 [==============================] - 3s 15ms/step - loss: 1.0677 - accuracy: 0.7283 - val_loss: 0.7294 - val_accuracy: 0.8524\n",
      "Epoch 35/100\n",
      "202/202 [==============================] - 3s 15ms/step - loss: 1.0597 - accuracy: 0.7295 - val_loss: 0.7278 - val_accuracy: 0.8484\n",
      "Epoch 36/100\n",
      "202/202 [==============================] - 3s 15ms/step - loss: 1.0480 - accuracy: 0.7327 - val_loss: 0.7320 - val_accuracy: 0.8444\n",
      "Epoch 37/100\n",
      "202/202 [==============================] - 3s 15ms/step - loss: 1.0478 - accuracy: 0.7306 - val_loss: 0.7312 - val_accuracy: 0.8484\n",
      "Epoch 38/100\n",
      "202/202 [==============================] - 3s 15ms/step - loss: 0.9929 - accuracy: 0.7429 - val_loss: 0.7153 - val_accuracy: 0.8472\n",
      "Epoch 39/100\n",
      "202/202 [==============================] - 3s 15ms/step - loss: 1.0158 - accuracy: 0.7435 - val_loss: 0.7261 - val_accuracy: 0.8460\n",
      "Epoch 40/100\n",
      "202/202 [==============================] - 3s 15ms/step - loss: 1.0233 - accuracy: 0.7427 - val_loss: 0.7018 - val_accuracy: 0.8536\n",
      "Epoch 41/100\n",
      "202/202 [==============================] - 3s 15ms/step - loss: 0.9990 - accuracy: 0.7413 - val_loss: 0.7026 - val_accuracy: 0.8496\n",
      "Epoch 42/100\n",
      "202/202 [==============================] - 3s 15ms/step - loss: 0.9947 - accuracy: 0.7512 - val_loss: 0.7008 - val_accuracy: 0.8480\n",
      "Epoch 43/100\n",
      "202/202 [==============================] - 3s 15ms/step - loss: 1.0116 - accuracy: 0.7408 - val_loss: 0.6886 - val_accuracy: 0.8520\n",
      "Epoch 44/100\n",
      "202/202 [==============================] - 3s 16ms/step - loss: 0.9585 - accuracy: 0.7503 - val_loss: 0.6873 - val_accuracy: 0.8524\n",
      "Epoch 45/100\n",
      "202/202 [==============================] - 3s 15ms/step - loss: 0.9584 - accuracy: 0.7504 - val_loss: 0.6892 - val_accuracy: 0.8512\n",
      "Epoch 46/100\n",
      "202/202 [==============================] - 3s 16ms/step - loss: 0.9652 - accuracy: 0.7520 - val_loss: 0.6835 - val_accuracy: 0.8496\n",
      "Epoch 47/100\n",
      "202/202 [==============================] - 3s 15ms/step - loss: 0.9395 - accuracy: 0.7613 - val_loss: 0.6912 - val_accuracy: 0.8468\n",
      "Epoch 48/100\n",
      "202/202 [==============================] - 3s 15ms/step - loss: 0.9535 - accuracy: 0.7569 - val_loss: 0.6725 - val_accuracy: 0.8500\n",
      "Epoch 49/100\n",
      "202/202 [==============================] - 3s 16ms/step - loss: 0.9112 - accuracy: 0.7637 - val_loss: 0.6694 - val_accuracy: 0.8528\n",
      "Epoch 50/100\n",
      "202/202 [==============================] - 3s 15ms/step - loss: 0.9473 - accuracy: 0.7598 - val_loss: 0.6688 - val_accuracy: 0.8560\n",
      "Epoch 51/100\n",
      "202/202 [==============================] - 3s 16ms/step - loss: 0.9464 - accuracy: 0.7604 - val_loss: 0.6562 - val_accuracy: 0.8560\n",
      "Epoch 52/100\n",
      "202/202 [==============================] - 3s 16ms/step - loss: 0.9441 - accuracy: 0.7594 - val_loss: 0.6631 - val_accuracy: 0.8524\n",
      "Epoch 53/100\n",
      "202/202 [==============================] - 3s 16ms/step - loss: 0.9198 - accuracy: 0.7630 - val_loss: 0.6627 - val_accuracy: 0.8528\n",
      "Epoch 54/100\n",
      "202/202 [==============================] - 3s 16ms/step - loss: 0.9409 - accuracy: 0.7575 - val_loss: 0.6533 - val_accuracy: 0.8552\n",
      "Epoch 55/100\n",
      "202/202 [==============================] - 3s 16ms/step - loss: 0.9079 - accuracy: 0.7721 - val_loss: 0.6550 - val_accuracy: 0.8595\n",
      "Epoch 56/100\n",
      "202/202 [==============================] - 3s 16ms/step - loss: 0.9060 - accuracy: 0.7771 - val_loss: 0.6542 - val_accuracy: 0.8560\n",
      "Epoch 57/100\n"
     ]
    },
    {
     "name": "stdout",
     "output_type": "stream",
     "text": [
      "202/202 [==============================] - 3s 16ms/step - loss: 0.9272 - accuracy: 0.7711 - val_loss: 0.6612 - val_accuracy: 0.8524\n",
      "Epoch 58/100\n",
      "202/202 [==============================] - 3s 16ms/step - loss: 0.9099 - accuracy: 0.7697 - val_loss: 0.6323 - val_accuracy: 0.8639\n",
      "Epoch 59/100\n",
      "202/202 [==============================] - 3s 16ms/step - loss: 0.8908 - accuracy: 0.7805 - val_loss: 0.6280 - val_accuracy: 0.8647\n",
      "Epoch 60/100\n",
      "202/202 [==============================] - 3s 16ms/step - loss: 0.8832 - accuracy: 0.7758 - val_loss: 0.6307 - val_accuracy: 0.8591\n",
      "Epoch 61/100\n",
      "202/202 [==============================] - 3s 16ms/step - loss: 0.8906 - accuracy: 0.7669 - val_loss: 0.6349 - val_accuracy: 0.8631\n",
      "Epoch 62/100\n",
      "202/202 [==============================] - 3s 16ms/step - loss: 0.9145 - accuracy: 0.7726 - val_loss: 0.6412 - val_accuracy: 0.8544\n",
      "Epoch 63/100\n",
      "202/202 [==============================] - 3s 16ms/step - loss: 0.8540 - accuracy: 0.7779 - val_loss: 0.6302 - val_accuracy: 0.8567\n",
      "Epoch 64/100\n",
      "202/202 [==============================] - 3s 16ms/step - loss: 0.8386 - accuracy: 0.7856 - val_loss: 0.6210 - val_accuracy: 0.8671\n",
      "Epoch 65/100\n",
      "202/202 [==============================] - 3s 16ms/step - loss: 0.8858 - accuracy: 0.7765 - val_loss: 0.6230 - val_accuracy: 0.8643\n",
      "Epoch 66/100\n",
      "202/202 [==============================] - 3s 16ms/step - loss: 0.8478 - accuracy: 0.7840 - val_loss: 0.6165 - val_accuracy: 0.8635\n",
      "Epoch 67/100\n",
      "202/202 [==============================] - 3s 16ms/step - loss: 0.8639 - accuracy: 0.7742 - val_loss: 0.6308 - val_accuracy: 0.8615\n",
      "Epoch 68/100\n",
      "202/202 [==============================] - 3s 16ms/step - loss: 0.8552 - accuracy: 0.7847 - val_loss: 0.6090 - val_accuracy: 0.8655\n",
      "Epoch 69/100\n",
      "202/202 [==============================] - 3s 16ms/step - loss: 0.8357 - accuracy: 0.7935 - val_loss: 0.6107 - val_accuracy: 0.8611\n",
      "Epoch 70/100\n",
      "202/202 [==============================] - 3s 16ms/step - loss: 0.8416 - accuracy: 0.7841 - val_loss: 0.6089 - val_accuracy: 0.8635\n",
      "Epoch 71/100\n",
      "202/202 [==============================] - 3s 16ms/step - loss: 0.8434 - accuracy: 0.7837 - val_loss: 0.6106 - val_accuracy: 0.8643\n",
      "Epoch 72/100\n",
      "202/202 [==============================] - 3s 16ms/step - loss: 0.8473 - accuracy: 0.7876 - val_loss: 0.5978 - val_accuracy: 0.8706\n",
      "Epoch 73/100\n",
      "202/202 [==============================] - 3s 16ms/step - loss: 0.8305 - accuracy: 0.7881 - val_loss: 0.6062 - val_accuracy: 0.8726\n",
      "Epoch 74/100\n",
      "202/202 [==============================] - 3s 16ms/step - loss: 0.8000 - accuracy: 0.7956 - val_loss: 0.6120 - val_accuracy: 0.8591\n",
      "Epoch 75/100\n",
      "202/202 [==============================] - 3s 16ms/step - loss: 0.8334 - accuracy: 0.7917 - val_loss: 0.6098 - val_accuracy: 0.8643\n",
      "Epoch 76/100\n",
      "202/202 [==============================] - 3s 17ms/step - loss: 0.8190 - accuracy: 0.7924 - val_loss: 0.5954 - val_accuracy: 0.8786\n",
      "Epoch 77/100\n",
      "202/202 [==============================] - 3s 16ms/step - loss: 0.8122 - accuracy: 0.7887 - val_loss: 0.5831 - val_accuracy: 0.8698\n",
      "Epoch 78/100\n",
      "202/202 [==============================] - 3s 16ms/step - loss: 0.8003 - accuracy: 0.7902 - val_loss: 0.6041 - val_accuracy: 0.8714\n",
      "Epoch 79/100\n",
      "202/202 [==============================] - 3s 16ms/step - loss: 0.8402 - accuracy: 0.7810 - val_loss: 0.5875 - val_accuracy: 0.8675\n",
      "Epoch 80/100\n",
      "202/202 [==============================] - 3s 16ms/step - loss: 0.8086 - accuracy: 0.7909 - val_loss: 0.5965 - val_accuracy: 0.8655\n",
      "Epoch 81/100\n",
      "202/202 [==============================] - 3s 17ms/step - loss: 0.7941 - accuracy: 0.7946 - val_loss: 0.5908 - val_accuracy: 0.8694\n",
      "Epoch 82/100\n",
      "202/202 [==============================] - 3s 16ms/step - loss: 0.7896 - accuracy: 0.8023 - val_loss: 0.5967 - val_accuracy: 0.8683\n",
      "Epoch 83/100\n",
      "202/202 [==============================] - 3s 16ms/step - loss: 0.7974 - accuracy: 0.7896 - val_loss: 0.6059 - val_accuracy: 0.8683\n",
      "Epoch 84/100\n",
      "202/202 [==============================] - 3s 16ms/step - loss: 0.7899 - accuracy: 0.7960 - val_loss: 0.5856 - val_accuracy: 0.8766\n",
      "Epoch 85/100\n",
      "202/202 [==============================] - 3s 16ms/step - loss: 0.7986 - accuracy: 0.7908 - val_loss: 0.5815 - val_accuracy: 0.8690\n",
      "Epoch 86/100\n",
      "202/202 [==============================] - 3s 17ms/step - loss: 0.7801 - accuracy: 0.8011 - val_loss: 0.5824 - val_accuracy: 0.8687\n",
      "Epoch 87/100\n",
      "202/202 [==============================] - 3s 16ms/step - loss: 0.7560 - accuracy: 0.8066 - val_loss: 0.5847 - val_accuracy: 0.8651\n",
      "Epoch 88/100\n",
      "202/202 [==============================] - 3s 16ms/step - loss: 0.7652 - accuracy: 0.8011 - val_loss: 0.5928 - val_accuracy: 0.8722\n",
      "Epoch 89/100\n",
      "202/202 [==============================] - 3s 16ms/step - loss: 0.7768 - accuracy: 0.7994 - val_loss: 0.5922 - val_accuracy: 0.8671\n",
      "Epoch 90/100\n",
      "202/202 [==============================] - 3s 17ms/step - loss: 0.7528 - accuracy: 0.8065 - val_loss: 0.5789 - val_accuracy: 0.8762\n",
      "Epoch 91/100\n",
      "202/202 [==============================] - 3s 17ms/step - loss: 0.7770 - accuracy: 0.8021 - val_loss: 0.5874 - val_accuracy: 0.8659\n",
      "Epoch 92/100\n",
      "202/202 [==============================] - 3s 16ms/step - loss: 0.7699 - accuracy: 0.8041 - val_loss: 0.5695 - val_accuracy: 0.8679\n",
      "Epoch 93/100\n",
      "202/202 [==============================] - 3s 16ms/step - loss: 0.7503 - accuracy: 0.8040 - val_loss: 0.5633 - val_accuracy: 0.8774\n",
      "Epoch 94/100\n",
      "202/202 [==============================] - 3s 17ms/step - loss: 0.7481 - accuracy: 0.8125 - val_loss: 0.5868 - val_accuracy: 0.8639\n",
      "Epoch 95/100\n",
      "202/202 [==============================] - 4s 17ms/step - loss: 0.7318 - accuracy: 0.8055 - val_loss: 0.5712 - val_accuracy: 0.8726\n",
      "Epoch 96/100\n",
      "202/202 [==============================] - 3s 17ms/step - loss: 0.7431 - accuracy: 0.8050 - val_loss: 0.5639 - val_accuracy: 0.8726\n",
      "Epoch 97/100\n",
      "202/202 [==============================] - 3s 17ms/step - loss: 0.7260 - accuracy: 0.8157 - val_loss: 0.5639 - val_accuracy: 0.8742\n",
      "Epoch 98/100\n",
      "202/202 [==============================] - 3s 17ms/step - loss: 0.7478 - accuracy: 0.8148 - val_loss: 0.5577 - val_accuracy: 0.8742\n",
      "Epoch 99/100\n",
      "202/202 [==============================] - 3s 17ms/step - loss: 0.7401 - accuracy: 0.8011 - val_loss: 0.5576 - val_accuracy: 0.8714\n",
      "Epoch 100/100\n",
      "202/202 [==============================] - 3s 17ms/step - loss: 0.7265 - accuracy: 0.8111 - val_loss: 0.5519 - val_accuracy: 0.8778\n"
     ]
    }
   ],
   "source": [
    "# Configure the model and start training\n",
    "model.compile(loss='categorical_crossentropy', optimizer='adam', metrics=['accuracy'])\n",
    "baseline_history=model.fit(X_train, Y_train, epochs=100, batch_size=50, verbose=1, validation_split=0.2)"
   ]
  },
  {
   "cell_type": "code",
   "execution_count": 10,
   "metadata": {},
   "outputs": [
    {
     "data": {
      "text/plain": [
       "{'name': 'Adam',\n",
       " 'learning_rate': 0.001,\n",
       " 'decay': 0.0,\n",
       " 'beta_1': 0.9,\n",
       " 'beta_2': 0.999,\n",
       " 'epsilon': 1e-07,\n",
       " 'amsgrad': False}"
      ]
     },
     "execution_count": 10,
     "metadata": {},
     "output_type": "execute_result"
    }
   ],
   "source": [
    "model.optimizer.get_config()"
   ]
  },
  {
   "cell_type": "code",
   "execution_count": 11,
   "metadata": {},
   "outputs": [
    {
     "name": "stdout",
     "output_type": "stream",
     "text": [
      "169/169 [==============================] - 2s 9ms/step - loss: 0.6004 - accuracy: 0.8704\n",
      "[0.6003665924072266, 0.8703703880310059]\n",
      "Test results - Loss: 0.6003665924072266 - Accuracy: 0.8703703880310059%\n"
     ]
    }
   ],
   "source": [
    "# Test the model after training\n",
    "test_results = model.evaluate(X_test, Y_test, verbose=1)\n",
    "print(test_results)\n",
    "print(f'Test results - Loss: {test_results[0]} - Accuracy: {test_results[1]}%')"
   ]
  },
  {
   "cell_type": "markdown",
   "metadata": {},
   "source": [
    "### 2.  Classification of the first analyte"
   ]
  },
  {
   "cell_type": "code",
   "execution_count": 12,
   "metadata": {},
   "outputs": [],
   "source": [
    "labels=list(range(1,41))"
   ]
  },
  {
   "cell_type": "code",
   "execution_count": 13,
   "metadata": {},
   "outputs": [
    {
     "name": "stdout",
     "output_type": "stream",
     "text": [
      "Train dimension:\n",
      "(12600, 50)\n",
      "Test dimension:\n",
      "(5400, 50)\n"
     ]
    }
   ],
   "source": [
    "yclass=y.copy()\n",
    "yclass[yclass!=1]=0\n",
    "X_train, X_test, yclass_train, yclass_test = train_test_split(b,yclass,test_size=0.3,random_state=0)\n",
    "print('Train dimension:');print(X_train.shape)\n",
    "print('Test dimension:');print(X_test.shape)\n",
    "Y_train = to_categorical(yclass_train, num_classes)\n",
    "Y_test = to_categorical(yclass_test, num_classes)"
   ]
  },
  {
   "cell_type": "code",
   "execution_count": 14,
   "metadata": {},
   "outputs": [
    {
     "name": "stdout",
     "output_type": "stream",
     "text": [
      "Feature shape: (50,)\n",
      "Model: \"sequential_1\"\n",
      "_________________________________________________________________\n",
      "Layer (type)                 Output Shape              Param #   \n",
      "=================================================================\n",
      "dropout_1 (Dropout)          (None, 50)                0         \n",
      "_________________________________________________________________\n",
      "dense_3 (Dense)              (None, 400)               20400     \n",
      "_________________________________________________________________\n",
      "dense_4 (Dense)              (None, 50)                20050     \n",
      "_________________________________________________________________\n",
      "dense_5 (Dense)              (None, 18000)             918000    \n",
      "=================================================================\n",
      "Total params: 958,450\n",
      "Trainable params: 958,450\n",
      "Non-trainable params: 0\n",
      "_________________________________________________________________\n"
     ]
    }
   ],
   "source": [
    "# Set the input shape\n",
    "input_shape = (feature_vector_length,)\n",
    "print(f'Feature shape: {input_shape}')\n",
    "\n",
    "# Create the model\n",
    "model = Sequential()\n",
    "model.add(Dropout(0.3, input_shape=input_shape))\n",
    "model.add(Dense(400, input_shape=input_shape, activation='relu'))\n",
    "model.add(Dense(50, activation='relu'))\n",
    "model.add(Dense(num_classes, activation='softmax'))\n",
    "model.summary()"
   ]
  },
  {
   "cell_type": "code",
   "execution_count": 15,
   "metadata": {},
   "outputs": [
    {
     "name": "stdout",
     "output_type": "stream",
     "text": [
      "Epoch 1/50\n",
      "101/101 [==============================] - 5s 44ms/step - loss: 6.4530 - accuracy: 1.0000 - precision: 0.7834 - recall: 0.2106 - val_loss: 0.1753 - val_accuracy: 1.0000 - val_precision: 0.9718 - val_recall: 0.9718\n",
      "Epoch 2/50\n",
      "101/101 [==============================] - 4s 35ms/step - loss: 0.1697 - accuracy: 1.0000 - precision: 0.9788 - recall: 0.9786 - val_loss: 0.1494 - val_accuracy: 1.0000 - val_precision: 0.9718 - val_recall: 0.9718\n",
      "Epoch 3/50\n",
      "101/101 [==============================] - 4s 36ms/step - loss: 0.1189 - accuracy: 1.0000 - precision: 0.9792 - recall: 0.9787 - val_loss: 0.1157 - val_accuracy: 1.0000 - val_precision: 0.9718 - val_recall: 0.9718\n",
      "Epoch 4/50\n",
      "101/101 [==============================] - 4s 36ms/step - loss: 0.1009 - accuracy: 1.0000 - precision: 0.9766 - recall: 0.9761 - val_loss: 0.0887 - val_accuracy: 1.0000 - val_precision: 0.9781 - val_recall: 0.9770\n",
      "Epoch 5/50\n",
      "101/101 [==============================] - 4s 35ms/step - loss: 0.0781 - accuracy: 1.0000 - precision: 0.9811 - recall: 0.9804 - val_loss: 0.0741 - val_accuracy: 1.0000 - val_precision: 0.9810 - val_recall: 0.9810\n",
      "Epoch 6/50\n",
      "101/101 [==============================] - 4s 35ms/step - loss: 0.0676 - accuracy: 1.0000 - precision: 0.9830 - recall: 0.9828 - val_loss: 0.0614 - val_accuracy: 1.0000 - val_precision: 0.9821 - val_recall: 0.9821\n",
      "Epoch 7/50\n",
      "101/101 [==============================] - 4s 35ms/step - loss: 0.0634 - accuracy: 1.0000 - precision: 0.9827 - recall: 0.9827 - val_loss: 0.0577 - val_accuracy: 1.0000 - val_precision: 0.9821 - val_recall: 0.9821\n",
      "Epoch 8/50\n",
      "101/101 [==============================] - 4s 36ms/step - loss: 0.0526 - accuracy: 1.0000 - precision: 0.9851 - recall: 0.9849 - val_loss: 0.0515 - val_accuracy: 1.0000 - val_precision: 0.9833 - val_recall: 0.9833\n",
      "Epoch 9/50\n",
      "101/101 [==============================] - 4s 36ms/step - loss: 0.0538 - accuracy: 1.0000 - precision: 0.9843 - recall: 0.9843 - val_loss: 0.0415 - val_accuracy: 1.0000 - val_precision: 0.9861 - val_recall: 0.9861\n",
      "Epoch 10/50\n",
      "101/101 [==============================] - 4s 35ms/step - loss: 0.0405 - accuracy: 1.0000 - precision: 0.9883 - recall: 0.9883 - val_loss: 0.0373 - val_accuracy: 1.0000 - val_precision: 0.9881 - val_recall: 0.9881\n",
      "Epoch 11/50\n",
      "101/101 [==============================] - 4s 35ms/step - loss: 0.0475 - accuracy: 1.0000 - precision: 0.9864 - recall: 0.9864 - val_loss: 0.0466 - val_accuracy: 1.0000 - val_precision: 0.9857 - val_recall: 0.9857\n",
      "Epoch 12/50\n",
      "101/101 [==============================] - 4s 36ms/step - loss: 0.0421 - accuracy: 1.0000 - precision: 0.9876 - recall: 0.9876 - val_loss: 0.0417 - val_accuracy: 1.0000 - val_precision: 0.9865 - val_recall: 0.9865\n",
      "Epoch 13/50\n",
      "101/101 [==============================] - 4s 36ms/step - loss: 0.0390 - accuracy: 1.0000 - precision: 0.9895 - recall: 0.9895 - val_loss: 0.0388 - val_accuracy: 1.0000 - val_precision: 0.9877 - val_recall: 0.9877\n",
      "Epoch 14/50\n",
      "101/101 [==============================] - 4s 36ms/step - loss: 0.0362 - accuracy: 1.0000 - precision: 0.9897 - recall: 0.9896 - val_loss: 0.0375 - val_accuracy: 1.0000 - val_precision: 0.9877 - val_recall: 0.9877\n",
      "Epoch 15/50\n",
      "101/101 [==============================] - 4s 36ms/step - loss: 0.0378 - accuracy: 1.0000 - precision: 0.9891 - recall: 0.9889 - val_loss: 0.0419 - val_accuracy: 1.0000 - val_precision: 0.9877 - val_recall: 0.9877\n",
      "Epoch 16/50\n",
      "101/101 [==============================] - 4s 36ms/step - loss: 0.0319 - accuracy: 1.0000 - precision: 0.9904 - recall: 0.9904 - val_loss: 0.0336 - val_accuracy: 1.0000 - val_precision: 0.9893 - val_recall: 0.9893\n",
      "Epoch 17/50\n",
      "101/101 [==============================] - 4s 36ms/step - loss: 0.0349 - accuracy: 1.0000 - precision: 0.9900 - recall: 0.9900 - val_loss: 0.0310 - val_accuracy: 1.0000 - val_precision: 0.9909 - val_recall: 0.9909\n",
      "Epoch 18/50\n",
      "101/101 [==============================] - 4s 36ms/step - loss: 0.0337 - accuracy: 1.0000 - precision: 0.9898 - recall: 0.9895 - val_loss: 0.0319 - val_accuracy: 1.0000 - val_precision: 0.9897 - val_recall: 0.9897\n",
      "Epoch 19/50\n",
      "101/101 [==============================] - 4s 35ms/step - loss: 0.0345 - accuracy: 1.0000 - precision: 0.9884 - recall: 0.9884 - val_loss: 0.0305 - val_accuracy: 1.0000 - val_precision: 0.9901 - val_recall: 0.9901\n",
      "Epoch 20/50\n",
      "101/101 [==============================] - 4s 36ms/step - loss: 0.0362 - accuracy: 1.0000 - precision: 0.9898 - recall: 0.9898 - val_loss: 0.0356 - val_accuracy: 1.0000 - val_precision: 0.9897 - val_recall: 0.9897\n",
      "Epoch 21/50\n",
      "101/101 [==============================] - 4s 36ms/step - loss: 0.0373 - accuracy: 1.0000 - precision: 0.9889 - recall: 0.9889 - val_loss: 0.0338 - val_accuracy: 1.0000 - val_precision: 0.9897 - val_recall: 0.9897\n",
      "Epoch 22/50\n",
      "101/101 [==============================] - 4s 36ms/step - loss: 0.0361 - accuracy: 1.0000 - precision: 0.9898 - recall: 0.9898 - val_loss: 0.0359 - val_accuracy: 1.0000 - val_precision: 0.9897 - val_recall: 0.9897\n",
      "Epoch 23/50\n",
      "101/101 [==============================] - 4s 36ms/step - loss: 0.0329 - accuracy: 1.0000 - precision: 0.9911 - recall: 0.9911 - val_loss: 0.0310 - val_accuracy: 1.0000 - val_precision: 0.9905 - val_recall: 0.9905\n",
      "Epoch 24/50\n",
      "101/101 [==============================] - 4s 35ms/step - loss: 0.0337 - accuracy: 1.0000 - precision: 0.9911 - recall: 0.9911 - val_loss: 0.0284 - val_accuracy: 1.0000 - val_precision: 0.9901 - val_recall: 0.9901\n",
      "Epoch 25/50\n",
      "101/101 [==============================] - 4s 36ms/step - loss: 0.0342 - accuracy: 1.0000 - precision: 0.9910 - recall: 0.9909 - val_loss: 0.0378 - val_accuracy: 1.0000 - val_precision: 0.9893 - val_recall: 0.9893\n",
      "Epoch 26/50\n",
      "101/101 [==============================] - 4s 36ms/step - loss: 0.0327 - accuracy: 1.0000 - precision: 0.9914 - recall: 0.9914 - val_loss: 0.0306 - val_accuracy: 1.0000 - val_precision: 0.9909 - val_recall: 0.9909\n",
      "Epoch 27/50\n",
      "101/101 [==============================] - 4s 36ms/step - loss: 0.0303 - accuracy: 1.0000 - precision: 0.9912 - recall: 0.9912 - val_loss: 0.0292 - val_accuracy: 1.0000 - val_precision: 0.9905 - val_recall: 0.9905\n",
      "Epoch 28/50\n",
      "101/101 [==============================] - 4s 35ms/step - loss: 0.0383 - accuracy: 1.0000 - precision: 0.9899 - recall: 0.9899 - val_loss: 0.0350 - val_accuracy: 1.0000 - val_precision: 0.9905 - val_recall: 0.9905\n",
      "Epoch 29/50\n",
      "101/101 [==============================] - 4s 35ms/step - loss: 0.0315 - accuracy: 1.0000 - precision: 0.9903 - recall: 0.9903 - val_loss: 0.0269 - val_accuracy: 1.0000 - val_precision: 0.9909 - val_recall: 0.9909\n",
      "Epoch 30/50\n",
      "101/101 [==============================] - 4s 37ms/step - loss: 0.0338 - accuracy: 1.0000 - precision: 0.9907 - recall: 0.9907 - val_loss: 0.0319 - val_accuracy: 1.0000 - val_precision: 0.9909 - val_recall: 0.9909\n",
      "Epoch 31/50\n",
      "101/101 [==============================] - 4s 36ms/step - loss: 0.0336 - accuracy: 1.0000 - precision: 0.9898 - recall: 0.9895 - val_loss: 0.0363 - val_accuracy: 1.0000 - val_precision: 0.9905 - val_recall: 0.9905\n",
      "Epoch 32/50\n",
      "101/101 [==============================] - 4s 36ms/step - loss: 0.0301 - accuracy: 1.0000 - precision: 0.9909 - recall: 0.9909 - val_loss: 0.0319 - val_accuracy: 1.0000 - val_precision: 0.9905 - val_recall: 0.9905\n",
      "Epoch 33/50\n",
      "101/101 [==============================] - 4s 36ms/step - loss: 0.0313 - accuracy: 1.0000 - precision: 0.9915 - recall: 0.9914 - val_loss: 0.0282 - val_accuracy: 1.0000 - val_precision: 0.9905 - val_recall: 0.9905\n",
      "Epoch 34/50\n",
      "101/101 [==============================] - 4s 36ms/step - loss: 0.0275 - accuracy: 1.0000 - precision: 0.9918 - recall: 0.9918 - val_loss: 0.0347 - val_accuracy: 1.0000 - val_precision: 0.9905 - val_recall: 0.9905\n",
      "Epoch 35/50\n",
      "101/101 [==============================] - 4s 36ms/step - loss: 0.0261 - accuracy: 1.0000 - precision: 0.9922 - recall: 0.9921 - val_loss: 0.0327 - val_accuracy: 1.0000 - val_precision: 0.9905 - val_recall: 0.9905\n",
      "Epoch 36/50\n",
      "101/101 [==============================] - 4s 37ms/step - loss: 0.0338 - accuracy: 1.0000 - precision: 0.9904 - recall: 0.9904 - val_loss: 0.0337 - val_accuracy: 1.0000 - val_precision: 0.9909 - val_recall: 0.9909\n",
      "Epoch 37/50\n"
     ]
    },
    {
     "name": "stdout",
     "output_type": "stream",
     "text": [
      "101/101 [==============================] - 4s 35ms/step - loss: 0.0339 - accuracy: 1.0000 - precision: 0.9903 - recall: 0.9903 - val_loss: 0.0359 - val_accuracy: 1.0000 - val_precision: 0.9905 - val_recall: 0.9905\n",
      "Epoch 38/50\n",
      "101/101 [==============================] - 4s 36ms/step - loss: 0.0326 - accuracy: 1.0000 - precision: 0.9912 - recall: 0.9912 - val_loss: 0.0323 - val_accuracy: 1.0000 - val_precision: 0.9905 - val_recall: 0.9905\n",
      "Epoch 39/50\n",
      "101/101 [==============================] - 4s 36ms/step - loss: 0.0283 - accuracy: 1.0000 - precision: 0.9916 - recall: 0.9914 - val_loss: 0.0288 - val_accuracy: 1.0000 - val_precision: 0.9905 - val_recall: 0.9905\n",
      "Epoch 40/50\n",
      "101/101 [==============================] - 4s 35ms/step - loss: 0.0290 - accuracy: 1.0000 - precision: 0.9907 - recall: 0.9907 - val_loss: 0.0242 - val_accuracy: 1.0000 - val_precision: 0.9909 - val_recall: 0.9909\n",
      "Epoch 41/50\n",
      "101/101 [==============================] - 4s 36ms/step - loss: 0.0298 - accuracy: 1.0000 - precision: 0.9917 - recall: 0.9917 - val_loss: 0.0293 - val_accuracy: 1.0000 - val_precision: 0.9905 - val_recall: 0.9905\n",
      "Epoch 42/50\n",
      "101/101 [==============================] - 4s 35ms/step - loss: 0.0280 - accuracy: 1.0000 - precision: 0.9923 - recall: 0.9923 - val_loss: 0.0297 - val_accuracy: 1.0000 - val_precision: 0.9905 - val_recall: 0.9905\n",
      "Epoch 43/50\n",
      "101/101 [==============================] - 4s 36ms/step - loss: 0.0326 - accuracy: 1.0000 - precision: 0.9910 - recall: 0.9908 - val_loss: 0.0235 - val_accuracy: 1.0000 - val_precision: 0.9913 - val_recall: 0.9913\n",
      "Epoch 44/50\n",
      "101/101 [==============================] - 4s 36ms/step - loss: 0.0293 - accuracy: 1.0000 - precision: 0.9921 - recall: 0.9921 - val_loss: 0.0321 - val_accuracy: 1.0000 - val_precision: 0.9905 - val_recall: 0.9905\n",
      "Epoch 45/50\n",
      "101/101 [==============================] - 4s 36ms/step - loss: 0.0242 - accuracy: 1.0000 - precision: 0.9934 - recall: 0.9933 - val_loss: 0.0299 - val_accuracy: 1.0000 - val_precision: 0.9909 - val_recall: 0.9909\n",
      "Epoch 46/50\n",
      "101/101 [==============================] - 4s 36ms/step - loss: 0.0250 - accuracy: 1.0000 - precision: 0.9925 - recall: 0.9925 - val_loss: 0.0255 - val_accuracy: 1.0000 - val_precision: 0.9929 - val_recall: 0.9929\n",
      "Epoch 47/50\n",
      "101/101 [==============================] - 4s 36ms/step - loss: 0.0210 - accuracy: 1.0000 - precision: 0.9944 - recall: 0.9944 - val_loss: 0.0243 - val_accuracy: 1.0000 - val_precision: 0.9921 - val_recall: 0.9921\n",
      "Epoch 48/50\n",
      "101/101 [==============================] - 4s 36ms/step - loss: 0.0251 - accuracy: 1.0000 - precision: 0.9920 - recall: 0.9920 - val_loss: 0.0309 - val_accuracy: 1.0000 - val_precision: 0.9901 - val_recall: 0.9901\n",
      "Epoch 49/50\n",
      "101/101 [==============================] - 4s 35ms/step - loss: 0.0246 - accuracy: 1.0000 - precision: 0.9915 - recall: 0.9915 - val_loss: 0.0286 - val_accuracy: 1.0000 - val_precision: 0.9909 - val_recall: 0.9909\n",
      "Epoch 50/50\n",
      "101/101 [==============================] - 4s 36ms/step - loss: 0.0254 - accuracy: 1.0000 - precision: 0.9928 - recall: 0.9928 - val_loss: 0.0240 - val_accuracy: 1.0000 - val_precision: 0.9929 - val_recall: 0.9929\n"
     ]
    }
   ],
   "source": [
    "# Configure the model and start training\n",
    "model.compile(loss='categorical_crossentropy', optimizer='adam', metrics=[keras.metrics.BinaryAccuracy(name=\"accuracy\"), keras.metrics.Precision(name=\"precision\"),keras.metrics.Recall(name=\"recall\")])\n",
    "baseline_history=model.fit(X_train, Y_train, epochs=50, batch_size=100, verbose=1, validation_split=0.2)"
   ]
  },
  {
   "cell_type": "code",
   "execution_count": 16,
   "metadata": {},
   "outputs": [
    {
     "name": "stdout",
     "output_type": "stream",
     "text": [
      "169/169 [==============================] - 2s 9ms/step - loss: 0.0134 - accuracy: 1.0000 - precision: 0.9961 - recall: 0.9961\n",
      "Test results - Loss: 0.013407813385128975 - Accuracy: 0.9999997019767761% -Precision: 0.9961110949516296% -Recall: 0.9961110949516296%\n"
     ]
    }
   ],
   "source": [
    "# Test the model after training\n",
    "test_results = model.evaluate(X_test, Y_test, verbose=1)\n",
    "print(f'Test results - Loss: {test_results[0]} - Accuracy: {test_results[1]}% -Precision: {test_results[2]}% -Recall: {test_results[3]}%')"
   ]
  },
  {
   "cell_type": "code",
   "execution_count": 17,
   "metadata": {},
   "outputs": [],
   "source": [
    "#Function for plotting\n",
    "mpl.rcParams['figure.figsize'] = (12, 10)\n",
    "colors = plt.rcParams['axes.prop_cycle'].by_key()['color']\n",
    "def plot_metrics(history):\n",
    "  metrics =  ['loss', 'accuracy','precision','recall']\n",
    "  for n, metric in enumerate(metrics):\n",
    "    name = metric.replace(\"_\",\" \").capitalize()\n",
    "    plt.subplot(2,2,n+1)\n",
    "    plt.plot(history.epoch,  history.history[metric], color=colors[0], label='Train')\n",
    "    plt.plot(history.epoch, history.history['val_'+metric],\n",
    "             color=colors[0], linestyle=\"--\", label='Val')\n",
    "    plt.xlabel('Epoch')\n",
    "    plt.ylabel(name)\n",
    "    if metric == 'loss':\n",
    "      plt.ylim([0, plt.ylim()[1]])\n",
    "    else:\n",
    "      plt.ylim([0,1])\n",
    "\n",
    "    plt.legend()"
   ]
  },
  {
   "cell_type": "code",
   "execution_count": 18,
   "metadata": {},
   "outputs": [
    {
     "data": {
      "image/png": "[encoded data removed]",
      "text/plain": [
       "<Figure size 864x720 with 4 Axes>"
      ]
     },
     "metadata": {
      "needs_background": "light"
     },
     "output_type": "display_data"
    }
   ],
   "source": [
    "plot_metrics(baseline_history)"
   ]
  },
  {
   "cell_type": "code",
   "execution_count": 19,
   "metadata": {},
   "outputs": [
    {
     "name": "stdout",
     "output_type": "stream",
     "text": [
      "5400\n",
      "149\n"
     ]
    },
    {
     "name": "stderr",
     "output_type": "stream",
     "text": [
      "C:\\Users\\eacun\\anaconda3\\lib\\site-packages\\tensorflow\\python\\keras\\engine\\sequential.py:450: UserWarning: `model.predict_classes()` is deprecated and will be removed after 2021-01-01. Please use instead:* `np.argmax(model.predict(x), axis=-1)`,   if your model does multi-class classification   (e.g. if it uses a `softmax` last-layer activation).* `(model.predict(x) > 0.5).astype(\"int32\")`,   if your model does binary classification   (e.g. if it uses a `sigmoid` last-layer activation).\n",
      "  warnings.warn('`model.predict_classes()` is deprecated and '\n"
     ]
    },
    {
     "name": "stdout",
     "output_type": "stream",
     "text": [
      "134\n",
      "f1_scores, training set [0.99801096 0.91327434] f1_scores in testing set [0.99800323 0.92579505]\n"
     ]
    }
   ],
   "source": [
    "#Computing F1-score\n",
    "train_features = np.array(X_train)\n",
    "test_features = np.array(X_test)\n",
    "train_labels=np.array(yclass_train)\n",
    "test_labels=np.array(yclass_test)\n",
    "print(len(test_labels))\n",
    "print(np.count_nonzero(test_labels==1))\n",
    "train_predictions_baseline = model.predict_classes(train_features, batch_size=150)\n",
    "f1_train=sklearn.metrics.f1_score(train_labels, train_predictions_baseline, average=None)\n",
    "test_predictions_baseline = model.predict_classes(test_features, batch_size=150)\n",
    "print(np.count_nonzero(test_predictions_baseline==1))\n",
    "f1_test=sklearn.metrics.f1_score(test_labels, test_predictions_baseline, average=None)\n",
    "print('f1_scores, training set',f1_train,'f1_scores in testing set',f1_test)"
   ]
  },
  {
   "cell_type": "code",
   "execution_count": 20,
   "metadata": {},
   "outputs": [
    {
     "name": "stdout",
     "output_type": "stream",
     "text": [
      "[0.00000000e+00 5.71319749e-04 1.00000000e+00]\n"
     ]
    }
   ],
   "source": [
    "#The ROC curve\n",
    "fp, tp, _ = sklearn.metrics.roc_curve(train_labels, train_predictions_baseline)\n",
    "fp1, tp1, _ = sklearn.metrics.roc_curve(test_labels, test_predictions_baseline)\n",
    "roc_auc = sklearn.metrics.auc(fp,tp)\n",
    "roc_auc1 = sklearn.metrics.auc(fp1,tp1)\n",
    "print(fp1)"
   ]
  },
  {
   "cell_type": "code",
   "execution_count": 21,
   "metadata": {},
   "outputs": [
    {
     "data": {
      "image/png": "[encoded data removed]",
      "text/plain": [
       "<Figure size 864x720 with 1 Axes>"
      ]
     },
     "metadata": {
      "needs_background": "light"
     },
     "output_type": "display_data"
    }
   ],
   "source": [
    "fig, ax = plt.subplots(1, 1)\n",
    "ax.plot(fp, tp, 'b', label='AUC-train = %0.2f'% roc_auc)\n",
    "ax.plot(fp1, tp1, 'b--', label='AUC-test = %0.2f'% roc_auc1)\n",
    "plt.legend(loc='lower right')\n",
    "plt.plot([0,1],[0,1],'r--')\n",
    "plt.xlim([0,1.0])\n",
    "plt.ylim([0,1.0])\n",
    "plt.ylabel('True Positive Rate')\n",
    "plt.xlabel('False Positive Rate')\n",
    "plt.grid(True)\n",
    "plt.show()"
   ]
  },
  {
   "cell_type": "code",
   "execution_count": null,
   "metadata": {},
   "outputs": [],
   "source": []
  }
 ],
 "metadata": {
  "kernelspec": {
   "display_name": "Python 3",
   "language": "python",
   "name": "python3"
  },
  "language_info": {
   "codemirror_mode": {
    "name": "ipython",
    "version": 3
   },
   "file_extension": ".py",
   "mimetype": "text/x-python",
   "name": "python",
   "nbconvert_exporter": "python",
   "pygments_lexer": "ipython3",
   "version": "3.7.6"
  }
 },
 "nbformat": 4,
 "nbformat_minor": 2
}
