{
 "cells": [
  {
   "cell_type": "markdown",
   "metadata": {},
   "source": [
    "## NRL set 1 using deep learning.\n",
    "### Tensorflow version\n",
    "### Edgar Acuna\n",
    "### Abril 2020"
   ]
  },
  {
   "cell_type": "code",
   "execution_count": 1,
   "metadata": {},
   "outputs": [
    {
     "name": "stderr",
     "output_type": "stream",
     "text": [
      "Using TensorFlow backend.\n"
     ]
    }
   ],
   "source": [
    "import keras\n",
    "from sklearn.preprocessing import LabelBinarizer\n",
    "from sklearn.model_selection import train_test_split\n",
    "import pandas as pd\n",
    "import matplotlib.pyplot as plt\n",
    "%matplotlib inline\n",
    "import warnings\n",
    "warnings.filterwarnings('ignore')"
   ]
  },
  {
   "cell_type": "code",
   "execution_count": 2,
   "metadata": {},
   "outputs": [],
   "source": [
    "df1=pd.read_csv(\"c://onr2020/NRLset1_part1.csv\",header=None)\n",
    "df2=pd.read_csv(\"c://onr2020/NRLset1_part2.csv\",header=None)\n",
    "df3=pd.read_csv(\"c://onr2020/NRLset1_part3.csv\",header=None)\n",
    "df4=pd.read_csv(\"c://onr2020/NRLset1_part4.csv\",header=None)\n",
    "df5=pd.read_csv(\"c://onr2020/NRLset1_part5.csv\",header=None)\n",
    "df6=pd.read_csv(\"c://onr2020/NRLset1_part6.csv\",header=None)\n",
    "df7=pd.read_csv(\"c://onr2020/NRLset1_part7.csv\",header=None)\n",
    "df8=pd.read_csv(\"c://onr2020/NRLset1_part8.csv\",header=None)\n",
    "y=pd.read_csv(\"c://onr2020/labels.csv\",header=None)"
   ]
  },
  {
   "cell_type": "code",
   "execution_count": 3,
   "metadata": {},
   "outputs": [
    {
     "name": "stdout",
     "output_type": "stream",
     "text": [
      "Train dimension:\n",
      "(12600, 1701)\n",
      "Test dimension:\n",
      "(5400, 1701)\n"
     ]
    }
   ],
   "source": [
    "dfset1=pd.concat([df1,df2,df3,df4,df5,df6,df7,df8],ignore_index=True)\n",
    "lb = LabelBinarizer()\n",
    "y= lb.fit_transform(y)\n",
    "X_train, X_test, y_train, y_test = train_test_split(dfset1,y, test_size=0.3,random_state=0)\n",
    "print('Train dimension:');print(X_train.shape)\n",
    "print('Test dimension:');print(X_test.shape)\n",
    "#print(y_train[arr[index:index+batch_size]])"
   ]
  },
  {
   "cell_type": "code",
   "execution_count": 4,
   "metadata": {
    "scrolled": true
   },
   "outputs": [
    {
     "name": "stdout",
     "output_type": "stream",
     "text": [
      "Train dimension:\n",
      "(12600, 1701)\n",
      "Test dimension:\n",
      "(5400, 1701)\n",
      "Train labels dimension:\n",
      "(12600, 40)\n",
      "Test labels dimension:\n",
      "(5400, 40)\n"
     ]
    }
   ],
   "source": [
    "lb = LabelBinarizer()\n",
    "y= lb.fit_transform(y)\n",
    "X_train, X_test, y_train, y_test = train_test_split(dfset1,y, test_size=0.3,random_state=0)\n",
    "print('Train dimension:');print(X_train.shape)\n",
    "print('Test dimension:');print(X_test.shape)\n",
    "## Changing labels to one-hot encoded vector\n",
    "lb = LabelBinarizer()\n",
    "y_train = lb.fit_transform(y_train)\n",
    "y_test = lb.transform(y_test)\n",
    "print('Train labels dimension:');print(y_train.shape)\n",
    "print('Test labels dimension:');print(y_test.shape)"
   ]
  },
  {
   "cell_type": "code",
   "execution_count": 5,
   "metadata": {},
   "outputs": [],
   "source": [
    "## Importing required libraries\n",
    "import numpy as np\n",
    "import tensorflow as tf\n",
    "from sklearn.metrics import roc_auc_score, accuracy_score\n",
    "s = tf.InteractiveSession()"
   ]
  },
  {
   "cell_type": "code",
   "execution_count": 6,
   "metadata": {},
   "outputs": [],
   "source": [
    "## Defining various initialization parameters for 784(Input)-512-256-10(Output) MLP model\n",
    "num_classes = y_train.shape[1]\n",
    "num_features = X_train.shape[1]\n",
    "num_output = y_train.shape[1]\n",
    "num_layers_0 = 512\n",
    "num_layers_1 = 256\n",
    "starter_learning_rate = 0.001\n",
    "regularizer_rate = 0.1"
   ]
  },
  {
   "cell_type": "code",
   "execution_count": 7,
   "metadata": {},
   "outputs": [
    {
     "name": "stdout",
     "output_type": "stream",
     "text": [
      "40 1701 12600\n"
     ]
    }
   ],
   "source": [
    "print(num_classes,num_features, X_train.shape[0])"
   ]
  },
  {
   "cell_type": "code",
   "execution_count": 8,
   "metadata": {},
   "outputs": [],
   "source": [
    "# Placeholders for the input data\n",
    "input_X = tf.placeholder('float32',shape =(None,num_features),name=\"input_X\")\n",
    "input_y = tf.placeholder('float32',shape = (None,num_classes),name='input_Y')\n",
    "## for dropout layer\n",
    "keep_prob = tf.placeholder(tf.float32)"
   ]
  },
  {
   "cell_type": "code",
   "execution_count": 9,
   "metadata": {},
   "outputs": [
    {
     "name": "stdout",
     "output_type": "stream",
     "text": [
      "WARNING:tensorflow:From C:\\Users\\eacun\\Anaconda3\\lib\\site-packages\\tensorflow\\python\\framework\\op_def_library.py:263: colocate_with (from tensorflow.python.framework.ops) is deprecated and will be removed in a future version.\n",
      "Instructions for updating:\n",
      "Colocations handled automatically by placer.\n"
     ]
    }
   ],
   "source": [
    "## Weights initialized by random normal function with std_dev = 1/sqrt(number of input features)\n",
    "weights_0 = tf.Variable(tf.random_normal([num_features,num_layers_0], stddev=(1/tf.sqrt(float(num_features)))))\n",
    "bias_0 = tf.Variable(tf.random_normal([num_layers_0]))\n",
    "weights_1 = tf.Variable(tf.random_normal([num_layers_0,num_layers_1], stddev=(1/tf.sqrt(float(num_layers_0)))))\n",
    "bias_1 = tf.Variable(tf.random_normal([num_layers_1]))\n",
    "weights_2 = tf.Variable(tf.random_normal([num_layers_1,num_output], stddev=(1/tf.sqrt(float(num_layers_1)))))\n",
    "bias_2 = tf.Variable(tf.random_normal([num_output]))"
   ]
  },
  {
   "cell_type": "code",
   "execution_count": 10,
   "metadata": {},
   "outputs": [
    {
     "name": "stdout",
     "output_type": "stream",
     "text": [
      "WARNING:tensorflow:From <ipython-input-10-1de5832df98d>:3: calling dropout (from tensorflow.python.ops.nn_ops) with keep_prob is deprecated and will be removed in a future version.\n",
      "Instructions for updating:\n",
      "Please use `rate` instead of `keep_prob`. Rate should be set to `rate = 1 - keep_prob`.\n"
     ]
    }
   ],
   "source": [
    "## Initializing weigths and biases\n",
    "hidden_output_0 = tf.nn.relu(tf.matmul(input_X,weights_0)+bias_0)\n",
    "hidden_output_0_0 = tf.nn.dropout(hidden_output_0, keep_prob)\n",
    "hidden_output_1 = tf.nn.relu(tf.matmul(hidden_output_0_0,weights_1)+bias_1)\n",
    "hidden_output_1_1 = tf.nn.dropout(hidden_output_1, keep_prob)\n",
    "predicted_y = tf.sigmoid(tf.matmul(hidden_output_1_1,weights_2) + bias_2)"
   ]
  },
  {
   "cell_type": "code",
   "execution_count": 11,
   "metadata": {},
   "outputs": [],
   "source": [
    "## Defining the loss function\n",
    "loss = tf.reduce_mean(tf.nn.softmax_cross_entropy_with_logits_v2(logits=predicted_y,labels=input_y)) \\\n",
    "        + regularizer_rate*(tf.reduce_sum(tf.square(bias_0)) + tf.reduce_sum(tf.square(bias_1)))"
   ]
  },
  {
   "cell_type": "code",
   "execution_count": 12,
   "metadata": {},
   "outputs": [],
   "source": [
    "# Variable learning rate\n",
    "learning_rate = tf.train.exponential_decay(starter_learning_rate, 0, 5, 0.85, staircase=True)\n",
    "## Adam optimzer for finding the right weight\n",
    "optimizer = tf.train.AdamOptimizer(learning_rate).minimize(loss,var_list=[weights_0,weights_1,weights_2,\n",
    "                                                                         bias_0,bias_1,bias_2])"
   ]
  },
  {
   "cell_type": "code",
   "execution_count": 13,
   "metadata": {},
   "outputs": [],
   "source": [
    "## Metrics definition\n",
    "correct_prediction = tf.equal(tf.argmax(y_train,1), tf.argmax(predicted_y,1))\n",
    "accuracy = tf.reduce_mean(tf.cast(correct_prediction, tf.float32))"
   ]
  },
  {
   "cell_type": "code",
   "execution_count": 14,
   "metadata": {
    "scrolled": true
   },
   "outputs": [
    {
     "name": "stdout",
     "output_type": "stream",
     "text": [
      "Epoch:0, Train loss: 75.03 Train acc: 0.027, Test acc:0.021\n",
      "Epoch:1, Train loss: 71.39 Train acc: 0.027, Test acc:0.026\n",
      "Epoch:2, Train loss: 67.94 Train acc: 0.029, Test acc:0.028\n",
      "Epoch:3, Train loss: 64.69 Train acc: 0.032, Test acc:0.030\n",
      "Epoch:4, Train loss: 61.61 Train acc: 0.034, Test acc:0.027\n",
      "Epoch:5, Train loss: 58.69 Train acc: 0.039, Test acc:0.032\n",
      "Epoch:6, Train loss: 55.92 Train acc: 0.035, Test acc:0.032\n",
      "Epoch:7, Train loss: 53.29 Train acc: 0.048, Test acc:0.044\n",
      "Epoch:8, Train loss: 50.79 Train acc: 0.051, Test acc:0.045\n",
      "Epoch:9, Train loss: 48.42 Train acc: 0.046, Test acc:0.042\n",
      "Epoch:10, Train loss: 46.16 Train acc: 0.059, Test acc:0.051\n",
      "Epoch:11, Train loss: 44.00 Train acc: 0.067, Test acc:0.060\n",
      "Epoch:12, Train loss: 41.96 Train acc: 0.069, Test acc:0.065\n",
      "Epoch:13, Train loss: 40.00 Train acc: 0.096, Test acc:0.086\n",
      "Epoch:14, Train loss: 38.15 Train acc: 0.104, Test acc:0.096\n",
      "Epoch:15, Train loss: 36.43 Train acc: 0.083, Test acc:0.074\n",
      "Epoch:16, Train loss: 34.72 Train acc: 0.131, Test acc:0.121\n",
      "Epoch:17, Train loss: 33.14 Train acc: 0.139, Test acc:0.124\n",
      "Epoch:18, Train loss: 31.62 Train acc: 0.127, Test acc:0.112\n",
      "Epoch:19, Train loss: 30.20 Train acc: 0.147, Test acc:0.135\n",
      "Epoch:20, Train loss: 28.82 Train acc: 0.153, Test acc:0.137\n",
      "Epoch:21, Train loss: 27.52 Train acc: 0.178, Test acc:0.155\n",
      "Epoch:22, Train loss: 26.29 Train acc: 0.182, Test acc:0.153\n",
      "Epoch:23, Train loss: 25.11 Train acc: 0.186, Test acc:0.166\n",
      "Epoch:24, Train loss: 24.00 Train acc: 0.172, Test acc:0.145\n",
      "Epoch:25, Train loss: 22.93 Train acc: 0.196, Test acc:0.174\n",
      "Epoch:26, Train loss: 21.92 Train acc: 0.232, Test acc:0.200\n",
      "Epoch:27, Train loss: 20.96 Train acc: 0.241, Test acc:0.214\n",
      "Epoch:28, Train loss: 20.04 Train acc: 0.252, Test acc:0.235\n",
      "Epoch:29, Train loss: 19.20 Train acc: 0.224, Test acc:0.204\n",
      "Epoch:30, Train loss: 18.34 Train acc: 0.232, Test acc:0.218\n",
      "Epoch:31, Train loss: 17.56 Train acc: 0.233, Test acc:0.219\n",
      "Epoch:32, Train loss: 16.83 Train acc: 0.272, Test acc:0.249\n",
      "Epoch:33, Train loss: 16.10 Train acc: 0.242, Test acc:0.226\n",
      "Epoch:34, Train loss: 15.42 Train acc: 0.241, Test acc:0.224\n",
      "Epoch:35, Train loss: 14.79 Train acc: 0.293, Test acc:0.277\n",
      "Epoch:36, Train loss: 14.18 Train acc: 0.254, Test acc:0.239\n",
      "Epoch:37, Train loss: 13.60 Train acc: 0.283, Test acc:0.265\n",
      "Epoch:38, Train loss: 13.03 Train acc: 0.323, Test acc:0.303\n",
      "Epoch:39, Train loss: 12.51 Train acc: 0.321, Test acc:0.306\n",
      "Epoch:40, Train loss: 12.00 Train acc: 0.342, Test acc:0.334\n",
      "Epoch:41, Train loss: 11.55 Train acc: 0.335, Test acc:0.319\n",
      "Epoch:42, Train loss: 11.11 Train acc: 0.330, Test acc:0.302\n",
      "Epoch:43, Train loss: 10.66 Train acc: 0.359, Test acc:0.341\n",
      "Epoch:44, Train loss: 10.28 Train acc: 0.340, Test acc:0.317\n",
      "Epoch:45, Train loss: 9.89 Train acc: 0.354, Test acc:0.328\n",
      "Epoch:46, Train loss: 9.50 Train acc: 0.375, Test acc:0.365\n",
      "Epoch:47, Train loss: 9.15 Train acc: 0.392, Test acc:0.372\n",
      "Epoch:48, Train loss: 8.83 Train acc: 0.377, Test acc:0.363\n",
      "Epoch:49, Train loss: 8.51 Train acc: 0.375, Test acc:0.360\n",
      "Epoch:50, Train loss: 8.23 Train acc: 0.378, Test acc:0.361\n",
      "Epoch:51, Train loss: 7.92 Train acc: 0.414, Test acc:0.393\n",
      "Epoch:52, Train loss: 7.67 Train acc: 0.426, Test acc:0.409\n",
      "Epoch:53, Train loss: 7.41 Train acc: 0.411, Test acc:0.394\n",
      "Epoch:54, Train loss: 7.18 Train acc: 0.433, Test acc:0.406\n",
      "Epoch:55, Train loss: 6.97 Train acc: 0.401, Test acc:0.389\n",
      "Epoch:56, Train loss: 6.73 Train acc: 0.429, Test acc:0.412\n",
      "Epoch:57, Train loss: 6.52 Train acc: 0.431, Test acc:0.414\n",
      "Epoch:58, Train loss: 6.33 Train acc: 0.426, Test acc:0.406\n",
      "Epoch:59, Train loss: 6.14 Train acc: 0.427, Test acc:0.414\n",
      "Epoch:60, Train loss: 5.96 Train acc: 0.452, Test acc:0.423\n",
      "Epoch:61, Train loss: 5.80 Train acc: 0.434, Test acc:0.416\n",
      "Epoch:62, Train loss: 5.64 Train acc: 0.452, Test acc:0.431\n",
      "Epoch:63, Train loss: 5.50 Train acc: 0.471, Test acc:0.451\n",
      "Epoch:64, Train loss: 5.34 Train acc: 0.493, Test acc:0.467\n",
      "Epoch:65, Train loss: 5.23 Train acc: 0.467, Test acc:0.443\n",
      "Epoch:66, Train loss: 5.11 Train acc: 0.448, Test acc:0.428\n",
      "Epoch:67, Train loss: 4.98 Train acc: 0.475, Test acc:0.461\n",
      "Epoch:68, Train loss: 4.86 Train acc: 0.468, Test acc:0.451\n",
      "Epoch:69, Train loss: 4.75 Train acc: 0.455, Test acc:0.439\n",
      "Epoch:70, Train loss: 4.65 Train acc: 0.499, Test acc:0.476\n",
      "Epoch:71, Train loss: 4.54 Train acc: 0.500, Test acc:0.481\n",
      "Epoch:72, Train loss: 4.45 Train acc: 0.494, Test acc:0.481\n",
      "Epoch:73, Train loss: 4.38 Train acc: 0.496, Test acc:0.483\n",
      "Epoch:74, Train loss: 4.33 Train acc: 0.445, Test acc:0.427\n",
      "Epoch:75, Train loss: 4.22 Train acc: 0.504, Test acc:0.492\n",
      "Epoch:76, Train loss: 4.15 Train acc: 0.509, Test acc:0.490\n",
      "Epoch:77, Train loss: 4.07 Train acc: 0.490, Test acc:0.474\n",
      "Epoch:78, Train loss: 4.00 Train acc: 0.498, Test acc:0.479\n",
      "Epoch:79, Train loss: 3.94 Train acc: 0.512, Test acc:0.492\n",
      "Epoch:80, Train loss: 3.87 Train acc: 0.529, Test acc:0.514\n",
      "Epoch:81, Train loss: 3.84 Train acc: 0.490, Test acc:0.470\n",
      "Epoch:82, Train loss: 3.79 Train acc: 0.507, Test acc:0.495\n",
      "Epoch:83, Train loss: 3.75 Train acc: 0.495, Test acc:0.478\n",
      "Epoch:84, Train loss: 3.71 Train acc: 0.483, Test acc:0.475\n",
      "Epoch:85, Train loss: 3.65 Train acc: 0.510, Test acc:0.499\n",
      "Epoch:86, Train loss: 3.63 Train acc: 0.463, Test acc:0.455\n",
      "Epoch:87, Train loss: 3.57 Train acc: 0.499, Test acc:0.493\n",
      "Epoch:88, Train loss: 3.52 Train acc: 0.496, Test acc:0.479\n",
      "Epoch:89, Train loss: 3.49 Train acc: 0.495, Test acc:0.489\n",
      "Epoch:90, Train loss: 3.46 Train acc: 0.493, Test acc:0.474\n",
      "Epoch:91, Train loss: 3.43 Train acc: 0.503, Test acc:0.486\n",
      "Epoch:92, Train loss: 3.43 Train acc: 0.515, Test acc:0.505\n",
      "Epoch:93, Train loss: 3.39 Train acc: 0.505, Test acc:0.499\n",
      "Epoch:94, Train loss: 3.34 Train acc: 0.541, Test acc:0.529\n",
      "Epoch:95, Train loss: 3.34 Train acc: 0.507, Test acc:0.495\n",
      "Epoch:96, Train loss: 3.32 Train acc: 0.484, Test acc:0.466\n",
      "Epoch:97, Train loss: 3.29 Train acc: 0.517, Test acc:0.502\n",
      "Epoch:98, Train loss: 3.27 Train acc: 0.521, Test acc:0.501\n",
      "Epoch:99, Train loss: 3.26 Train acc: 0.524, Test acc:0.501\n",
      "Epoch:100, Train loss: 3.22 Train acc: 0.516, Test acc:0.495\n",
      "Epoch:101, Train loss: 3.22 Train acc: 0.492, Test acc:0.474\n",
      "Epoch:102, Train loss: 3.21 Train acc: 0.517, Test acc:0.503\n",
      "Epoch:103, Train loss: 3.20 Train acc: 0.488, Test acc:0.477\n",
      "Epoch:104, Train loss: 3.17 Train acc: 0.511, Test acc:0.495\n",
      "Epoch:105, Train loss: 3.15 Train acc: 0.521, Test acc:0.503\n",
      "Epoch:106, Train loss: 3.15 Train acc: 0.527, Test acc:0.506\n",
      "Epoch:107, Train loss: 3.13 Train acc: 0.550, Test acc:0.536\n",
      "Epoch:108, Train loss: 3.12 Train acc: 0.519, Test acc:0.498\n",
      "Epoch:109, Train loss: 3.14 Train acc: 0.506, Test acc:0.496\n",
      "Epoch:110, Train loss: 3.12 Train acc: 0.502, Test acc:0.491\n",
      "Epoch:111, Train loss: 3.12 Train acc: 0.501, Test acc:0.494\n",
      "Epoch:112, Train loss: 3.13 Train acc: 0.464, Test acc:0.459\n",
      "Epoch:113, Train loss: 3.11 Train acc: 0.516, Test acc:0.507\n",
      "Epoch:114, Train loss: 3.08 Train acc: 0.531, Test acc:0.523\n",
      "Epoch:115, Train loss: 3.09 Train acc: 0.501, Test acc:0.490\n",
      "Epoch:116, Train loss: 3.07 Train acc: 0.530, Test acc:0.518\n",
      "Epoch:117, Train loss: 3.08 Train acc: 0.501, Test acc:0.493\n",
      "Epoch:118, Train loss: 3.06 Train acc: 0.518, Test acc:0.505\n",
      "Epoch:119, Train loss: 3.06 Train acc: 0.511, Test acc:0.497\n",
      "Epoch:120, Train loss: 3.06 Train acc: 0.502, Test acc:0.502\n",
      "Epoch:121, Train loss: 3.04 Train acc: 0.529, Test acc:0.524\n",
      "Epoch:122, Train loss: 3.04 Train acc: 0.529, Test acc:0.516\n",
      "Epoch:123, Train loss: 3.04 Train acc: 0.528, Test acc:0.513\n",
      "Epoch:124, Train loss: 3.05 Train acc: 0.506, Test acc:0.491\n",
      "Epoch:125, Train loss: 3.03 Train acc: 0.529, Test acc:0.523\n",
      "Epoch:126, Train loss: 3.06 Train acc: 0.523, Test acc:0.516\n",
      "Epoch:127, Train loss: 3.04 Train acc: 0.544, Test acc:0.538\n",
      "Epoch:128, Train loss: 3.04 Train acc: 0.521, Test acc:0.514\n",
      "Epoch:129, Train loss: 3.02 Train acc: 0.553, Test acc:0.544\n",
      "Epoch:130, Train loss: 3.00 Train acc: 0.567, Test acc:0.567\n",
      "Epoch:131, Train loss: 3.03 Train acc: 0.525, Test acc:0.513\n",
      "Epoch:132, Train loss: 3.03 Train acc: 0.530, Test acc:0.508\n",
      "Epoch:133, Train loss: 3.03 Train acc: 0.524, Test acc:0.515\n",
      "Epoch:134, Train loss: 3.00 Train acc: 0.551, Test acc:0.543\n",
      "Epoch:135, Train loss: 3.01 Train acc: 0.541, Test acc:0.532\n"
     ]
    },
    {
     "name": "stdout",
     "output_type": "stream",
     "text": [
      "Epoch:136, Train loss: 3.02 Train acc: 0.550, Test acc:0.549\n",
      "Epoch:137, Train loss: 3.04 Train acc: 0.505, Test acc:0.501\n",
      "Epoch:138, Train loss: 3.02 Train acc: 0.511, Test acc:0.491\n",
      "Epoch:139, Train loss: 3.03 Train acc: 0.514, Test acc:0.509\n",
      "Epoch:140, Train loss: 3.03 Train acc: 0.508, Test acc:0.497\n",
      "Epoch:141, Train loss: 3.02 Train acc: 0.520, Test acc:0.504\n",
      "Epoch:142, Train loss: 3.01 Train acc: 0.572, Test acc:0.561\n",
      "Epoch:143, Train loss: 3.01 Train acc: 0.530, Test acc:0.517\n",
      "Epoch:144, Train loss: 3.01 Train acc: 0.538, Test acc:0.522\n",
      "Epoch:145, Train loss: 2.99 Train acc: 0.550, Test acc:0.535\n",
      "Epoch:146, Train loss: 3.02 Train acc: 0.546, Test acc:0.538\n",
      "Epoch:147, Train loss: 3.03 Train acc: 0.531, Test acc:0.524\n",
      "Epoch:148, Train loss: 3.02 Train acc: 0.527, Test acc:0.511\n",
      "Epoch:149, Train loss: 3.00 Train acc: 0.536, Test acc:0.525\n"
     ]
    }
   ],
   "source": [
    "## Training parameters\n",
    "batch_size = 400\n",
    "epochs=150\n",
    "dropout_prob = 0.5\n",
    "training_accuracy = []\n",
    "training_loss = []\n",
    "testing_accuracy = []\n",
    "s.run(tf.global_variables_initializer())\n",
    "for epoch in range(epochs):    \n",
    "    arr = np.arange(X_train.shape[0])\n",
    "    np.random.shuffle(arr)\n",
    "    for index in range(0,X_train.shape[0],batch_size):\n",
    "        s.run(optimizer, {input_X: X_train.iloc[arr[index:index+batch_size]],\n",
    "                          input_y: y_train[arr[index:index+batch_size]],\n",
    "                        keep_prob:dropout_prob})\n",
    "    training_accuracy.append(s.run(accuracy, feed_dict= {input_X:X_train, \n",
    "                                                         input_y: y_train,keep_prob:1}))\n",
    "    training_loss.append(s.run(loss, {input_X: X_train, \n",
    "                                      input_y: y_train,keep_prob:1}))\n",
    "    \n",
    "    ## Evaluation of model\n",
    "    testing_accuracy.append(accuracy_score(y_test.argmax(1), \n",
    "                            s.run(predicted_y, {input_X: X_test,keep_prob:1}).argmax(1)))\n",
    "    print(\"Epoch:{0}, Train loss: {1:.2f} Train acc: {2:.3f}, Test acc:{3:.3f}\".format(epoch,\n",
    "                                                                    training_loss[epoch],\n",
    "                                                                    training_accuracy[epoch],\n",
    "                                                                   testing_accuracy[epoch]))\n"
   ]
  },
  {
   "cell_type": "code",
   "execution_count": 16,
   "metadata": {},
   "outputs": [
    {
     "data": {
      "image/png": "[encoded data removed]",
      "text/plain": [
       "<Figure size 432x288 with 1 Axes>"
      ]
     },
     "metadata": {
      "needs_background": "light"
     },
     "output_type": "display_data"
    },
    {
     "name": "stdout",
     "output_type": "stream",
     "text": [
      "Train Accuracy: 0.54\n",
      "Test Accuracy:0.52\n"
     ]
    }
   ],
   "source": [
    "## Plotting chart of training and testing accuracy as a function of iterations\n",
    "iterations = list(range(epochs))\n",
    "plt.plot(iterations, training_accuracy, label='Train')\n",
    "plt.plot(iterations, testing_accuracy, label='Test')\n",
    "plt.ylabel('Accuracy')\n",
    "plt.xlabel('iterations')\n",
    "plt.show()\n",
    "print(\"Train Accuracy: {0:.2f}\".format(training_accuracy[-1]))\n",
    "print(\"Test Accuracy:{0:.2f}\".format(testing_accuracy[-1]))"
   ]
  },
  {
   "cell_type": "code",
   "execution_count": null,
   "metadata": {},
   "outputs": [],
   "source": []
  }
 ],
 "metadata": {
  "kernelspec": {
   "display_name": "Python 3",
   "language": "python",
   "name": "python3"
  },
  "language_info": {
   "codemirror_mode": {
    "name": "ipython",
    "version": 3
   },
   "file_extension": ".py",
   "mimetype": "text/x-python",
   "name": "python",
   "nbconvert_exporter": "python",
   "pygments_lexer": "ipython3",
   "version": "3.7.6"
  }
 },
 "nbformat": 4,
 "nbformat_minor": 2
}
